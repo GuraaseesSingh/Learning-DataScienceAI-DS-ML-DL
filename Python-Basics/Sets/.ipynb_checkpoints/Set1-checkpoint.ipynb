{
 "cells": [
  {
   "cell_type": "raw",
   "id": "f654041d-2eea-4906-a6b9-cac454e72d82",
   "metadata": {},
   "source": [
    "Set : collection of unique elements\n"
   ]
  },
  {
   "cell_type": "code",
   "execution_count": null,
   "id": "72be8753-c771-4b0a-9e2a-ef9c6bb7c4f4",
   "metadata": {},
   "outputs": [],
   "source": [
    "union intersection discard remove clear difference symmetric difference "
   ]
  }
 ],
 "metadata": {
  "kernelspec": {
   "display_name": "Python 3 (ipykernel)",
   "language": "python",
   "name": "python3"
  },
  "language_info": {
   "codemirror_mode": {
    "name": "ipython",
    "version": 3
   },
   "file_extension": ".py",
   "mimetype": "text/x-python",
   "name": "python",
   "nbconvert_exporter": "python",
   "pygments_lexer": "ipython3",
   "version": "3.12.9"
  }
 },
 "nbformat": 4,
 "nbformat_minor": 5
}
