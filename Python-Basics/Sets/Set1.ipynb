{
 "cells": [
  {
   "cell_type": "raw",
   "id": "f654041d-2eea-4906-a6b9-cac454e72d82",
   "metadata": {},
   "source": [
    "Set : unordered collection of unique elements\n",
    "searching: O(1)"
   ]
  },
  {
   "cell_type": "markdown",
   "id": "085fc08c-bac5-4f43-bcf9-01cd0138047c",
   "metadata": {},
   "source": [
    "union intersection discard remove clear difference symmetric difference disjoint "
   ]
  },
  {
   "cell_type": "markdown",
   "id": "2d02e653-34f7-46f1-89df-01c8afef33b1",
   "metadata": {},
   "source": [
    "##Dictionary"
   ]
  },
  {
   "cell_type": "markdown",
   "id": "54206d6c-b794-4ea4-a29f-dbc3e939d1fe",
   "metadata": {},
   "source": [
    "unordered collection of key value pair\n",
    "mutable data Structure\n",
    "immutable keys\n",
    "dist functions \n",
    "traversal\n",
    "comprehension"
   ]
  },
  {
   "cell_type": "code",
   "execution_count": 4,
   "id": "08423b18-19bd-4278-85b3-7fd9c01c7675",
   "metadata": {},
   "outputs": [
    {
     "name": "stdout",
     "output_type": "stream",
     "text": [
      "{'a': 201, 'b': 202, 'c': 203}\n"
     ]
    }
   ],
   "source": [
    "dict = {\n",
    "\"a\":201,\n",
    "\"b\":202,\n",
    "\"c\":203\n",
    "\n",
    "}\n",
    "print(dict)"
   ]
  },
  {
   "cell_type": "markdown",
   "id": "06c34659-7055-4764-8659-5113f3b5fc2d",
   "metadata": {},
   "source": [
    "if key exits then it prints its value else it creates that key with value"
   ]
  },
  {
   "cell_type": "code",
   "execution_count": 5,
   "id": "0ca81cdc-538b-4a89-a43f-5867503e9c5b",
   "metadata": {},
   "outputs": [
    {
     "name": "stdout",
     "output_type": "stream",
     "text": [
      "{1: 'Num', 2: 'Num', 3: 'Num', 4: 'Num'}\n",
      "{'a': 201, 'b': 202, 'c': 203, 1: 'Num', 2: 'Num', 3: 'Num', 4: 'Num'}\n"
     ]
    }
   ],
   "source": [
    "d1 = dict.fromkeys([1,2,3,4], \"Num\")\n",
    "print(d1)\n",
    "dict.update(d1)\n",
    "print(dict)"
   ]
  },
  {
   "cell_type": "code",
   "execution_count": 6,
   "id": "663b23d8-286b-4959-81df-d00d1bac8468",
   "metadata": {},
   "outputs": [],
   "source": [
    "#Dictionary compreehension"
   ]
  },
  {
   "cell_type": "code",
   "execution_count": null,
   "id": "111f3e39-fedc-4c32-aab0-1cbfaad67a7f",
   "metadata": {},
   "outputs": [],
   "source": []
  }
 ],
 "metadata": {
  "kernelspec": {
   "display_name": "Python 3 (ipykernel)",
   "language": "python",
   "name": "python3"
  },
  "language_info": {
   "codemirror_mode": {
    "name": "ipython",
    "version": 3
   },
   "file_extension": ".py",
   "mimetype": "text/x-python",
   "name": "python",
   "nbconvert_exporter": "python",
   "pygments_lexer": "ipython3",
   "version": "3.12.9"
  }
 },
 "nbformat": 4,
 "nbformat_minor": 5
}
