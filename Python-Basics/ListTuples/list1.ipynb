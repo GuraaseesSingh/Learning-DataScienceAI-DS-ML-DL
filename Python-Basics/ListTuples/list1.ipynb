{
 "cells": [
  {
   "cell_type": "raw",
   "id": "b37f89ed-ae81-440e-a8bf-1100174eb752",
   "metadata": {},
   "source": [
    "List = Array = Collection of variables or heterogenous values\n",
    "8 byte = 64 bit per elemet\n",
    "\n"
   ]
  },
  {
   "cell_type": "code",
   "execution_count": 8,
   "id": "20b33d34-0d94-4d3b-abd6-85974edfa584",
   "metadata": {},
   "outputs": [
    {
     "name": "stdout",
     "output_type": "stream",
     "text": [
      "[1, 2, 34, 56, 7] 34 length of list is : 5 Negative indexing: 34\n"
     ]
    }
   ],
   "source": [
    "l = [1,2,34,56,7]\n",
    "print(l, l[2],\"length of list is :\",len(l),\"Negative indexing:\",l[-3])\n"
   ]
  },
  {
   "cell_type": "raw",
   "id": "a63ef091-6a73-4b46-b424-62e38937c468",
   "metadata": {},
   "source": [
    "\"is\" checks if address is same "
   ]
  },
  {
   "cell_type": "code",
   "execution_count": 9,
   "id": "db05f04c-603b-43c9-ac65-05a484b20c70",
   "metadata": {},
   "outputs": [],
   "source": [
    "l = [1,2,34,56,7]\n",
    "l2 = [1,2,34,56,7]\n",
    "l3 = [1,2,34,56,7]\n",
    "l4 = l2 # deep copy address is stored\n",
    "l5 = l2.copy() # shallow copy => the values get copied and stored"
   ]
  },
  {
   "cell_type": "raw",
   "id": "4e719143-dec9-444b-8b5c-4696a1a7c28d",
   "metadata": {},
   "source": [
    ".append , .pop functions used in list \n"
   ]
  },
  {
   "cell_type": "code",
   "execution_count": 18,
   "id": "e0a98507-2cee-4ee6-8e9d-75c40cf4e355",
   "metadata": {},
   "outputs": [
    {
     "name": "stdin",
     "output_type": "stream",
     "text": [
      " 1\n",
      " 2\n",
      " 3\n",
      " 45\n",
      " 67\n"
     ]
    },
    {
     "name": "stdout",
     "output_type": "stream",
     "text": [
      "[1, 2, 3, 45, 67]\n"
     ]
    }
   ],
   "source": [
    "n = 5\n",
    "l = []\n",
    "while n>0:\n",
    "    l.append(int(input()))\n",
    "    n-=1\n",
    "print(l) # can be done only using append as list is empty so u can't tak input like l[i] = int(inptu())\n",
    "    \n",
    "    "
   ]
  },
  {
   "cell_type": "code",
   "execution_count": 29,
   "id": "6ebf38d8-a515-4d3a-a34a-c6d14139c174",
   "metadata": {},
   "outputs": [
    {
     "name": "stdout",
     "output_type": "stream",
     "text": [
      "[1, 2, 3, 4, 5, 6]\n",
      "1\n",
      "[1, 2, 3, 4, 5]\n",
      "2\n",
      "[1, 2, 3, 4]\n",
      "3\n",
      "[1, 2, 3]\n"
     ]
    }
   ],
   "source": [
    "# For each loop\n",
    "# here i is iterator and l is iterable i.e iterable jispe we can perform function of iteration which is done using iteratori.e is i \n",
    "# for i in l:\n",
    "#     print(ele)\n",
    "#     l.pop()\n",
    "print(l)\n",
    "l =[1,2,3,4,5,6]\n",
    "for i in l:\n",
    "    print(i)\n",
    "    l.pop() # pop take place from end i.e value piche is udha ta hai\n",
    "    print(l)"
   ]
  },
  {
   "cell_type": "code",
   "execution_count": 34,
   "id": "1af52c5b-0c6a-49d4-9f3b-52b94e1c1dee",
   "metadata": {},
   "outputs": [
    {
     "name": "stdout",
     "output_type": "stream",
     "text": [
      "1\n",
      "2\n",
      "3\n",
      "2 3\n",
      "1 2\n",
      "0 1\n"
     ]
    }
   ],
   "source": [
    "for i in range(3):\n",
    "    print(l[i])\n",
    "for i in range(len(l) -1, -1,-1):\n",
    "    print(i,l[i])"
   ]
  },
  {
   "cell_type": "code",
   "execution_count": 36,
   "id": "45cecb8b-e3f9-4324-9f3a-5651a1c4e238",
   "metadata": {},
   "outputs": [
    {
     "name": "stdout",
     "output_type": "stream",
     "text": [
      "[1, 4, 9, 16, 25, 36, 49, 64, 81, 100]\n"
     ]
    }
   ],
   "source": [
    "# list of all square from 1 to 10\n",
    "l = []\n",
    "for i in range(1,11):\n",
    "    l.append(i**2)\n",
    "print(l)"
   ]
  },
  {
   "cell_type": "code",
   "execution_count": 37,
   "id": "75cc8541-100f-4497-aa0a-89103db9e3f5",
   "metadata": {},
   "outputs": [
    {
     "data": {
      "text/plain": [
       "False"
      ]
     },
     "execution_count": 37,
     "metadata": {},
     "output_type": "execute_result"
    }
   ],
   "source": [
    "# \"in\" operator to check if the value is in the list\n",
    "12 in l"
   ]
  },
  {
   "cell_type": "raw",
   "id": "4d449e77-0544-4ae1-bafc-40c181fbad44",
   "metadata": {},
   "source": [
    "List comprehension\n",
    "l = [valueToAppend | loop | condition]\n",
    "l = [val]*numOf_TimesTo_AddThe_Element_InTo_An_Array"
   ]
  },
  {
   "cell_type": "code",
   "execution_count": 40,
   "id": "8c0a2d43-e141-4da7-b4da-644fdd163665",
   "metadata": {},
   "outputs": [
    {
     "name": "stdout",
     "output_type": "stream",
     "text": [
      "[13, 25, 45, 73, 109, 153, 205, 265, 333, 409]\n",
      "[29, 53, 93, 149, 221, 309, 413, 533, 669, 821]\n"
     ]
    }
   ],
   "source": [
    "# list ke har value pe  formula laga ke new list mai output values store kardi\n",
    "a =[2*x +3 for x in l]\n",
    "print(l)\n",
    "print(a)"
   ]
  },
  {
   "cell_type": "code",
   "execution_count": 43,
   "id": "b6951caf-ad90-4eb4-8dda-cf047059eeb0",
   "metadata": {},
   "outputs": [
    {
     "name": "stdout",
     "output_type": "stream",
     "text": [
      "[1, 2, 3]\n",
      "[1, 2, 3, 4, 5, 6]\n"
     ]
    },
    {
     "data": {
      "text/plain": [
       "[3, 4, 5]"
      ]
     },
     "execution_count": 43,
     "metadata": {},
     "output_type": "execute_result"
    }
   ],
   "source": [
    "list1 =[1,2,3]\n",
    "list2 =[4,5,6]\n",
    "print(list1)\n",
    "#check methos from github repo\n",
    "list1 += list2\n",
    "print(list1)\n",
    "#Slicing \n",
    "# l[start:stop:step]\n",
    "list1[2:4:]\n",
    "list1[2:5:]"
   ]
  },
  {
   "cell_type": "markdown",
   "id": "648e3cbe-c7fb-43ac-9d72-8da99ba71049",
   "metadata": {},
   "source": [
    "#2D list "
   ]
  },
  {
   "cell_type": "code",
   "execution_count": 48,
   "id": "4935161b-6de1-448d-9dd1-6e5cfd2722b3",
   "metadata": {},
   "outputs": [
    {
     "name": "stdin",
     "output_type": "stream",
     "text": [
      " 1\n",
      " 1\n",
      " 1\n",
      " 2\n",
      " 2\n",
      " 2\n",
      " 3\n",
      " 3\n",
      " 3\n"
     ]
    },
    {
     "name": "stdout",
     "output_type": "stream",
     "text": [
      "[[1, 1, 1], [2, 2, 2], [3, 3, 3]]\n"
     ]
    },
    {
     "name": "stdin",
     "output_type": "stream",
     "text": [
      " 1\n",
      " 1\n",
      " 1\n",
      " 2\n",
      " 2\n",
      " 2\n",
      " 3\n",
      " 3\n",
      " 3\n"
     ]
    }
   ],
   "source": [
    "\n",
    "l =[]\n",
    "\n",
    "for i in range(3):\n",
    "    li =[]\n",
    "    for j in range(3):\n",
    "        li.append(int(input()))\n",
    "    l.append(li)\n",
    "print(l)\n",
    "a = [[int(input()) for j in range(3)] for i in range(3)]\n",
    "print(a)\n",
    "        \n",
    "        \n",
    "  "
   ]
  },
  {
   "cell_type": "markdown",
   "id": "c7c2a079-3dce-4eb5-8958-110a0f661590",
   "metadata": {},
   "source": [
    "#() is tuple\n",
    "#Tuple is immutable i.e can't be modified"
   ]
  },
  {
   "cell_type": "code",
   "execution_count": 49,
   "id": "f76ba3bb-654c-450d-9c28-6cc41b2508e1",
   "metadata": {},
   "outputs": [
    {
     "name": "stdout",
     "output_type": "stream",
     "text": [
      "<class 'tuple'>\n"
     ]
    }
   ],
   "source": [
    "t = (1,2,3,4,5)\n",
    "print(type(t))"
   ]
  },
  {
   "cell_type": "code",
   "execution_count": 50,
   "id": "97bd3830-7ebb-4bcc-8906-204cb7d75697",
   "metadata": {},
   "outputs": [
    {
     "name": "stdout",
     "output_type": "stream",
     "text": [
      "(1, 2, 3, 4, 6)\n"
     ]
    },
    {
     "data": {
      "text/plain": [
       "((1, 2, 3, 4, 6), (1, 2, 3, 4, 6), 2)"
      ]
     },
     "execution_count": 50,
     "metadata": {},
     "output_type": "execute_result"
    }
   ],
   "source": [
    "# Creating tuple without ()\n",
    "a = 1,2,3,4,6\n",
    "print(a) #this is called packing \n",
    "a,a,2 #this is called packing "
   ]
  },
  {
   "cell_type": "code",
   "execution_count": 51,
   "id": "271b3b2b-4b15-47fa-b29d-80cada394720",
   "metadata": {},
   "outputs": [
    {
     "name": "stdout",
     "output_type": "stream",
     "text": [
      "1 [2, 3, 4] 5\n"
     ]
    }
   ],
   "source": [
    "# rest operator in python ... = *\n",
    "# * gives a list\n",
    "t = 1,2,3,4,5\n",
    "a,*b,c = t\n",
    "print(a,b,c)"
   ]
  },
  {
   "cell_type": "code",
   "execution_count": null,
   "id": "8b0c3a27-ceec-4af1-8689-c681d251e773",
   "metadata": {},
   "outputs": [],
   "source": []
  }
 ],
 "metadata": {
  "kernelspec": {
   "display_name": "Python 3 (ipykernel)",
   "language": "python",
   "name": "python3"
  },
  "language_info": {
   "codemirror_mode": {
    "name": "ipython",
    "version": 3
   },
   "file_extension": ".py",
   "mimetype": "text/x-python",
   "name": "python",
   "nbconvert_exporter": "python",
   "pygments_lexer": "ipython3",
   "version": "3.12.9"
  }
 },
 "nbformat": 4,
 "nbformat_minor": 5
}
