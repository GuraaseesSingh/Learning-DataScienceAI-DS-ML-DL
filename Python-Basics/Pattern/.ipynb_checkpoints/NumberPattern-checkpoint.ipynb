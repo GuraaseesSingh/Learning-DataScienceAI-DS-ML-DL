{
 "cells": [
  {
   "cell_type": "markdown",
   "id": "5b4ed36a-0558-4196-bf36-f4f0d5a1ef99",
   "metadata": {},
   "source": [
    "forget number print using star first "
   ]
  },
  {
   "cell_type": "code",
   "execution_count": 4,
   "id": "2d1833c4-cde5-4b82-9ab0-66876905f80b",
   "metadata": {},
   "outputs": [
    {
     "name": "stdout",
     "output_type": "stream",
     "text": [
      "            1  \n",
      "         1  1  1  \n",
      "      1  1  1  1  1  \n",
      "   1  1  1  1  1  1  1  \n",
      "1  1  1  1  1  1  1  1  1  \n"
     ]
    }
   ],
   "source": [
    "n = 5\n",
    "row = 1\n",
    "nsp = n-1\n",
    "nst = 1\n",
    "while row <= n:\n",
    "    # space\n",
    "    i = 1\n",
    "    while i <=nsp:\n",
    "        print(\" \", end =\"  \")\n",
    "        i +=1\n",
    "    i = 1 \n",
    "    while i <=nst:\n",
    "        print(\"1\", end =\"  \")\n",
    "        i +=1\n",
    "    row +=1\n",
    "    nst +=2\n",
    "    nsp -=1\n",
    "    print()\n",
    "        \n",
    "        \n",
    "    "
   ]
  },
  {
   "cell_type": "code",
   "execution_count": 8,
   "id": "ca37a290-adf3-47a0-aba7-bfe5ec91e250",
   "metadata": {},
   "outputs": [
    {
     "name": "stdout",
     "output_type": "stream",
     "text": [
      "            1  \n",
      "         1  2  1  \n",
      "      1  2  3  2  1  \n",
      "   1  2  3  4  3  2  1  \n",
      "1  2  3  4  5  4  3  2  1  \n"
     ]
    }
   ],
   "source": [
    "n = 5\n",
    "row = 1\n",
    "nsp = n-1\n",
    "nst = 1\n",
    "val = 1\n",
    "while row <= n:\n",
    "    # space\n",
    "    i = 1\n",
    "    while i <=nsp:\n",
    "        print(\" \", end =\"  \")\n",
    "        i +=1\n",
    "    i = 1 \n",
    "    cval = val \n",
    "    while i <=nst:\n",
    "        print(cval, end =\"  \")\n",
    "        if i <= nst//2:\n",
    "            cval +=1\n",
    "        else:\n",
    "            cval -=1\n",
    "            \n",
    "        i +=1\n",
    "    row +=1\n",
    "    # val  = n//2\n",
    "    nst +=2\n",
    "    nsp -=1\n",
    "    print()\n",
    "        "
   ]
  },
  {
   "cell_type": "code",
   "execution_count": 10,
   "id": "6951320e-a9da-4dbf-9220-c84db1b26f3e",
   "metadata": {},
   "outputs": [
    {
     "name": "stdout",
     "output_type": "stream",
     "text": [
      "            1  \n",
      "         2  3  2  \n",
      "      3  4  5  4  3  \n",
      "   4  5  6  7  6  5  4  \n",
      "5  6  7  8  9  8  7  6  5  \n"
     ]
    }
   ],
   "source": [
    "n = 5\n",
    "row = 1\n",
    "nsp = n-1\n",
    "nst = 1\n",
    "val = 1\n",
    "while row <= n:\n",
    "    # space\n",
    "    i = 1\n",
    "    while i <=nsp:\n",
    "        print(\" \", end =\"  \")\n",
    "        i +=1\n",
    "    i = 1 \n",
    "    cval = val \n",
    "    while i <=nst:\n",
    "        print(cval, end =\"  \")\n",
    "        if i <= nst//2:\n",
    "            cval +=1\n",
    "        else:\n",
    "            cval -=1\n",
    "            \n",
    "        i +=1\n",
    "    row +=1\n",
    "    val  +=1\n",
    "    nst +=2\n",
    "    nsp -=1\n",
    "    print()\n",
    "    "
   ]
  },
  {
   "cell_type": "code",
   "execution_count": 18,
   "id": "3c9913c0-b39a-4d30-9c7b-9bc145e0dbd3",
   "metadata": {},
   "outputs": [
    {
     "name": "stdout",
     "output_type": "stream",
     "text": [
      "5 4 3 2 * \n",
      "5 4 3 * 1 \n",
      "5 4 * 2 1 \n",
      "5 * 3 2 1 \n",
      "* 4 3 2 1 \n"
     ]
    }
   ],
   "source": [
    "row =5\n",
    "j =1\n",
    "val = 5\n",
    "idx = val\n",
    "while j<=row:\n",
    "   i = 1\n",
    "   cval = val\n",
    "   while i <=row:\n",
    "       \n",
    "       if i ==idx:\n",
    "           print(\"*\",end = \" \")\n",
    "           idx-=1\n",
    "           cval -= 1\n",
    "       else:    \n",
    "           print(cval,end = \" \")\n",
    "           cval -= 1\n",
    "       i+=1\n",
    "   j+=1\n",
    "   \n",
    "   print()\n",
    "   "
   ]
  },
  {
   "cell_type": "code",
   "execution_count": 28,
   "id": "3b3565e4-9f72-41e1-804f-875c8cd6fc15",
   "metadata": {},
   "outputs": [
    {
     "name": "stdout",
     "output_type": "stream",
     "text": [
      "                  1  \n",
      "            2  1     1  2  \n",
      "      3  2  1           1  2  3  \n",
      "4  3  2  1                 1  2  3  4  \n",
      "      3  2  1           1  2  3  \n",
      "            2  1     1  2  \n",
      "                  1  \n"
     ]
    }
   ],
   "source": [
    "n = 7\n",
    "row = 1\n",
    "nsp = n-1\n",
    "nst = 1\n",
    "nspm = -1\n",
    "val = 1\n",
    "while row <= n:\n",
    "    # space\n",
    "    i = 1\n",
    "    while i <=nsp:\n",
    "        print(\" \", end =\"  \")\n",
    "        i +=1\n",
    "   # star\n",
    "    i = 1 \n",
    "    cval = val\n",
    "    while i <=nst:\n",
    "        print(cval, end =\"  \")\n",
    "        i +=1\n",
    "        cval -=1\n",
    "    # space\n",
    "    i = 1\n",
    "    while i <= nspm:\n",
    "        print(\" \", end =\"  \")\n",
    "        i +=1\n",
    "    # star\n",
    "    if(row ==1 or row ==n):\n",
    "        i =2\n",
    "    else:\n",
    "        i = 1 \n",
    "    cval = 1\n",
    "    while i <=nst:\n",
    "        print(cval, end =\"  \")\n",
    "        i +=1\n",
    "        cval +=1\n",
    "    \n",
    "    if row <= (n//2):\n",
    "        nst +=1\n",
    "        nspm +=2\n",
    "        nsp -=2\n",
    "        val +=1\n",
    "    else:\n",
    "        nst -=1\n",
    "        nspm -=2\n",
    "        nsp +=2\n",
    "        val -=1\n",
    "    row +=1\n",
    "    \n",
    "        \n",
    "        \n",
    "    print()\n",
    "        "
   ]
  },
  {
   "cell_type": "code",
   "execution_count": 5,
   "id": "aa249c51-45fc-46f6-970e-99998170de57",
   "metadata": {},
   "outputs": [
    {
     "name": "stdout",
     "output_type": "stream",
     "text": [
      "5                   5 \n",
      "5 4               4 5 \n",
      "5 4 3           3 4 5 \n",
      "5 4 3 2       2 3 4 5 \n",
      "5 4 3 2 1   1 2 3 4 5 \n",
      "5 4 3 2 1 0 1 2 3 4 5 6 \n",
      "5 4 3 2 1   1 2 3 4 5 \n",
      "5 4 3 2       2 3 4 5 \n",
      "5 4 3           3 4 5 \n",
      "5 4               4 5 \n",
      "5                   5 \n"
     ]
    }
   ],
   "source": [
    "n =5\n",
    "row = 1\n",
    "nst = 1\n",
    "val = n\n",
    "nsp = 2*n-1\n",
    "while row<= 2*n+1:\n",
    "    # star\n",
    "    i = 1\n",
    "    cval = val\n",
    "    while i <=nst:\n",
    "        print(cval, end = \" \")\n",
    "        cval -=1\n",
    "        i+=1\n",
    "    # space\n",
    "    i = 1\n",
    "    # cval = val\n",
    "    while i <=nsp:\n",
    "        print(\" \", end = \" \")\n",
    "        # cval -=1\n",
    "        i+=1\n",
    "    # star\n",
    "    i = 1\n",
    "    cval += 1\n",
    "    # cval = 0\n",
    "    while i <=nst:\n",
    "        if(row ==n+1 and i==1):\n",
    "            cval+=1\n",
    "        if(row ==n+1 and i==nst):\n",
    "            cval+=1\n",
    "        # q = n-cval\n",
    "        print(cval, end = \" \")\n",
    "        cval +=1\n",
    "        i+=1\n",
    "    if row <=n:\n",
    "        nsp -=2\n",
    "        nst +=1\n",
    "    else:\n",
    "        nsp +=2\n",
    "        nst -=1\n",
    "    row+=1\n",
    "    print()"
   ]
  },
  {
   "cell_type": "code",
   "execution_count": null,
   "id": "ad20ec4f-b043-47f7-8f23-1aa8535d3650",
   "metadata": {},
   "outputs": [],
   "source": []
  }
 ],
 "metadata": {
  "kernelspec": {
   "display_name": "Python 3 (ipykernel)",
   "language": "python",
   "name": "python3"
  },
  "language_info": {
   "codemirror_mode": {
    "name": "ipython",
    "version": 3
   },
   "file_extension": ".py",
   "mimetype": "text/x-python",
   "name": "python",
   "nbconvert_exporter": "python",
   "pygments_lexer": "ipython3",
   "version": "3.12.9"
  }
 },
 "nbformat": 4,
 "nbformat_minor": 5
}
