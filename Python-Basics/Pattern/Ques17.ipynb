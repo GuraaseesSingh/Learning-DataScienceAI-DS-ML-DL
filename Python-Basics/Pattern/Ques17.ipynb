{
 "cells": [
  {
   "cell_type": "markdown",
   "id": "e174b8ec-6958-4cc9-9ea2-59a762cc426b",
   "metadata": {},
   "source": [
    "Ques 17\n"
   ]
  },
  {
   "cell_type": "code",
   "execution_count": 4,
   "id": "1d1cf849-fb98-4958-8b2a-15d6c26b8d53",
   "metadata": {},
   "outputs": [
    {
     "name": "stdout",
     "output_type": "stream",
     "text": [
      "* * *   * * * \n",
      "* *       * * \n",
      "*           * \n",
      "              \n",
      "*           * \n",
      "* *       * * \n",
      "* * *   * * * \n"
     ]
    }
   ],
   "source": [
    "# star space star \n",
    "n = 7\n",
    "row = 1\n",
    "nst = n//2\n",
    "nsp = 1\n",
    "while row <=n:\n",
    "    # star\n",
    "    i = 1\n",
    "    while i <= nst:\n",
    "        print('*' , end =' ')\n",
    "        i +=1\n",
    "    #space\n",
    "    i = 1\n",
    "    while i <= nsp:\n",
    "        print(\" \", end =\" \")\n",
    "        i +=1\n",
    "\n",
    "    # star\n",
    "    i = 1\n",
    "    while i <= nst:\n",
    "        print('*' , end =' ')\n",
    "        i +=1\n",
    "\n",
    "    if row <= n//2:\n",
    "        nsp +=2\n",
    "        nst -=1\n",
    "    else:\n",
    "        nsp -=2\n",
    "        nst +=1\n",
    "\n",
    "    row +=1\n",
    "    print()\n",
    "        \n",
    "    "
   ]
  },
  {
   "cell_type": "markdown",
   "id": "2fa53a8c-4d86-4341-a278-4e80fb5ad36e",
   "metadata": {},
   "source": [
    "ques 14"
   ]
  },
  {
   "cell_type": "code",
   "execution_count": null,
   "id": "200350de-b7da-45c0-b785-33a55568c707",
   "metadata": {},
   "outputs": [],
   "source": []
  }
 ],
 "metadata": {
  "kernelspec": {
   "display_name": "Python 3 (ipykernel)",
   "language": "python",
   "name": "python3"
  },
  "language_info": {
   "codemirror_mode": {
    "name": "ipython",
    "version": 3
   },
   "file_extension": ".py",
   "mimetype": "text/x-python",
   "name": "python",
   "nbconvert_exporter": "python",
   "pygments_lexer": "ipython3",
   "version": "3.12.9"
  }
 },
 "nbformat": 4,
 "nbformat_minor": 5
}
