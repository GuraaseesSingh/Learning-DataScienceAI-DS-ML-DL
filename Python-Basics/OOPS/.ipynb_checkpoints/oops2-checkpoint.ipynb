{
 "cells": [
  {
   "cell_type": "code",
   "execution_count": 1,
   "id": "9338ca48-2bd1-4814-885c-458b7b1d2f84",
   "metadata": {},
   "outputs": [
    {
     "name": "stdout",
     "output_type": "stream",
     "text": [
      "10\n"
     ]
    }
   ],
   "source": [
    "x = -10\n",
    "print(abs(x))\n"
   ]
  },
  {
   "cell_type": "code",
   "execution_count": 2,
   "id": "2dbd24d6-f7a5-484d-858d-3a538bee062d",
   "metadata": {},
   "outputs": [
    {
     "data": {
      "text/plain": [
       "False"
      ]
     },
     "execution_count": 2,
     "metadata": {},
     "output_type": "execute_result"
    }
   ],
   "source": [
    "all([True,1,-11,'a',False])"
   ]
  },
  {
   "cell_type": "markdown",
   "id": "18f2aea9-c7e2-4558-9712-dc142032e629",
   "metadata": {},
   "source": [
    "all is and operator which returns true if all values are true.\n",
    "any is or operator which returns true if any 1 value is true."
   ]
  },
  {
   "cell_type": "code",
   "execution_count": 5,
   "id": "48050ef6-3e46-478c-8123-20bbecd08a03",
   "metadata": {},
   "outputs": [
    {
     "data": {
      "text/plain": [
       "False"
      ]
     },
     "execution_count": 5,
     "metadata": {},
     "output_type": "execute_result"
    }
   ],
   "source": [
    "bool(None)"
   ]
  },
  {
   "cell_type": "code",
   "execution_count": 6,
   "id": "241a75d5-a007-47e5-aae3-f7a4b5b84092",
   "metadata": {},
   "outputs": [
    {
     "data": {
      "text/plain": [
       "True"
      ]
     },
     "execution_count": 6,
     "metadata": {},
     "output_type": "execute_result"
    }
   ],
   "source": [
    "any([True,1,-11,'a',False])"
   ]
  },
  {
   "cell_type": "code",
   "execution_count": 7,
   "id": "e73d007c-724f-4feb-9908-60d211e11193",
   "metadata": {},
   "outputs": [],
   "source": [
    "# Imp functions is enumerate filter"
   ]
  },
  {
   "cell_type": "code",
   "execution_count": 10,
   "id": "512edc37-0b35-43ec-9381-21152117a363",
   "metadata": {},
   "outputs": [
    {
     "name": "stdout",
     "output_type": "stream",
     "text": [
      "1 292\n",
      "2 20\n",
      "3 10\n",
      "4 sde\n",
      "5 30\n"
     ]
    }
   ],
   "source": [
    "#enumerate returns pair of index,value in pair i.e tuple\n",
    "l = {10,20,30,'sde',292}\n",
    "for idx , ele in enumerate(l,1):\n",
    "    print(idx,ele)\n"
   ]
  },
  {
   "cell_type": "code",
   "execution_count": 12,
   "id": "93598816-0b2a-4a78-bb7a-2cfff4cdc9bb",
   "metadata": {},
   "outputs": [
    {
     "name": "stdout",
     "output_type": "stream",
     "text": [
      "[40, 50, 60, 70, 80, 90]\n"
     ]
    }
   ],
   "source": [
    " l = [i*10 for i in range(1,101)]\n",
    "nl = list(filter(lambda x: 30<x<=90,l))\n",
    "print(nl)\n"
   ]
  },
  {
   "cell_type": "code",
   "execution_count": 17,
   "id": "0ef1d762-4461-443d-aa0c-3bf6faa518cf",
   "metadata": {},
   "outputs": [
    {
     "name": "stdout",
     "output_type": "stream",
     "text": [
      "[(1, 40), (2, 50), (3, 60), (4, 70), (5, 80), (6, 90)]\n"
     ]
    }
   ],
   "source": [
    "ap = []\n",
    "for i in enumerate(nl,1):\n",
    "    ap.append(i)\n",
    "print(ap)"
   ]
  },
  {
   "cell_type": "code",
   "execution_count": 27,
   "id": "03cb4ab0-196d-4700-9353-ba282df79494",
   "metadata": {},
   "outputs": [
    {
     "name": "stdout",
     "output_type": "stream",
     "text": [
      "(2, 50)\n",
      "(3, 60)\n",
      "(4, 70)\n",
      "(5, 80)\n"
     ]
    }
   ],
   "source": [
    "for i in filter(lambda i :50<=i[1]<=80,ap):\n",
    "    print(i)"
   ]
  },
  {
   "cell_type": "code",
   "execution_count": 31,
   "id": "1579d6df-3213-4985-9598-06d4ab9f89d9",
   "metadata": {},
   "outputs": [
    {
     "name": "stdout",
     "output_type": "stream",
     "text": [
      "22\n",
      "23\n",
      "24\n",
      "25\n",
      "26\n",
      "27\n",
      "28\n"
     ]
    }
   ],
   "source": [
    "# filter mai check ho rha hai and based on condition being true we get the o/p \n",
    "# map function works th efunction on all input/values of the list\n",
    "adf = (1,2,3,4,5,6,7)\n",
    "for ele in map(lambda x : x+21,adf):\n",
    "    print(ele)\n"
   ]
  },
  {
   "cell_type": "code",
   "execution_count": 33,
   "id": "883baddb-40d4-4f01-b55e-e2304ec308a0",
   "metadata": {},
   "outputs": [
    {
     "data": {
      "text/plain": [
       "90"
      ]
     },
     "execution_count": 33,
     "metadata": {},
     "output_type": "execute_result"
    }
   ],
   "source": [
    "from functools import reduce\n",
    "reduce(max,[2,3,5,7,89,90])"
   ]
  },
  {
   "cell_type": "code",
   "execution_count": 34,
   "id": "3593fc4b-75e8-40b5-9fc0-af596f6d8693",
   "metadata": {},
   "outputs": [],
   "source": [
    "class Car:\n",
    "\n",
    "    def __init__(self,brand,color,mileage):\n",
    "        self.brand = brand\n",
    "        self.color = color\n",
    "        self.mileage = mileage\n",
    "\n",
    "    def __add__(self,other):\n",
    "        return Car(self.brand,other.color,self.mileage+other.mileage)\n",
    "\n",
    "    def __len__(self):\n",
    "        return len(self.brand)+len(self.color)\n",
    "\n",
    "    def __str__(self):\n",
    "        return f\"brand: {self.brand},color: {self.color},mileage: {self.mileage}\"\n"
   ]
  },
  {
   "cell_type": "code",
   "execution_count": 35,
   "id": "90888ae9-a58e-4157-bcb3-cbd56ea63bf5",
   "metadata": {},
   "outputs": [],
   "source": [
    "c1 = Car(\"Toyota\",\"White\",20)\n",
    "c2 = Car(\"Honda\",\"Black\",10)\n",
    "c3 = Car(\"Toyota\",\"White\",50)\n",
    "c4= Car(\"Honda\",\"Black\",30)\n",
    "cars= [c1,c2,c3,c4]"
   ]
  },
  {
   "cell_type": "code",
   "execution_count": 39,
   "id": "55bf52be-a781-4c4f-b25d-356ffc8b70ef",
   "metadata": {},
   "outputs": [
    {
     "name": "stdout",
     "output_type": "stream",
     "text": [
      "brand: Honda,color: Black,mileage: 10\n",
      "brand: Toyota,color: White,mileage: 20\n",
      "brand: Honda,color: Black,mileage: 30\n",
      "brand: Toyota,color: White,mileage: 50\n"
     ]
    }
   ],
   "source": [
    "cars = sorted(cars,key=lambda x: x.mileage)\n",
    "for i in cars:\n",
    "    print(i)"
   ]
  },
  {
   "cell_type": "code",
   "execution_count": 46,
   "id": "8f99f5eb-2510-4e65-8dd2-566260cb2b91",
   "metadata": {},
   "outputs": [],
   "source": [
    "import math\n",
    "import myModule as mm\n"
   ]
  },
  {
   "cell_type": "code",
   "execution_count": 47,
   "id": "7730614d-7023-4aa9-a219-f71cf3d9d969",
   "metadata": {},
   "outputs": [
    {
     "name": "stdout",
     "output_type": "stream",
     "text": [
      "1 moduleeeee\n",
      "1 moduleeeee\n"
     ]
    }
   ],
   "source": [
    "mm.moduleW()"
   ]
  },
  {
   "cell_type": "code",
   "execution_count": 3,
   "id": "93933b32-1216-4f94-9639-9650b9216a1d",
   "metadata": {},
   "outputs": [
    {
     "name": "stdout",
     "output_type": "stream",
     "text": [
      "1 mode\n",
      "1 mode\n",
      "A\n"
     ]
    }
   ],
   "source": [
    "from myModule import add,A\n",
    "add()\n",
    "A()\n"
   ]
  },
  {
   "cell_type": "code",
   "execution_count": null,
   "id": "8de9f96c-cc3c-4f9b-a097-c3927681289f",
   "metadata": {},
   "outputs": [],
   "source": []
  }
 ],
 "metadata": {
  "kernelspec": {
   "display_name": "Python 3 (ipykernel)",
   "language": "python",
   "name": "python3"
  },
  "language_info": {
   "codemirror_mode": {
    "name": "ipython",
    "version": 3
   },
   "file_extension": ".py",
   "mimetype": "text/x-python",
   "name": "python",
   "nbconvert_exporter": "python",
   "pygments_lexer": "ipython3",
   "version": "3.12.9"
  }
 },
 "nbformat": 4,
 "nbformat_minor": 5
}
