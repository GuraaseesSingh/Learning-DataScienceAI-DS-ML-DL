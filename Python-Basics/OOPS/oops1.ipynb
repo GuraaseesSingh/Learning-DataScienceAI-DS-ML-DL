{
 "cells": [
  {
   "cell_type": "markdown",
   "id": "027b8e02-59dc-43a0-9acf-4af7de8ccdb4",
   "metadata": {},
   "source": [
    "ONly way to make data member in python is to create object then using dot operator to create the data member in object\n"
   ]
  },
  {
   "cell_type": "code",
   "execution_count": 8,
   "id": "8bc35974-e914-4ff9-828b-2206ce4609fe",
   "metadata": {},
   "outputs": [],
   "source": [
    "class Person:\n",
    "    def __init__(self,name ='xyz',age =0):\n",
    "        self.name = name\n",
    "        self.age = age\n",
    "    def sayHi(self):\n",
    "        print(\"Hi\")\n",
    "    def sayHi(self,ot):\n",
    "        print(f\"hi {ot}\")\n"
   ]
  },
  {
   "cell_type": "code",
   "execution_count": 2,
   "id": "27eefc69-1856-42e5-adaa-b1d4fe56acbf",
   "metadata": {},
   "outputs": [
    {
     "name": "stdout",
     "output_type": "stream",
     "text": [
      "Hi\n"
     ]
    }
   ],
   "source": [
    "p1 = Person()\n",
    "p1.sayHi()"
   ]
  },
  {
   "cell_type": "code",
   "execution_count": 4,
   "id": "9759c40a-ba28-4aa8-92cc-12948c82780d",
   "metadata": {},
   "outputs": [
    {
     "name": "stdout",
     "output_type": "stream",
     "text": [
      "kj gram\n"
     ]
    }
   ],
   "source": [
    "p1.name = \"kj\"\n",
    "p1.beta = \"gram\"\n",
    "print(p1.name,p1.beta)"
   ]
  },
  {
   "cell_type": "code",
   "execution_count": 10,
   "id": "17d7704f-67c4-4f6c-893d-cfc2224b9df0",
   "metadata": {},
   "outputs": [
    {
     "name": "stdout",
     "output_type": "stream",
     "text": [
      "hi sasha\n"
     ]
    }
   ],
   "source": [
    "p2 = Person()\n",
    "p2.sayHi(\"sasha\")\n"
   ]
  },
  {
   "cell_type": "code",
   "execution_count": 11,
   "id": "d4e8474a-af9a-4ca2-b00e-74d623e08217",
   "metadata": {},
   "outputs": [],
   "source": [
    "class Dog:\n",
    "    legs = 4\n",
    "    tail =1\n",
    "    tricks =[]\n",
    "    def bark(self,sound = \"katt katt\"):\n",
    "        print(sound)\n",
    "        "
   ]
  },
  {
   "cell_type": "code",
   "execution_count": 12,
   "id": "53fdaaf4-a389-49e8-ac77-6a2a6434a76c",
   "metadata": {},
   "outputs": [
    {
     "name": "stdout",
     "output_type": "stream",
     "text": [
      "katt katt\n"
     ]
    }
   ],
   "source": [
    "Dog().bark()"
   ]
  },
  {
   "cell_type": "code",
   "execution_count": 13,
   "id": "2c75e4b1-8878-441e-9fba-2ad089e9c591",
   "metadata": {},
   "outputs": [],
   "source": [
    "a = Dog()"
   ]
  },
  {
   "cell_type": "code",
   "execution_count": 14,
   "id": "f6b51029-bb71-453a-9f19-53ce23027439",
   "metadata": {},
   "outputs": [
    {
     "name": "stdout",
     "output_type": "stream",
     "text": [
      "noinoi\n"
     ]
    }
   ],
   "source": [
    "a.bark(\"noinoi\")"
   ]
  },
  {
   "cell_type": "code",
   "execution_count": 15,
   "id": "700eb47d-92ec-4c83-9f55-2af21f8f169e",
   "metadata": {},
   "outputs": [
    {
     "data": {
      "text/plain": [
       "1"
      ]
     },
     "execution_count": 15,
     "metadata": {},
     "output_type": "execute_result"
    }
   ],
   "source": [
    "a.tail"
   ]
  },
  {
   "cell_type": "code",
   "execution_count": 17,
   "id": "7149d23d-e5d1-4bef-8ebc-7cabb2cd9b07",
   "metadata": {},
   "outputs": [
    {
     "data": {
      "text/plain": [
       "4"
      ]
     },
     "execution_count": 17,
     "metadata": {},
     "output_type": "execute_result"
    }
   ],
   "source": [
    "a.tail = 4\n",
    "a.tail"
   ]
  },
  {
   "cell_type": "code",
   "execution_count": 18,
   "id": "d9cb095e-1b4a-47b3-bca4-2412bccf80e6",
   "metadata": {},
   "outputs": [
    {
     "data": {
      "text/plain": [
       "1"
      ]
     },
     "execution_count": 18,
     "metadata": {},
     "output_type": "execute_result"
    }
   ],
   "source": [
    "c = Dog()\n",
    "c.tail"
   ]
  },
  {
   "cell_type": "code",
   "execution_count": 31,
   "id": "9a115b16-b4e1-4eee-bcab-32557e5a288f",
   "metadata": {},
   "outputs": [],
   "source": [
    "class Person:\n",
    "    a = 1\n",
    "    def __init__(self,name=\"X\",age=a):\n",
    "        self.name = name\n",
    "        self.age = age\n",
    "        print(name,age)\n",
    "    a +=1\n",
    "        "
   ]
  },
  {
   "cell_type": "code",
   "execution_count": 36,
   "id": "e0fd1cec-0e87-432d-b180-1af5400a680b",
   "metadata": {},
   "outputs": [
    {
     "name": "stdout",
     "output_type": "stream",
     "text": [
      "X 1\n",
      "X 1\n",
      "as 12\n"
     ]
    }
   ],
   "source": [
    "class Child(Person):\n",
    "    # super ka use \n",
    "    # dunder\n",
    "    pass\n",
    "a = Person()\n",
    "b = Person()\n",
    "c = Child(\"as\",12)\n"
   ]
  },
  {
   "cell_type": "code",
   "execution_count": 38,
   "id": "5831b038-5473-48a4-8e9a-e32fc69dae44",
   "metadata": {},
   "outputs": [],
   "source": [
    "# redefine dunder ke premade functions \n",
    "# i.e dunder object mai se add ya baaki ki defination redefine kardo \n"
   ]
  },
  {
   "cell_type": "code",
   "execution_count": 39,
   "id": "323916c1-9180-4875-9164-3dde5a8e862f",
   "metadata": {},
   "outputs": [],
   "source": [
    "#mro"
   ]
  }
 ],
 "metadata": {
  "kernelspec": {
   "display_name": "Python 3 (ipykernel)",
   "language": "python",
   "name": "python3"
  },
  "language_info": {
   "codemirror_mode": {
    "name": "ipython",
    "version": 3
   },
   "file_extension": ".py",
   "mimetype": "text/x-python",
   "name": "python",
   "nbconvert_exporter": "python",
   "pygments_lexer": "ipython3",
   "version": "3.12.9"
  }
 },
 "nbformat": 4,
 "nbformat_minor": 5
}
