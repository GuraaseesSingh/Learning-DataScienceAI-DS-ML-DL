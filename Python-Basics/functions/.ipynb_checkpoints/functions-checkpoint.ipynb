{
 "cells": [
  {
   "cell_type": "markdown",
   "id": "055ed23a-e256-408c-add1-c3afc21bac8b",
   "metadata": {},
   "source": [
    "only functionand classes are callable\n",
    "function=>object"
   ]
  },
  {
   "cell_type": "markdown",
   "id": "0cda6974-eff0-4d62-ac51-40a5ed004908",
   "metadata": {},
   "source": [
    "function overloading not in python\n"
   ]
  },
  {
   "cell_type": "markdown",
   "id": "4ba9a514-8090-4114-89cd-933f5c398523",
   "metadata": {},
   "source": [
    "stack and heap memory\n",
    "\n"
   ]
  },
  {
   "cell_type": "markdown",
   "id": "7569f37f-00c9-4b9f-a4b6-2892ec898668",
   "metadata": {},
   "source": [
    "parameter => since function maybe for some functionality /feature and would need and have some requirement so e add parameter to make it dynamic"
   ]
  },
  {
   "cell_type": "markdown",
   "id": "c9f1f02d-139d-4aca-ba88-9576df5304fc",
   "metadata": {},
   "source": [
    "jupyter ide does print last statement's output\n",
    "Arguments and its types\n",
    "usage of * and /\n"
   ]
  },
  {
   "cell_type": "code",
   "execution_count": 34,
   "id": "7d422d71-b360-4e70-9f8a-28c7b12dacf8",
   "metadata": {},
   "outputs": [],
   "source": [
    "def add_sub(a,b,c,d=18):\n",
    "    global e\n",
    "    global q\n",
    "    q = a+b\n",
    "    r = c-d\n",
    "    e = 0\n",
    "    return q*e,r*e\n",
    "def fn():\n",
    "    print(e)\n",
    "    print(q)"
   ]
  },
  {
   "cell_type": "code",
   "execution_count": 35,
   "id": "16b63d83-3bb8-42c0-9247-c237ea4cbb67",
   "metadata": {},
   "outputs": [
    {
     "name": "stdout",
     "output_type": "stream",
     "text": [
      "1\n",
      "0 (0, 0) 1 9\n",
      "5\n",
      "30\n",
      "0\n",
      "0\n",
      "30\n"
     ]
    }
   ],
   "source": [
    "e =1\n",
    "print(e)\n",
    "q =add_sub(12,18,18)\n",
    "print(e,q,1,9)\n",
    "q = 5\n",
    "print(q)\n",
    "add_sub(12,18,18)\n",
    "print(q)\n",
    "print(e)\n",
    "fn()\n",
    "\n",
    "\n",
    "\n"
   ]
  },
  {
   "cell_type": "markdown",
   "id": "5c18d5af-a410-41a3-9ade-dd87c0136b89",
   "metadata": {},
   "source": [
    "doc"
   ]
  },
  {
   "cell_type": "code",
   "execution_count": 29,
   "id": "ed072c5e-da88-4591-8783-97adce1251b3",
   "metadata": {},
   "outputs": [
    {
     "name": "stdout",
     "output_type": "stream",
     "text": [
      "Object `def` not found.\n"
     ]
    }
   ],
   "source": [
    "def?\n"
   ]
  },
  {
   "cell_type": "markdown",
   "id": "5f0937ab-e51b-4585-ad2c-b282c134ab92",
   "metadata": {},
   "source": [
    "Local VS Global doubt hai mujhe\n",
    "-type hints just used for doc cpurpose to tell user what function expects as input and what it would give as output"
   ]
  },
  {
   "cell_type": "markdown",
   "id": "6ea694ec-9b27-4895-a03d-85e9d2849916",
   "metadata": {},
   "source": [
    "Arguments \n",
    "    -positional args\n",
    "    -keyword args\n",
    "    -default args\n",
    "phele positional args then keyword arg"
   ]
  },
  {
   "cell_type": "markdown",
   "id": "84dffe10-9fc3-43b8-93b6-c4af5a8e7d3b",
   "metadata": {},
   "source": [
    "Anonymous Function : lambda function"
   ]
  },
  {
   "cell_type": "code",
   "execution_count": 32,
   "id": "d8eed695-3649-43d5-9470-072e7c95bd7f",
   "metadata": {},
   "outputs": [
    {
     "data": {
      "text/plain": [
       "<function __main__.<lambda>(x, y, z)>"
      ]
     },
     "execution_count": 32,
     "metadata": {},
     "output_type": "execute_result"
    }
   ],
   "source": [
    "lambda x,y,z: a+b+z"
   ]
  },
  {
   "cell_type": "markdown",
   "id": "05526ad3-ce9d-4987-8f3d-47a97b984067",
   "metadata": {},
   "source": [
    "Garbage collector => automatically works and deletes all ref variable =0 wale objects "
   ]
  },
  {
   "cell_type": "code",
   "execution_count": 37,
   "id": "5d2f27a6-1eae-4e1f-83e2-e1470a79e0f7",
   "metadata": {},
   "outputs": [
    {
     "name": "stdout",
     "output_type": "stream",
     "text": [
      "2\n"
     ]
    }
   ],
   "source": [
    "def ad(a):\n",
    "    print(a)\n",
    "ad(2)    "
   ]
  },
  {
   "cell_type": "code",
   "execution_count": 38,
   "id": "ebe3aa57-fefd-4114-8a15-db22104e1ae8",
   "metadata": {},
   "outputs": [],
   "source": [
    "del ad"
   ]
  },
  {
   "cell_type": "markdown",
   "id": "2e1290d8-ce8c-46fa-ab4b-75d18c00a350",
   "metadata": {},
   "source": [
    "del used to delete ad function from heap \n",
    "|||||| In above function ad was used but not ref count was 1 so after usage we deleted it "
   ]
  },
  {
   "cell_type": "markdown",
   "id": "341c4b48-1a6d-4192-9c08-5cf1ebd6e626",
   "metadata": {},
   "source": [
    "nonlocal x used in nested functions \n",
    "gloabl used in both nested and normal function "
   ]
  },
  {
   "cell_type": "markdown",
   "id": "b5d7fd8e-eec8-4db1-80c4-a806532d9a2b",
   "metadata": {},
   "source": [
    "function Decorators arbitary arguments pending "
   ]
  },
  {
   "cell_type": "markdown",
   "id": "7af76707-b412-4068-b275-d65389628a88",
   "metadata": {},
   "source": [
    "Armstrong number print from 1 to n \n",
    "isArmstrong\n",
    "numOfDigits\n"
   ]
  },
  {
   "cell_type": "code",
   "execution_count": 48,
   "id": "e9ac185b-71ee-4112-ab9f-ad020971f293",
   "metadata": {},
   "outputs": [
    {
     "name": "stdin",
     "output_type": "stream",
     "text": [
      "enter number uptil u want the armstrong numbers:  1000\n"
     ]
    },
    {
     "name": "stdout",
     "output_type": "stream",
     "text": [
      "0\n",
      "1\n",
      "2\n",
      "3\n",
      "4\n",
      "5\n",
      "6\n",
      "7\n",
      "8\n",
      "9\n",
      "153\n",
      "370\n",
      "371\n",
      "407\n"
     ]
    }
   ],
   "source": [
    "a = int(input(\"enter number uptil u want the armstrong numbers: \"))\n",
    "def isArmstrong(i):\n",
    "    b = i\n",
    "    sum =0\n",
    "    rem = 0\n",
    "    powr = len(str(i))\n",
    "    while(b>0):\n",
    "        rem = b%10\n",
    "        b =b//10\n",
    "        sum += rem**powr\n",
    "    if(i ==sum):\n",
    "        return True\n",
    "    else:\n",
    "        return False\n",
    "for i in range(0,a):\n",
    "    if isArmstrong(i)==True:\n",
    "        print(i)\n",
    "  \n",
    " \n",
    "        \n",
    "        \n",
    "    \n",
    "    "
   ]
  },
  {
   "cell_type": "markdown",
   "id": "232937f6-0682-4365-82d1-18bd39848c35",
   "metadata": {},
   "source": [
    "Positional and keyword arguments\n",
    "\n"
   ]
  },
  {
   "cell_type": "markdown",
   "id": "7124e994-e60c-4c89-b35a-ca1638b65c50",
   "metadata": {},
   "source": [
    "Rest operator = * in python\n"
   ]
  },
  {
   "cell_type": "markdown",
   "id": "8ddddde4-e7b9-40cf-9624-772ef61cbc35",
   "metadata": {},
   "source": [
    "* =  type tuple\n",
    "** = type dictionary "
   ]
  },
  {
   "cell_type": "code",
   "execution_count": 2,
   "id": "6c2b96bb-29b1-4f30-9e4c-8fa639e71d29",
   "metadata": {},
   "outputs": [
    {
     "name": "stdout",
     "output_type": "stream",
     "text": [
      "(4, 5, 6, 7, 8, 9) <class 'tuple'>\n"
     ]
    }
   ],
   "source": [
    "def fn(a,b,c,*d):\n",
    "    print(d, type(d))\n",
    "fn(1,2,3,4,5,6,7,8,9)"
   ]
  },
  {
   "cell_type": "code",
   "execution_count": 4,
   "id": "c18f5740-e3c5-416e-8db4-4ad6710fb3c5",
   "metadata": {},
   "outputs": [
    {
     "name": "stdout",
     "output_type": "stream",
     "text": [
      "{'n': 5, 'e': 5, 'f': 6, 'l': 7, 'm': 8} <class 'dict'> 1\n"
     ]
    }
   ],
   "source": [
    "def fn(a,b,c,**d):\n",
    "    print(d, type(d),a)\n",
    "fn(1,2,3,n=5,e=5,f=6,l=7,m=8)\n"
   ]
  },
  {
   "cell_type": "markdown",
   "id": "133c1176-956a-492e-8f5b-5cb4d4138b98",
   "metadata": {},
   "source": [
    "ABove concept we packed the extra arguments"
   ]
  },
  {
   "cell_type": "markdown",
   "id": "23aa46c6-68d6-43df-b7d1-598f62498aba",
   "metadata": {},
   "source": [
    "We can unpack them"
   ]
  },
  {
   "cell_type": "code",
   "execution_count": 5,
   "id": "02a82e74-942c-49d4-b4cd-5b38d42ca1c7",
   "metadata": {},
   "outputs": [],
   "source": [
    "def fn(a,b):\n",
    "    print(a,b)\n",
    "    "
   ]
  },
  {
   "cell_type": "code",
   "execution_count": 8,
   "id": "aa761be1-bc0a-4d9b-aa19-fe1ca288526b",
   "metadata": {},
   "outputs": [
    {
     "name": "stdout",
     "output_type": "stream",
     "text": [
      "1 2\n",
      "1 33\n"
     ]
    }
   ],
   "source": [
    "t =(1,2)\n",
    "d ={\"a\":1,\"b\":33}\n",
    "fn(*t)\n",
    "fn(**d)\n"
   ]
  },
  {
   "cell_type": "code",
   "execution_count": 11,
   "id": "1a8cd61b-abda-4efa-8180-0f21b0d1537c",
   "metadata": {},
   "outputs": [
    {
     "name": "stdout",
     "output_type": "stream",
     "text": [
      "User Logged In!\n"
     ]
    }
   ],
   "source": [
    "user ={\"sec\":1, \"min\":2}\n",
    "def Oauth(usern,passwd):\n",
    "    if usern in user and passwd ==user[usern]:\n",
    "        print(\"User Logged In!\")\n",
    "    else:\n",
    "        print(\"Wrong\")\n",
    "Oauth(\"sec\",1)"
   ]
  },
  {
   "cell_type": "markdown",
   "id": "00afbe32-daa7-4c14-885c-0493f0c238e4",
   "metadata": {},
   "source": [
    "FUnction Decorator"
   ]
  },
  {
   "cell_type": "code",
   "execution_count": 13,
   "id": "58887b62-3aa4-4c0e-b648-39a621eaf72a",
   "metadata": {},
   "outputs": [
    {
     "ename": "SyntaxError",
     "evalue": "arguments cannot follow var-keyword argument (446423777.py, line 1)",
     "output_type": "error",
     "traceback": [
      "\u001b[1;36m  Cell \u001b[1;32mIn[13], line 1\u001b[1;36m\u001b[0m\n\u001b[1;33m    def wrapper(username,password,*args,**kwargs,fn):\u001b[0m\n\u001b[1;37m                                                 ^\u001b[0m\n\u001b[1;31mSyntaxError\u001b[0m\u001b[1;31m:\u001b[0m arguments cannot follow var-keyword argument\n"
     ]
    }
   ],
   "source": [
    "def wrapper(username,password,*args,**kwargs,fn):\n",
    "    if username in user and password ==user[username]:\n",
    "        return fn(*args,**kwargs)\n",
    "    else:\n",
    "        print(\"wrong username\")\n",
    "return wrapper\n",
    "\n",
    "def abx(a,b,c):\n",
    "    print(a*b*c)\n",
    "ac = wrapper(\"sec\",1,1,12,12,abx)\n",
    "\n",
    "# @authenticate is the function decorator\n"
   ]
  },
  {
   "cell_type": "code",
   "execution_count": 15,
   "id": "1fe9bc84-7a4c-4a27-9830-f95c259a97d6",
   "metadata": {},
   "outputs": [],
   "source": [
    "def iterx(start,stop,step =1):\n",
    "    i =start\n",
    "    while i <stop:\n",
    "        yield i\n",
    "        i +=step"
   ]
  },
  {
   "cell_type": "code",
   "execution_count": 27,
   "id": "083163d6-f5dd-4e9f-822d-7d3dbe9370cd",
   "metadata": {},
   "outputs": [],
   "source": [
    "iterator = iterx(1,10)"
   ]
  },
  {
   "cell_type": "code",
   "execution_count": 28,
   "id": "5578ae3a-c74e-49d9-bfeb-90db5a291fc7",
   "metadata": {},
   "outputs": [
    {
     "data": {
      "text/plain": [
       "1"
      ]
     },
     "execution_count": 28,
     "metadata": {},
     "output_type": "execute_result"
    }
   ],
   "source": [
    "next(iterator)"
   ]
  },
  {
   "cell_type": "code",
   "execution_count": 29,
   "id": "e1806a0f-decc-441b-9dc5-d01975a574c5",
   "metadata": {},
   "outputs": [
    {
     "name": "stdout",
     "output_type": "stream",
     "text": [
      "2\n",
      "3\n",
      "4\n",
      "5\n",
      "6\n",
      "7\n",
      "8\n",
      "9\n"
     ]
    }
   ],
   "source": [
    "for i in iterator:\n",
    "    print(i)"
   ]
  },
  {
   "cell_type": "code",
   "execution_count": null,
   "id": "4685315e-d354-42bd-979e-17cd76733ec8",
   "metadata": {},
   "outputs": [],
   "source": []
  },
  {
   "cell_type": "code",
   "execution_count": null,
   "id": "8a798b54-84e5-4f04-9be4-b717d52f411a",
   "metadata": {},
   "outputs": [],
   "source": []
  }
 ],
 "metadata": {
  "kernelspec": {
   "display_name": "Python 3 (ipykernel)",
   "language": "python",
   "name": "python3"
  },
  "language_info": {
   "codemirror_mode": {
    "name": "ipython",
    "version": 3
   },
   "file_extension": ".py",
   "mimetype": "text/x-python",
   "name": "python",
   "nbconvert_exporter": "python",
   "pygments_lexer": "ipython3",
   "version": "3.12.9"
  }
 },
 "nbformat": 4,
 "nbformat_minor": 5
}
