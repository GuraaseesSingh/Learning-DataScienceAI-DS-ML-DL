{
 "cells": [
  {
   "cell_type": "raw",
   "id": "2001d957-21eb-46a4-916c-31f82649f6d3",
   "metadata": {},
   "source": [
    "python intro\n",
    "markdown .md extensions"
   ]
  },
  {
   "cell_type": "code",
   "execution_count": 1,
   "id": "db852056-e08b-4c79-921d-2494834fc9de",
   "metadata": {},
   "outputs": [
    {
     "name": "stdout",
     "output_type": "stream",
     "text": [
      "10\n"
     ]
    }
   ],
   "source": [
    "print(10)"
   ]
  },
  {
   "cell_type": "markdown",
   "id": "639d1d89-d30c-4b57-b941-bb384f915de8",
   "metadata": {},
   "source": [
    "variable,keywords,identifier, comments \n",
    "code once run here would be stored in memory applicable for ipynb ."
   ]
  },
  {
   "cell_type": "code",
   "execution_count": 2,
   "id": "243a5b43-e350-4d13-83b1-f735129f5da1",
   "metadata": {},
   "outputs": [
    {
     "name": "stdout",
     "output_type": "stream",
     "text": [
      "12\n"
     ]
    }
   ],
   "source": [
    "d =12\n",
    "print(d)\n"
   ]
  },
  {
   "cell_type": "code",
   "execution_count": 11,
   "id": "f3ee6e31-eeaf-46da-9a1d-7028f4c8d471",
   "metadata": {},
   "outputs": [
    {
     "name": "stdout",
     "output_type": "stream",
     "text": [
      "['False', 'None', 'True', 'and', 'as', 'assert', 'async', 'await', 'break', 'class', 'continue', 'def', 'del', 'elif', 'else', 'except', 'finally', 'for', 'from', 'global', 'if', 'import', 'in', 'is', 'lambda', 'nonlocal', 'not', 'or', 'pass', 'raise', 'return', 'try', 'while', 'with', 'yield']\n",
      "35\n"
     ]
    }
   ],
   "source": [
    "import keyword\n",
    "print(keyword.kwlist)\n",
    "print(len(keyword.kwlist))"
   ]
  },
  {
   "cell_type": "code",
   "execution_count": 12,
   "id": "d539d55b-d964-48b1-9fc5-a934fa66a30a",
   "metadata": {},
   "outputs": [
    {
     "name": "stdout",
     "output_type": "stream",
     "text": [
      "10,20,30,40\n"
     ]
    }
   ],
   "source": [
    "print(10,20,30,40,sep =',')"
   ]
  },
  {
   "cell_type": "code",
   "execution_count": 13,
   "id": "07cc5125-8295-4421-93c1-9d072599d24a",
   "metadata": {},
   "outputs": [
    {
     "name": "stdout",
     "output_type": "stream",
     "text": [
      "10 20 30 40\t50 60\n"
     ]
    }
   ],
   "source": [
    "print(10,20,30,40,end='\\t')\n",
    "print(50,60)\n",
    "\n"
   ]
  },
  {
   "cell_type": "markdown",
   "id": "76030e63-40f4-4f3c-b6f6-4fac3ce2fa25",
   "metadata": {},
   "source": [
    "stack and heap memory allocation concept \n",
    "variable are of type determined during run time."
   ]
  },
  {
   "cell_type": "code",
   "execution_count": 15,
   "id": "5247c3b5-289e-4cf2-ac11-49dee68ee13e",
   "metadata": {},
   "outputs": [
    {
     "name": "stdout",
     "output_type": "stream",
     "text": [
      "<class 'int'>\n"
     ]
    },
    {
     "data": {
      "text/plain": [
       "140708736592600"
      ]
     },
     "execution_count": 15,
     "metadata": {},
     "output_type": "execute_result"
    }
   ],
   "source": [
    "a = 10\n",
    "print(type(a))\n",
    "id(a)\n",
    "# id gives the memory address from heap where the content of variable is stored gives address after hashing."
   ]
  },
  {
   "cell_type": "markdown",
   "id": "5186944a-ff23-4e94-8210-ee0734bcb142",
   "metadata": {},
   "source": [
    "Typecasting and datatypes\n"
   ]
  },
  {
   "cell_type": "code",
   "execution_count": 17,
   "id": "0adf062f-f30e-4ec6-ba1e-0b757017e903",
   "metadata": {},
   "outputs": [
    {
     "name": "stdout",
     "output_type": "stream",
     "text": [
      "266\n"
     ]
    }
   ],
   "source": [
    "s= '10a'\n",
    "print(int(s,base=16))\n",
    "# a becomes 97 so s = 1097 then converted by 16 base "
   ]
  },
  {
   "cell_type": "markdown",
   "id": "a342a3cc-2b3b-4d95-a54e-30621ec63d47",
   "metadata": {},
   "source": [
    "ASCII VALUES\n"
   ]
  },
  {
   "cell_type": "code",
   "execution_count": 18,
   "id": "fdcae1d0-ab88-4d8f-b2ee-ddc3bb5f6f86",
   "metadata": {},
   "outputs": [
    {
     "data": {
      "text/plain": [
       "97"
      ]
     },
     "execution_count": 18,
     "metadata": {},
     "output_type": "execute_result"
    }
   ],
   "source": [
    "ord('a')\n",
    "# to get ascii value"
   ]
  },
  {
   "cell_type": "code",
   "execution_count": 19,
   "id": "bc11a940-0a8b-47ff-8484-b4bd65c1726f",
   "metadata": {},
   "outputs": [
    {
     "data": {
      "text/plain": [
       "'a'"
      ]
     },
     "execution_count": 19,
     "metadata": {},
     "output_type": "execute_result"
    }
   ],
   "source": [
    "chr(97)\n",
    "# digit corresponding to variable"
   ]
  },
  {
   "cell_type": "markdown",
   "id": "caad677e-1789-4cf0-86c5-f0d0375d6b93",
   "metadata": {},
   "source": [
    "# Operators"
   ]
  },
  {
   "cell_type": "code",
   "execution_count": 20,
   "id": "198fb8c5-b974-4647-999f-ece810b7efc0",
   "metadata": {},
   "outputs": [
    {
     "name": "stdout",
     "output_type": "stream",
     "text": [
      "13\n",
      "7\n",
      "3.3333333333333335\n",
      "3\n",
      "1\n",
      "1000\n"
     ]
    }
   ],
   "source": [
    "a= 10\n",
    "b = 3\n",
    "print(a+b)\n",
    "print(a-b)\n",
    "print(a/b)\n",
    "print(a//b)\n",
    "print(a%b)\n",
    "print(a**b)"
   ]
  },
  {
   "cell_type": "markdown",
   "id": "3862deb0-bb71-4143-a790-24907d74f9b6",
   "metadata": {},
   "source": [
    "# default value in any variable is ?"
   ]
  },
  {
   "cell_type": "code",
   "execution_count": 26,
   "id": "d2fb5ee5-523f-4d3a-9c9e-6ab3b4826148",
   "metadata": {},
   "outputs": [
    {
     "name": "stdout",
     "output_type": "stream",
     "text": [
      "True\n"
     ]
    },
    {
     "data": {
      "text/plain": [
       "False"
      ]
     },
     "execution_count": 26,
     "metadata": {},
     "output_type": "execute_result"
    }
   ],
   "source": [
    "a =1000\n",
    "b =1000\n",
    "print(a == b)\n",
    "a is b "
   ]
  },
  {
   "cell_type": "markdown",
   "id": "58f7a227-b0e1-4f13-b427-c89dd8a2dc42",
   "metadata": {},
   "source": [
    "loops,ternary operator,Binary Operator"
   ]
  },
  {
   "cell_type": "code",
   "execution_count": 32,
   "id": "7580f7e6-420e-42f9-b24a-5cad977713fd",
   "metadata": {},
   "outputs": [
    {
     "name": "stdout",
     "output_type": "stream",
     "text": [
      "1000|1000\n",
      "got it!\n"
     ]
    }
   ],
   "source": [
    "if a>b:\n",
    " print(a)\n",
    "elif a==b:\n",
    "    print(a,b,sep = \"|\")\n",
    "    print('got it!')\n",
    "else :\n",
    "         print(b)\n"
   ]
  },
  {
   "cell_type": "code",
   "execution_count": 44,
   "id": "4dad57cf-7ae4-47c3-a296-b483eca46e5b",
   "metadata": {},
   "outputs": [
    {
     "name": "stdin",
     "output_type": "stream",
     "text": [
      "enter Marks of student 738\n"
     ]
    },
    {
     "name": "stdout",
     "output_type": "stream",
     "text": [
      "A\n"
     ]
    }
   ],
   "source": [
    "a= int(input(\"enter Marks of student\"))\n",
    "if 100>=a>=80:\n",
    "    print('A')\n",
    "elif a>=60:\n",
    "    print('B')\n",
    "elif a>=40:\n",
    "    print('C')\n",
    "else:\n",
    "    if a<0: \n",
    "        print('invalid')\n",
    "    else :\n",
    "        print('F')"
   ]
  },
  {
   "cell_type": "markdown",
   "id": "caade31e-c761-4017-97d1-66f211981fc1",
   "metadata": {},
   "source": [
    "# user input \n",
    "Default type of input is string so we typecasted to int as we wanted int\n",
    "int(input(\"enter Marks of student\"))  "
   ]
  },
  {
   "cell_type": "markdown",
   "id": "958bde26-c262-44c5-af9b-7c18bcf8f3fc",
   "metadata": {},
   "source": [
    "## while loop\n"
   ]
  },
  {
   "cell_type": "code",
   "execution_count": 52,
   "id": "f3c86830-fbb2-4025-a530-1ee82100f952",
   "metadata": {},
   "outputs": [
    {
     "name": "stdin",
     "output_type": "stream",
     "text": [
      "enter number to get sum of n natural numbers 3\n"
     ]
    },
    {
     "name": "stdout",
     "output_type": "stream",
     "text": [
      "sum of n natural no is: 6\n",
      "6\n"
     ]
    }
   ],
   "source": [
    "# i = int(input(\"enter number uptil you want prime number\"))\n",
    "j = int(input(\"enter number to get sum of n natural numbers\"))\n",
    "print(\"sum of n natural no is:\" , int((j/2)*(1+j)))\n",
    "sum = 0\n",
    "while j >0:\n",
    "    sum +=j\n",
    "    j-=1\n",
    "print(sum)"
   ]
  },
  {
   "cell_type": "code",
   "execution_count": 58,
   "id": "c9742d40-e5e7-40da-80b9-261e21ac29bb",
   "metadata": {},
   "outputs": [
    {
     "name": "stdin",
     "output_type": "stream",
     "text": [
      "enter number whose factors u want 12\n"
     ]
    },
    {
     "name": "stdout",
     "output_type": "stream",
     "text": [
      "1\n",
      "2\n",
      "3\n",
      "4\n",
      "6\n",
      "12\n",
      "prime\n"
     ]
    }
   ],
   "source": [
    "i = int(input(\"enter number whose factors u want\"))\n",
    "j =1\n",
    "c = 1\n",
    "while i>=j:\n",
    "    if i%j ==0:\n",
    "        print(j)\n",
    "        c+=1\n",
    "    j+=1\n",
    "if c ==0:\n",
    "    print('prime')\n",
    "else :\n",
    "    print('Not prime')\n",
    "      \n",
    "    \n",
    "    "
   ]
  },
  {
   "cell_type": "markdown",
   "id": "e7cb3c81-1ef1-4cc9-a732-e9b52758799f",
   "metadata": {},
   "source": [
    "\n",
    "1 -100 prime and 1234 num of digits "
   ]
  },
  {
   "cell_type": "code",
   "execution_count": null,
   "id": "50e49829-e324-4fba-843a-eb72507cf713",
   "metadata": {},
   "outputs": [],
   "source": []
  }
 ],
 "metadata": {
  "kernelspec": {
   "display_name": "Python 3 (ipykernel)",
   "language": "python",
   "name": "python3"
  },
  "language_info": {
   "codemirror_mode": {
    "name": "ipython",
    "version": 3
   },
   "file_extension": ".py",
   "mimetype": "text/x-python",
   "name": "python",
   "nbconvert_exporter": "python",
   "pygments_lexer": "ipython3",
   "version": "3.12.9"
  }
 },
 "nbformat": 4,
 "nbformat_minor": 5
}
