{
 "cells": [
  {
   "cell_type": "markdown",
   "id": "e4a79a68-b267-46bb-872d-d8abd6adbaaa",
   "metadata": {},
   "source": [
    "# HW Ques\n"
   ]
  },
  {
   "cell_type": "markdown",
   "id": "5f1aa741-d007-4591-a4ba-33fa5f6b399d",
   "metadata": {},
   "source": [
    "## Q1. To Print prime numbers from 1 - n.\n",
    "## Q2. To Print num of digits in an integer.\n",
    "\n"
   ]
  },
  {
   "cell_type": "code",
   "execution_count": 3,
   "id": "d3d9b117-618b-49a4-8119-b70972b73da1",
   "metadata": {},
   "outputs": [
    {
     "name": "stdout",
     "output_type": "stream",
     "text": [
      "enter num 22\n"
     ]
    },
    {
     "name": "stdout",
     "output_type": "stream",
     "text": [
      "2 3 5 7 11 13 17 19 "
     ]
    }
   ],
   "source": [
    "# ans 1\n",
    "n = int(input(\"enter num\"))\n",
    "num = 1 \n",
    "while num <= n:\n",
    "    if num > 1:  \n",
    "        i = 2\n",
    "        while i * i <= num:  \n",
    "            if num % i == 0:\n",
    "                break  \n",
    "            i += 1\n",
    "        else:\n",
    "            print(num, end=\" \") \n",
    "    num += 1 "
   ]
  },
  {
   "cell_type": "code",
   "execution_count": 22,
   "id": "d5517d30-1d63-45c2-ba48-1d2eebc8492e",
   "metadata": {},
   "outputs": [
    {
     "name": "stdout",
     "output_type": "stream",
     "text": [
      "Enter num 66\n"
     ]
    },
    {
     "name": "stdout",
     "output_type": "stream",
     "text": [
      "2\n"
     ]
    }
   ],
   "source": [
    "#ans2 \n",
    "limit = int(input(\"Enter num\"))\n",
    "c =0\n",
    "if limit == 0:\n",
    "    c =1\n",
    "else:\n",
    "    while limit >0:\n",
    "       limit  = limit//10\n",
    "       c+=1\n",
    "print(c)    \n"
   ]
  },
  {
   "cell_type": "code",
   "execution_count": 8,
   "id": "1b0200d8-ff7f-4f76-92f2-c77073641708",
   "metadata": {},
   "outputs": [
    {
     "name": "stdout",
     "output_type": "stream",
     "text": [
      "Prime\n"
     ]
    }
   ],
   "source": [
    "num = 19\n",
    "i = 2\n",
    "c = 0 \n",
    "\n",
    "if num < 2:\n",
    "    print('Not Prime')\n",
    "else:\n",
    "    while i < num:  \n",
    "        if num % i == 0:\n",
    "            c += 1\n",
    "            break  # Stop if a divisor is found\n",
    "        i += 1  # Move to the next divisor\n",
    "\n",
    "    if c > 0:  \n",
    "        print(\"Not Prime\")\n",
    "    else:\n",
    "        print(\"Prime\")\n",
    "\n",
    "\n",
    "    \n",
    "    "
   ]
  },
  {
   "cell_type": "code",
   "execution_count": 2,
   "id": "d44d0f44-c666-442f-b508-12f4909a50b3",
   "metadata": {},
   "outputs": [
    {
     "name": "stdout",
     "output_type": "stream",
     "text": [
      "2 is Prime\n",
      "3 is Prime\n",
      "5 is Prime\n",
      "7 is Prime\n",
      "11 is Prime\n",
      "13 is Prime\n",
      "17 is Prime\n",
      "19 is Prime\n"
     ]
    }
   ],
   "source": [
    "# p =1\n",
    "# num = 19\n",
    "# while p <num:\n",
    "#     i = 2\n",
    "#     c = 0  # Counter for divisors\n",
    "\n",
    "#     if num < 2:\n",
    "#       print('Not Prime')\n",
    "#     else:\n",
    "#       while i*i < num:  # Check divisibility from 2 to num-1\n",
    "#         if p % i == 0:\n",
    "#             c += 1\n",
    "#             break  # Stop if a divisor is found\n",
    "#         i += 1  # Move to the next divisor\n",
    "\n",
    "#       if c > 0:  \n",
    "#         print(\"Not Prime\")\n",
    "#       else:\n",
    "#         print(\"Prime\")\n",
    "\n",
    "#     p+=1\n",
    "\n",
    "p = 2  # Start from 2 since 1 is not prime\n",
    "num = 19\n",
    "\n",
    "while p <= num:  # Loop from 2 to 19\n",
    "    i = 2\n",
    "    c = 0  # Counter for divisors\n",
    "\n",
    "    while i * i <= p:  # Optimized prime check\n",
    "        if p % i == 0:\n",
    "            c += 1\n",
    "            break  # Stop if a divisor is found\n",
    "        i += 1\n",
    "\n",
    "    if c == 0:  \n",
    "        print(p, \"is Prime\")\n",
    "\n",
    "    p += 1  # Move to the next number\n"
   ]
  }
 ],
 "metadata": {
  "kernelspec": {
   "display_name": "Python 3 (ipykernel)",
   "language": "python",
   "name": "python3"
  },
  "language_info": {
   "codemirror_mode": {
    "name": "ipython",
    "version": 3
   },
   "file_extension": ".py",
   "mimetype": "text/x-python",
   "name": "python",
   "nbconvert_exporter": "python",
   "pygments_lexer": "ipython3",
   "version": "3.12.9"
  }
 },
 "nbformat": 4,
 "nbformat_minor": 5
}
