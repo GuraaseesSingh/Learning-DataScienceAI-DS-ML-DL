{
 "cells": [
  {
   "cell_type": "markdown",
   "id": "a10c5456-63e0-46b7-b7aa-0e1c8615baf4",
   "metadata": {},
   "source": [
    "## Day 1\n"
   ]
  },
  {
   "cell_type": "code",
   "execution_count": 1,
   "id": "c3e25009-b31d-41ac-996d-205204d46ddb",
   "metadata": {},
   "outputs": [],
   "source": [
    "import numpy as np "
   ]
  },
  {
   "cell_type": "code",
   "execution_count": 11,
   "id": "08e4149e-84d6-4627-926a-543b4bfe777e",
   "metadata": {},
   "outputs": [],
   "source": [
    "m1 = np.array([[1,3,6],[2,3,6],[5,7,9]])\n",
    "m1\n",
    "m2 = np.array([[1,3,6],[2,3,6],[5,7,9]])"
   ]
  },
  {
   "cell_type": "code",
   "execution_count": 7,
   "id": "15324a34-533d-449f-b28a-46dc2b2c3a22",
   "metadata": {},
   "outputs": [
    {
     "data": {
      "text/plain": [
       "np.float64(15.000000000000007)"
      ]
     },
     "execution_count": 7,
     "metadata": {},
     "output_type": "execute_result"
    }
   ],
   "source": [
    "np.linalg.det(m1)"
   ]
  },
  {
   "cell_type": "code",
   "execution_count": 10,
   "id": "627ad57b-da17-448b-a21b-1c77ada2ef32",
   "metadata": {},
   "outputs": [
    {
     "data": {
      "text/plain": [
       "array([[-1.00000000e+00,  1.00000000e+00,  8.88178420e-17],\n",
       "       [ 8.00000000e-01, -1.40000000e+00,  4.00000000e-01],\n",
       "       [-6.66666667e-02,  5.33333333e-01, -2.00000000e-01]])"
      ]
     },
     "execution_count": 10,
     "metadata": {},
     "output_type": "execute_result"
    }
   ],
   "source": [
    "np.linalg.inv(m1)"
   ]
  },
  {
   "cell_type": "code",
   "execution_count": 14,
   "id": "c2004429-02a5-4397-bc3a-0dbbe26f03da",
   "metadata": {},
   "outputs": [
    {
     "data": {
      "text/plain": [
       "array([[ 37,  54,  78],\n",
       "       [ 38,  57,  84],\n",
       "       [ 64,  99, 153]])"
      ]
     },
     "execution_count": 14,
     "metadata": {},
     "output_type": "execute_result"
    }
   ],
   "source": [
    "m1@m2\n",
    "# to do dot product"
   ]
  },
  {
   "cell_type": "code",
   "execution_count": 18,
   "id": "b03cedb9-47c9-4adc-b49d-7bf2d3859eb8",
   "metadata": {},
   "outputs": [
    {
     "data": {
      "text/plain": [
       "array([[ 37,  54,  78],\n",
       "       [ 38,  57,  84],\n",
       "       [ 64,  99, 153]])"
      ]
     },
     "execution_count": 18,
     "metadata": {},
     "output_type": "execute_result"
    }
   ],
   "source": [
    "\n",
    "np.dot(m1,m2)"
   ]
  },
  {
   "cell_type": "code",
   "execution_count": 19,
   "id": "2c951e33-b4eb-49a2-a7ad-009e6d961e47",
   "metadata": {},
   "outputs": [
    {
     "data": {
      "text/plain": [
       "array([[ 37,  54,  78],\n",
       "       [ 38,  57,  84],\n",
       "       [ 64,  99, 153]])"
      ]
     },
     "execution_count": 19,
     "metadata": {},
     "output_type": "execute_result"
    }
   ],
   "source": [
    "# or\\\n",
    "\n",
    "m1.dot(m2)"
   ]
  },
  {
   "cell_type": "code",
   "execution_count": 20,
   "id": "37a99c63-8891-493c-b38e-30b68e170984",
   "metadata": {},
   "outputs": [
    {
     "data": {
      "text/plain": [
       "EigResult(eigenvalues=array([15.5671697 , -2.11064214, -0.45652755]), eigenvectors=array([[-0.41788574, -0.72783383,  0.62728272],\n",
       "       [-0.44472978, -0.38299383, -0.74674764],\n",
       "       [-0.79220385,  0.56883534,  0.22109806]]))"
      ]
     },
     "execution_count": 20,
     "metadata": {},
     "output_type": "execute_result"
    }
   ],
   "source": [
    "np.linalg.eig(m1)"
   ]
  },
  {
   "cell_type": "code",
   "execution_count": 37,
   "id": "a263fd36-ed28-41df-aeae-deebe8445576",
   "metadata": {},
   "outputs": [
    {
     "data": {
      "image/png": "[encoded data removed]",
      "text/plain": [
       "<Figure size 640x480 with 1 Axes>"
      ]
     },
     "metadata": {},
     "output_type": "display_data"
    }
   ],
   "source": [
    "import matplotlib\n",
    "import matplotlib.pyplot as plt\n",
    "img=np.zeros(shape = (100,100,3), dtype ='i2')\n",
    "img[:,:,:] = [255,48,100]\n",
    "plt.imshow(img)\n",
    "plt.axis(\"off\")\n",
    "plt.show()"
   ]
  },
  {
   "cell_type": "code",
   "execution_count": null,
   "id": "bbe3099e-d432-4ea0-bd2a-37e43b52a47e",
   "metadata": {},
   "outputs": [],
   "source": []
  }
 ],
 "metadata": {
  "kernelspec": {
   "display_name": "Python 3 (ipykernel)",
   "language": "python",
   "name": "python3"
  },
  "language_info": {
   "codemirror_mode": {
    "name": "ipython",
    "version": 3
   },
   "file_extension": ".py",
   "mimetype": "text/x-python",
   "name": "python",
   "nbconvert_exporter": "python",
   "pygments_lexer": "ipython3",
   "version": "3.12.9"
  }
 },
 "nbformat": 4,
 "nbformat_minor": 5
}
