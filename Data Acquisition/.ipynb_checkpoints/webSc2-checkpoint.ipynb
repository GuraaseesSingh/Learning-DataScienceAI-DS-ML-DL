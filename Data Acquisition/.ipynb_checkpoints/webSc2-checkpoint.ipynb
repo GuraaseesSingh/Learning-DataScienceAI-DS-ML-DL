{
 "cells": [
  {
   "cell_type": "code",
   "execution_count": 1,
   "id": "b0ee9f89-67b4-4421-9cf3-a7da73e281e2",
   "metadata": {},
   "outputs": [],
   "source": [
    "simple_html_obj = \"\"\"\n",
    "<html>\n",
    "    <head></head>\n",
    "    <body>\n",
    "        <div id = \"div1\">\n",
    "            <p id = 1>Hello</p>\n",
    "            <p id = 2>World</p>\n",
    "            <p id = 3 shub = cb>hello</p>\n",
    "        </div>\n",
    "        <div id = \"div2\">\n",
    "            <p id = 4 shub = cb>world</p>\n",
    "            <p id = 4>hello</p>\n",
    "        </div>\n",
    "    </body>\n",
    "</html>\n",
    "\"\"\""
   ]
  },
  {
   "cell_type": "code",
   "execution_count": 2,
   "id": "a02bd49e-8416-4817-81ef-77fedd2b7781",
   "metadata": {},
   "outputs": [],
   "source": [
    "import requests\n",
    "import bs4"
   ]
  },
  {
   "cell_type": "code",
   "execution_count": 9,
   "id": "14538dcd-38b0-4773-af10-bd356f286e1d",
   "metadata": {},
   "outputs": [
    {
     "name": "stdout",
     "output_type": "stream",
     "text": [
      "<html>\n",
      " <head>\n",
      " </head>\n",
      " <body>\n",
      "  <div id=\"div1\">\n",
      "   <p id=\"1\">\n",
      "    Hello\n",
      "   </p>\n",
      "   <p id=\"2\">\n",
      "    World\n",
      "   </p>\n",
      "   <p id=\"3\" shub=\"cb\">\n",
      "    hello\n",
      "   </p>\n",
      "  </div>\n",
      "  <div id=\"div2\">\n",
      "   <p id=\"4\" shub=\"cb\">\n",
      "    world\n",
      "   </p>\n",
      "   <p id=\"4\">\n",
      "    hello\n",
      "   </p>\n",
      "  </div>\n",
      " </body>\n",
      "</html>\n",
      "\n"
     ]
    }
   ],
   "source": [
    "soup = bs4.BeautifulSoup(simple_html_obj)\n",
    "print(soup.prettify())"
   ]
  },
  {
   "cell_type": "code",
   "execution_count": 19,
   "id": "feda8eb6-49f9-48e5-a3b3-1f6ff1dc0d02",
   "metadata": {},
   "outputs": [
    {
     "name": "stdout",
     "output_type": "stream",
     "text": [
      "[<p id=\"1\">Hello</p>, <p id=\"2\">World</p>, <p id=\"3\" shub=\"cb\">hello</p>, <p id=\"4\" shub=\"cb\">world</p>, <p id=\"4\">hello</p>]\n",
      "<p id=\"3\" shub=\"cb\">hello</p>\n",
      "<p id=\"4\" shub=\"cb\">world</p>\n"
     ]
    }
   ],
   "source": [
    "para_tag = soup.find_all('p')\n",
    "print(para_tag)\n",
    "para_tag_CB = soup.find_all('p', attrs ={'shub':'cb'})\n",
    "# print(para_tag_CB)\n",
    "for i in para_tag_CB:\n",
    "    print(i)"
   ]
  },
  {
   "cell_type": "code",
   "execution_count": null,
   "id": "06dd3217-4d10-4bf5-bd2e-5a46b5d1afe2",
   "metadata": {},
   "outputs": [],
   "source": []
  }
 ],
 "metadata": {
  "kernelspec": {
   "display_name": "Python 3 (ipykernel)",
   "language": "python",
   "name": "python3"
  },
  "language_info": {
   "codemirror_mode": {
    "name": "ipython",
    "version": 3
   },
   "file_extension": ".py",
   "mimetype": "text/x-python",
   "name": "python",
   "nbconvert_exporter": "python",
   "pygments_lexer": "ipython3",
   "version": "3.12.9"
  }
 },
 "nbformat": 4,
 "nbformat_minor": 5
}
