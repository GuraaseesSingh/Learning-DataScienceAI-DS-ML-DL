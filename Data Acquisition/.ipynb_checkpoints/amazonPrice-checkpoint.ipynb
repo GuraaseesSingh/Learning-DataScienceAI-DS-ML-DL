{
 "cells": [
  {
   "cell_type": "code",
   "execution_count": 1,
   "id": "9775c726-e396-49b9-a36a-13c2379a8d89",
   "metadata": {},
   "outputs": [],
   "source": [
    "import requests\n",
    "import bs4"
   ]
  },
  {
   "cell_type": "code",
   "execution_count": 6,
   "id": "778f686e-df99-48cf-9576-dec677d91f48",
   "metadata": {},
   "outputs": [],
   "source": [
    "url = \"https://www.vijaysales.com/p/P232302/232302/apple-iphone-16-pro-128-gb-storage-desert-titanium?utm_source=google&utm_medium=cpc&utm_campaign=pt-google-vijaysales-apple-pmax-purchase-shopping-iphone-16-pro-na-in-all-13-09-2024&gad_source=1&gbraid=0AAAAADLKtlnoUr2YpT-wUISdmXxZAPsb9&gclid=Cj0KCQjwiLLABhCEARIsAJYS6uld0np23zBhZKh6kiAC0TC-f1wZKI3WVYP4h5Uf9cOTMMrX_5_5R78aAvI9EALw_wcB\"\n",
    "res = requests.get(url)"
   ]
  },
  {
   "cell_type": "code",
   "execution_count": 43,
   "id": "f426dce3-4ae1-4aa3-a2cc-2fda853e7363",
   "metadata": {},
   "outputs": [
    {
     "name": "stdout",
     "output_type": "stream",
     "text": [
      "\n",
      "Apple iPhone 16 Pro (128 GB Storage, Desert Titanium)\n",
      "\n",
      "₹109500\n"
     ]
    }
   ],
   "source": [
    "# print(res.text)\n",
    "soup = bs4.BeautifulSoup(res.text)\n",
    "# soup = soup.prettify()\n",
    "# naam = soup.find('name')\n",
    "name = soup.find_all('h1',attrs={'class':'productFullDetail__productName'})\n",
    "print(name[0].text)\n",
    "price = soup.find_all('p',attrs={'class':'product__price--price'})\n",
    "print(price[1].text.strip())\n"
   ]
  },
  {
   "cell_type": "code",
   "execution_count": null,
   "id": "67b4ffb3-ba63-49b7-ad03-cec4bf5d7fef",
   "metadata": {},
   "outputs": [],
   "source": []
  }
 ],
 "metadata": {
  "kernelspec": {
   "display_name": "Python 3 (ipykernel)",
   "language": "python",
   "name": "python3"
  },
  "language_info": {
   "codemirror_mode": {
    "name": "ipython",
    "version": 3
   },
   "file_extension": ".py",
   "mimetype": "text/x-python",
   "name": "python",
   "nbconvert_exporter": "python",
   "pygments_lexer": "ipython3",
   "version": "3.12.9"
  }
 },
 "nbformat": 4,
 "nbformat_minor": 5
}
