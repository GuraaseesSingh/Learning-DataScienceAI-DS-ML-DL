{
 "cells": [
  {
   "cell_type": "markdown",
   "id": "0f224334-f2d6-4e1f-bf92-60d6b3935520",
   "metadata": {},
   "source": [
    "## Scraping Tables from Web-Scraper.io\n"
   ]
  },
  {
   "cell_type": "code",
   "execution_count": 2,
   "id": "c14cdb35-567f-45fe-ab8e-be17a15bfce7",
   "metadata": {},
   "outputs": [],
   "source": [
    "import requests\n",
    "import bs4\n",
    "url =\"https://webscraper.io/test-sites/tables\""
   ]
  },
  {
   "cell_type": "code",
   "execution_count": 4,
   "id": "b60e826c-3a03-4f79-8e92-6c5cdc486bb2",
   "metadata": {},
   "outputs": [
    {
     "name": "stdout",
     "output_type": "stream",
     "text": [
      "<Response [200]>\n"
     ]
    }
   ],
   "source": [
    "res = requests.get(url)\n",
    "print(res)"
   ]
  },
  {
   "cell_type": "code",
   "execution_count": 24,
   "id": "16fb10c9-6574-4be5-96c1-bdf266eabea2",
   "metadata": {},
   "outputs": [
    {
     "ename": "SyntaxError",
     "evalue": "incomplete input (1120773646.py, line 25)",
     "output_type": "error",
     "traceback": [
      "\u001b[1;36m  Cell \u001b[1;32mIn[24], line 25\u001b[1;36m\u001b[0m\n\u001b[1;33m    \u001b[0m\n\u001b[1;37m    ^\u001b[0m\n\u001b[1;31mSyntaxError\u001b[0m\u001b[1;31m:\u001b[0m incomplete input\n"
     ]
    }
   ],
   "source": [
    "#Now parse it \n",
    "soup = bs4.BeautifulSoup(res.text)\n",
    "# soup = soup.prettify()\n",
    "# print(soup)\n",
    "# tables1= soup.find(attrs={'class':'table table-bordered'})\n",
    "# print(tables1)\n",
    "# tables2= soup.find(attrs={'class':'table table-bordered table-bordered2'})\n",
    "# print(tables2)\n",
    "\n",
    "\n",
    "\n",
    "allTables = soup.find_all('table')\n",
    "print(allTables)\n",
    "\n",
    "tableData =[]\n",
    "header = True\n",
    "for tb in allTables:\n",
    "    table =[]\n",
    "    thead = tb.thead\n",
    "    tbody = tb.tbody\n",
    "    for tr in thead:\n",
    "        \n",
    "        \n",
    "        \n",
    "    "
   ]
  },
  {
   "cell_type": "code",
   "execution_count": null,
   "id": "8e9075a9-f108-47e1-80b5-a52bf95051ae",
   "metadata": {},
   "outputs": [],
   "source": []
  }
 ],
 "metadata": {
  "kernelspec": {
   "display_name": "Python 3 (ipykernel)",
   "language": "python",
   "name": "python3"
  },
  "language_info": {
   "codemirror_mode": {
    "name": "ipython",
    "version": 3
   },
   "file_extension": ".py",
   "mimetype": "text/x-python",
   "name": "python",
   "nbconvert_exporter": "python",
   "pygments_lexer": "ipython3",
   "version": "3.12.9"
  }
 },
 "nbformat": 4,
 "nbformat_minor": 5
}
