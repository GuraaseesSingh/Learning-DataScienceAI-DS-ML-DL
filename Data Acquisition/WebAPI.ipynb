{
 "cells": [
  {
   "cell_type": "code",
   "execution_count": 1,
   "id": "f3cb2e41-376d-427a-8d6a-657344c46612",
   "metadata": {},
   "outputs": [],
   "source": [
    "import requests"
   ]
  },
  {
   "cell_type": "code",
   "execution_count": 65,
   "id": "d3267f59-71cf-4932-a011-58a6df8aa9f4",
   "metadata": {},
   "outputs": [],
   "source": [
    "url = \"https://catfact.ninja/\"\n",
    "res = requests.get(url+'facts',params={'limit':30})\n",
    "# 'max_length':90, \n",
    "# url = \"https://chatgpt.com/\"\n",
    "# res2 = requests.get(url)"
   ]
  },
  {
   "cell_type": "code",
   "execution_count": 66,
   "id": "76d7bc6c-d9ad-4b91-af73-8a36059a7dd8",
   "metadata": {},
   "outputs": [
    {
     "data": {
      "text/plain": [
       "<Response [200]>"
      ]
     },
     "execution_count": 66,
     "metadata": {},
     "output_type": "execute_result"
    }
   ],
   "source": [
    "res\n",
    "\n"
   ]
  },
  {
   "cell_type": "code",
   "execution_count": 79,
   "id": "3bdd99d6-9724-4914-a02a-c9f5a714fdfc",
   "metadata": {},
   "outputs": [
    {
     "name": "stdout",
     "output_type": "stream",
     "text": [
      "{\"current_page\":1,\"data\":[{\"fact\":\"Unlike dogs, cats do not have a sweet tooth. Scientists believe this is due to a mutation in a key taste receptor.\",\"length\":114},{\"fact\":\"When a cat chases its prey, it keeps its head level. Dogs and humans bob their heads up and down.\",\"length\":97},{\"fact\":\"The technical term for a cat\\u2019s hairball is a \\u201cbezoar.\\u201d\",\"length\":54},{\"fact\":\"A group of cats is called a \\u201cclowder.\\u201d\",\"length\":38},{\"fact\":\"A cat can\\u2019t climb head first down a tree because every claw on a cat\\u2019s paw points the same way. To get down from a tree, a cat must back down.\",\"length\":142},{\"fact\":\"Cats make about 100 different sounds. Dogs make only about 10.\",\"length\":62},{\"fact\":\"Every year, nearly four million cats are eaten in Asia.\",\"length\":55},{\"fact\":\"There are more than 500 million domestic cats in the world, with approximately 40 recognized breeds.\",\"length\":100},{\"fact\":\"Approximately 24 cat skins can make a coat.\",\"length\":43},{\"fact\":\"While it is commonly thought that the ancient Egyptians were the first to domesticate cats, the oldest known pet cat was recently found in a 9,500-year-old grave on the Mediterranean island of Cyprus. This grave predates early Egyptian art depicting cats by 4,000 years or more.\",\"length\":278},{\"fact\":\"During the time of the Spanish Inquisition, Pope Innocent VIII condemned cats as evil and thousands of cats were burned. Unfortunately, the widespread killing of cats led to an explosion of the rat population, which exacerbated the effects of the Black Death.\",\"length\":259},{\"fact\":\"During the Middle Ages, cats were associated with withcraft, and on St. John\\u2019s Day, people all over Europe would stuff them into sacks and toss the cats into bonfires. On holy days, people celebrated by tossing cats from church towers.\",\"length\":235},{\"fact\":\"The first cat in space was a French cat named Felicette (a.k.a. \\u201cAstrocat\\u201d) In 1963, France blasted the cat into outer space. Electrodes implanted in her brains sent neurological signals back to Earth. She survived the trip.\",\"length\":224},{\"fact\":\"The group of words associated with cat (catt,\\u00a0cath,\\u00a0chat,\\u00a0katze) stem from the Latin\\u00a0catus, meaning domestic cat, as opposed to\\u00a0feles, or wild cat.\",\"length\":147},{\"fact\":\"The term \\u201cpuss\\u201d is the root of the principal word for \\u201ccat\\u201d in the Romanian term pisica and the root of secondary words in Lithuanian (puz) and Low German\\u00a0puus. Some scholars suggest that \\u201cpuss\\u201d could be imitative of the hissing sound used to get a cat\\u2019s attention. As a slang word for the female pudenda, it could be associated with the connotation of a cat being soft, warm, and fuzzy.\",\"length\":387},{\"fact\":\"Approximately 40,000 people are bitten by cats in the U.S. annually.\",\"length\":68},{\"fact\":\"Cats are the world's most popular pets, outnumbering dogs by as many as three to one\",\"length\":84},{\"fact\":\"Cats are North America\\u2019s most popular pets: there are 73 million cats compared to 63 million dogs. Over 30% of households in North America own a cat.\",\"length\":149},{\"fact\":\"According to Hebrew legend, Noah prayed to God for help protecting all the food he stored on the ark from being eaten by rats. In reply, God made the lion sneeze, and out popped a cat.\",\"length\":184},{\"fact\":\"A cat\\u2019s hearing is better than a dog\\u2019s. And a cat can hear high-frequency sounds up to two octaves higher than a human.\",\"length\":119},{\"fact\":\"A cat can travel at a top speed of approximately 31 mph (49 km) over a short distance.\",\"length\":86},{\"fact\":\"A cat rubs against people not only to be affectionate but also to mark out its territory with scent glands around its face. The tail area and paws also carry the cat\\u2019s scent.\",\"length\":174},{\"fact\":\"Researchers are unsure exactly how a cat purrs. Most veterinarians believe that a cat purrs by vibrating vocal folds deep in the throat. To do this, a muscle in the larynx opens and closes the air passage about 25 times per second.\",\"length\":231},{\"fact\":\"When a family cat died in ancient Egypt, family members would mourn by shaving off their eyebrows. They also held elaborate funerals during which they drank wine and beat their breasts. The cat was embalmed with a sculpted wooden mask and the tiny mummy was placed in the family tomb or in a pet cemetery with tiny mummies of mice.\",\"length\":331},{\"fact\":\"In 1888, more than 300,000 mummified cats were found an Egyptian cemetery. They were stripped of their wrappings and carted off to be used by farmers in England and the U.S. for fertilizer.\",\"length\":189},{\"fact\":\"Most cats give birth to a litter of between one and nine kittens. The largest known litter ever produced was 19 kittens, of which 15 survived.\",\"length\":142},{\"fact\":\"Smuggling a cat out of ancient Egypt was punishable by death. Phoenician traders eventually succeeded in smuggling felines, which they sold to rich people in Athens and other important cities.\",\"length\":192},{\"fact\":\"The earliest ancestor of the modern cat lived about 30 million years ago. Scientists called it the\\u00a0Proailurus, which means \\u201cfirst cat\\u201d in Greek. The group of animals that pet cats belong to emerged around 12 million years ago.\",\"length\":226},{\"fact\":\"The biggest wildcat today is the Siberian Tiger. It can be more than 12 feet (3.6 m) long (about the size of a small car) and weigh up to 700 pounds (317 kg).\",\"length\":158},{\"fact\":\"Cats have 300 million neurons; dogs have about 160 million\",\"length\":58}],\"first_page_url\":\"https:\\/\\/catfact.ninja\\/facts?page=1\",\"from\":1,\"last_page\":12,\"last_page_url\":\"https:\\/\\/catfact.ninja\\/facts?page=12\",\"links\":[{\"url\":null,\"label\":\"Previous\",\"active\":false},{\"url\":\"https:\\/\\/catfact.ninja\\/facts?page=1\",\"label\":\"1\",\"active\":true},{\"url\":\"https:\\/\\/catfact.ninja\\/facts?page=2\",\"label\":\"2\",\"active\":false},{\"url\":\"https:\\/\\/catfact.ninja\\/facts?page=3\",\"label\":\"3\",\"active\":false},{\"url\":\"https:\\/\\/catfact.ninja\\/facts?page=4\",\"label\":\"4\",\"active\":false},{\"url\":\"https:\\/\\/catfact.ninja\\/facts?page=5\",\"label\":\"5\",\"active\":false},{\"url\":\"https:\\/\\/catfact.ninja\\/facts?page=6\",\"label\":\"6\",\"active\":false},{\"url\":\"https:\\/\\/catfact.ninja\\/facts?page=7\",\"label\":\"7\",\"active\":false},{\"url\":\"https:\\/\\/catfact.ninja\\/facts?page=8\",\"label\":\"8\",\"active\":false},{\"url\":\"https:\\/\\/catfact.ninja\\/facts?page=9\",\"label\":\"9\",\"active\":false},{\"url\":\"https:\\/\\/catfact.ninja\\/facts?page=10\",\"label\":\"10\",\"active\":false},{\"url\":\"https:\\/\\/catfact.ninja\\/facts?page=11\",\"label\":\"11\",\"active\":false},{\"url\":\"https:\\/\\/catfact.ninja\\/facts?page=12\",\"label\":\"12\",\"active\":false},{\"url\":\"https:\\/\\/catfact.ninja\\/facts?page=2\",\"label\":\"Next\",\"active\":false}],\"next_page_url\":\"https:\\/\\/catfact.ninja\\/facts?page=2\",\"path\":\"https:\\/\\/catfact.ninja\\/facts\",\"per_page\":30,\"prev_page_url\":null,\"to\":30,\"total\":332}\n",
      "https://catfact.ninja/\n",
      "<class 'str'>\n"
     ]
    }
   ],
   "source": [
    "import json\n",
    "dataF = res.text\n",
    "print(dataF)\n",
    "\n",
    "# print(res2)\n",
    "print(url)\n",
    "print(type(res.text))"
   ]
  },
  {
   "cell_type": "code",
   "execution_count": 80,
   "id": "26c6e54d-2eb2-426f-b033-0c6671857287",
   "metadata": {},
   "outputs": [
    {
     "name": "stdout",
     "output_type": "stream",
     "text": [
      "Unlike dogs, cats do not have a sweet tooth. Scientists believe this is due to a mutation in a key taste receptor. \n",
      "\n",
      "When a cat chases its prey, it keeps its head level. Dogs and humans bob their heads up and down. \n",
      "\n",
      "The technical term for a cat’s hairball is a “bezoar.” \n",
      "\n",
      "A group of cats is called a “clowder.” \n",
      "\n",
      "A cat can’t climb head first down a tree because every claw on a cat’s paw points the same way. To get down from a tree, a cat must back down. \n",
      "\n",
      "Cats make about 100 different sounds. Dogs make only about 10. \n",
      "\n",
      "Every year, nearly four million cats are eaten in Asia. \n",
      "\n",
      "There are more than 500 million domestic cats in the world, with approximately 40 recognized breeds. \n",
      "\n",
      "Approximately 24 cat skins can make a coat. \n",
      "\n",
      "While it is commonly thought that the ancient Egyptians were the first to domesticate cats, the oldest known pet cat was recently found in a 9,500-year-old grave on the Mediterranean island of Cyprus. This grave predates early Egyptian art depicting cats by 4,000 years or more. \n",
      "\n",
      "During the time of the Spanish Inquisition, Pope Innocent VIII condemned cats as evil and thousands of cats were burned. Unfortunately, the widespread killing of cats led to an explosion of the rat population, which exacerbated the effects of the Black Death. \n",
      "\n",
      "During the Middle Ages, cats were associated with withcraft, and on St. John’s Day, people all over Europe would stuff them into sacks and toss the cats into bonfires. On holy days, people celebrated by tossing cats from church towers. \n",
      "\n",
      "The first cat in space was a French cat named Felicette (a.k.a. “Astrocat”) In 1963, France blasted the cat into outer space. Electrodes implanted in her brains sent neurological signals back to Earth. She survived the trip. \n",
      "\n",
      "The group of words associated with cat (catt, cath, chat, katze) stem from the Latin catus, meaning domestic cat, as opposed to feles, or wild cat. \n",
      "\n",
      "The term “puss” is the root of the principal word for “cat” in the Romanian term pisica and the root of secondary words in Lithuanian (puz) and Low German puus. Some scholars suggest that “puss” could be imitative of the hissing sound used to get a cat’s attention. As a slang word for the female pudenda, it could be associated with the connotation of a cat being soft, warm, and fuzzy. \n",
      "\n",
      "Approximately 40,000 people are bitten by cats in the U.S. annually. \n",
      "\n",
      "Cats are the world's most popular pets, outnumbering dogs by as many as three to one \n",
      "\n",
      "Cats are North America’s most popular pets: there are 73 million cats compared to 63 million dogs. Over 30% of households in North America own a cat. \n",
      "\n",
      "According to Hebrew legend, Noah prayed to God for help protecting all the food he stored on the ark from being eaten by rats. In reply, God made the lion sneeze, and out popped a cat. \n",
      "\n",
      "A cat’s hearing is better than a dog’s. And a cat can hear high-frequency sounds up to two octaves higher than a human. \n",
      "\n",
      "A cat can travel at a top speed of approximately 31 mph (49 km) over a short distance. \n",
      "\n",
      "A cat rubs against people not only to be affectionate but also to mark out its territory with scent glands around its face. The tail area and paws also carry the cat’s scent. \n",
      "\n",
      "Researchers are unsure exactly how a cat purrs. Most veterinarians believe that a cat purrs by vibrating vocal folds deep in the throat. To do this, a muscle in the larynx opens and closes the air passage about 25 times per second. \n",
      "\n",
      "When a family cat died in ancient Egypt, family members would mourn by shaving off their eyebrows. They also held elaborate funerals during which they drank wine and beat their breasts. The cat was embalmed with a sculpted wooden mask and the tiny mummy was placed in the family tomb or in a pet cemetery with tiny mummies of mice. \n",
      "\n",
      "In 1888, more than 300,000 mummified cats were found an Egyptian cemetery. They were stripped of their wrappings and carted off to be used by farmers in England and the U.S. for fertilizer. \n",
      "\n",
      "Most cats give birth to a litter of between one and nine kittens. The largest known litter ever produced was 19 kittens, of which 15 survived. \n",
      "\n",
      "Smuggling a cat out of ancient Egypt was punishable by death. Phoenician traders eventually succeeded in smuggling felines, which they sold to rich people in Athens and other important cities. \n",
      "\n",
      "The earliest ancestor of the modern cat lived about 30 million years ago. Scientists called it the Proailurus, which means “first cat” in Greek. The group of animals that pet cats belong to emerged around 12 million years ago. \n",
      "\n",
      "The biggest wildcat today is the Siberian Tiger. It can be more than 12 feet (3.6 m) long (about the size of a small car) and weigh up to 700 pounds (317 kg). \n",
      "\n",
      "Cats have 300 million neurons; dogs have about 160 million \n",
      "\n"
     ]
    }
   ],
   "source": [
    "\n",
    "data = json.loads(dataF)\n",
    "# print(data)\n",
    "dataArr = data['data']\n",
    "for i in dataArr:\n",
    "    # print(i)\n",
    "    print(i['fact'] ,'\\n')\n",
    " \n",
    "# print(data.data[0],type(json.loads(dataF)))"
   ]
  },
  {
   "cell_type": "markdown",
   "id": "4de0af06-a279-44f1-8234-2752cc9e8dda",
   "metadata": {},
   "source": [
    "Breed\n"
   ]
  },
  {
   "cell_type": "code",
   "execution_count": 93,
   "id": "adbbc494-4452-4a6e-85e5-1462b5b53dca",
   "metadata": {},
   "outputs": [
    {
     "name": "stdout",
     "output_type": "stream",
     "text": [
      "Breed:   Abyssinian\n",
      "Country: Ethiopia\n",
      "Origin:  Natural/Standard \n",
      "\n",
      "Breed:   Aegean\n",
      "Country: Greece\n",
      "Origin:  Natural/Standard \n",
      "\n",
      "Breed:   American Curl\n",
      "Country: United States\n",
      "Origin:  Mutation \n",
      "\n",
      "Breed:   American Bobtail\n",
      "Country: United States\n",
      "Origin:  Mutation \n",
      "\n",
      "Breed:   American Shorthair\n",
      "Country: United States\n",
      "Origin:  Natural \n",
      "\n",
      "5 Breed Printed\n"
     ]
    }
   ],
   "source": [
    "url = \"https://catfact.ninja/\"\n",
    "res = requests.get(url+'breeds',params={'limit':5})\n",
    "breedData = res.json()\n",
    "breedData = breedData['data']\n",
    "for i in breedData:\n",
    "    print('Breed:  ',i['breed'])\n",
    "    print('Country:',i['country'])\n",
    "    print('Origin: ',i['origin'] , '\\n')\n",
    "print(\"5 Breed Printed\")"
   ]
  },
  {
   "cell_type": "code",
   "execution_count": null,
   "id": "3aa27297-b294-4c6f-9514-c9190f67df4e",
   "metadata": {},
   "outputs": [],
   "source": []
  }
 ],
 "metadata": {
  "kernelspec": {
   "display_name": "Python 3 (ipykernel)",
   "language": "python",
   "name": "python3"
  },
  "language_info": {
   "codemirror_mode": {
    "name": "ipython",
    "version": 3
   },
   "file_extension": ".py",
   "mimetype": "text/x-python",
   "name": "python",
   "nbconvert_exporter": "python",
   "pygments_lexer": "ipython3",
   "version": "3.12.9"
  }
 },
 "nbformat": 4,
 "nbformat_minor": 5
}
