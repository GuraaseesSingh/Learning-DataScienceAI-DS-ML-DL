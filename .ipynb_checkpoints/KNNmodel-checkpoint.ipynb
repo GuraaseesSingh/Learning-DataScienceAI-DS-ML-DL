{
 "cells": [
  {
   "cell_type": "code",
   "execution_count": 6,
   "id": "4b767fe4-135e-423b-9856-d67d3e7be76a",
   "metadata": {},
   "outputs": [
    {
     "name": "stdout",
     "output_type": "stream",
     "text": [
      "Collecting scikit-learn\n",
      "  Downloading scikit_learn-1.6.1-cp312-cp312-win_amd64.whl.metadata (15 kB)\n",
      "Requirement already satisfied: numpy>=1.19.5 in c:\\users\\dell\\appdata\\local\\programs\\python\\python312\\lib\\site-packages (from scikit-learn) (2.2.4)\n",
      "Collecting scipy>=1.6.0 (from scikit-learn)\n",
      "  Downloading scipy-1.15.3-cp312-cp312-win_amd64.whl.metadata (60 kB)\n",
      "Collecting joblib>=1.2.0 (from scikit-learn)\n",
      "  Downloading joblib-1.5.1-py3-none-any.whl.metadata (5.6 kB)\n",
      "Collecting threadpoolctl>=3.1.0 (from scikit-learn)\n",
      "  Downloading threadpoolctl-3.6.0-py3-none-any.whl.metadata (13 kB)\n",
      "Downloading scikit_learn-1.6.1-cp312-cp312-win_amd64.whl (11.1 MB)\n",
      "   ---------------------------------------- 0.0/11.1 MB ? eta -:--:--\n",
      "   --- ------------------------------------ 1.0/11.1 MB 6.3 MB/s eta 0:00:02\n",
      "   ------- -------------------------------- 2.1/11.1 MB 5.1 MB/s eta 0:00:02\n",
      "   ------------ --------------------------- 3.4/11.1 MB 5.6 MB/s eta 0:00:02\n",
      "   ---------------- ----------------------- 4.5/11.1 MB 5.3 MB/s eta 0:00:02\n",
      "   ------------------- -------------------- 5.5/11.1 MB 5.2 MB/s eta 0:00:02\n",
      "   ------------------------- -------------- 7.1/11.1 MB 5.5 MB/s eta 0:00:01\n",
      "   ---------------------------- ----------- 7.9/11.1 MB 5.3 MB/s eta 0:00:01\n",
      "   --------------------------------- ------ 9.2/11.1 MB 5.4 MB/s eta 0:00:01\n",
      "   ------------------------------------- -- 10.5/11.1 MB 5.5 MB/s eta 0:00:01\n",
      "   ---------------------------------------- 11.1/11.1 MB 5.3 MB/s eta 0:00:00\n",
      "Downloading joblib-1.5.1-py3-none-any.whl (307 kB)\n",
      "Downloading scipy-1.15.3-cp312-cp312-win_amd64.whl (41.0 MB)\n",
      "   ---------------------------------------- 0.0/41.0 MB ? eta -:--:--\n",
      "   - -------------------------------------- 1.0/41.0 MB 4.6 MB/s eta 0:00:09\n",
      "   - -------------------------------------- 1.8/41.0 MB 4.6 MB/s eta 0:00:09\n",
      "   -- ------------------------------------- 2.9/41.0 MB 4.8 MB/s eta 0:00:08\n",
      "   ---- ----------------------------------- 4.2/41.0 MB 4.8 MB/s eta 0:00:08\n",
      "   ----- ---------------------------------- 5.8/41.0 MB 5.3 MB/s eta 0:00:07\n",
      "   ------ --------------------------------- 6.8/41.0 MB 5.4 MB/s eta 0:00:07\n",
      "   -------- ------------------------------- 8.4/41.0 MB 5.6 MB/s eta 0:00:06\n",
      "   --------- ------------------------------ 9.4/41.0 MB 5.5 MB/s eta 0:00:06\n",
      "   ---------- ----------------------------- 10.7/41.0 MB 5.6 MB/s eta 0:00:06\n",
      "   ----------- ---------------------------- 12.1/41.0 MB 5.6 MB/s eta 0:00:06\n",
      "   ------------ --------------------------- 12.8/41.0 MB 5.4 MB/s eta 0:00:06\n",
      "   -------------- ------------------------- 14.4/41.0 MB 5.5 MB/s eta 0:00:05\n",
      "   --------------- ------------------------ 15.5/41.0 MB 5.6 MB/s eta 0:00:05\n",
      "   --------------- ------------------------ 16.3/41.0 MB 5.4 MB/s eta 0:00:05\n",
      "   ---------------- ----------------------- 17.0/41.0 MB 5.3 MB/s eta 0:00:05\n",
      "   ----------------- ---------------------- 18.1/41.0 MB 5.2 MB/s eta 0:00:05\n",
      "   ------------------ --------------------- 18.9/41.0 MB 5.1 MB/s eta 0:00:05\n",
      "   ------------------- -------------------- 19.7/41.0 MB 5.0 MB/s eta 0:00:05\n",
      "   ------------------- -------------------- 20.4/41.0 MB 5.0 MB/s eta 0:00:05\n",
      "   -------------------- ------------------- 21.2/41.0 MB 4.9 MB/s eta 0:00:05\n",
      "   --------------------- ------------------ 22.3/41.0 MB 4.9 MB/s eta 0:00:04\n",
      "   ---------------------- ----------------- 23.3/41.0 MB 4.9 MB/s eta 0:00:04\n",
      "   ----------------------- ---------------- 24.4/41.0 MB 4.9 MB/s eta 0:00:04\n",
      "   ------------------------ --------------- 25.2/41.0 MB 4.8 MB/s eta 0:00:04\n",
      "   ------------------------- -------------- 26.2/41.0 MB 4.9 MB/s eta 0:00:04\n",
      "   -------------------------- ------------- 27.5/41.0 MB 4.9 MB/s eta 0:00:03\n",
      "   --------------------------- ------------ 28.0/41.0 MB 4.9 MB/s eta 0:00:03\n",
      "   ---------------------------- ----------- 29.6/41.0 MB 4.8 MB/s eta 0:00:03\n",
      "   ----------------------------- ---------- 30.7/41.0 MB 4.9 MB/s eta 0:00:03\n",
      "   ------------------------------- -------- 32.0/41.0 MB 4.9 MB/s eta 0:00:02\n",
      "   -------------------------------- ------- 33.3/41.0 MB 4.9 MB/s eta 0:00:02\n",
      "   --------------------------------- ------ 34.3/41.0 MB 4.9 MB/s eta 0:00:02\n",
      "   ---------------------------------- ----- 35.4/41.0 MB 5.0 MB/s eta 0:00:02\n",
      "   ----------------------------------- ---- 36.2/41.0 MB 4.9 MB/s eta 0:00:01\n",
      "   ------------------------------------ --- 37.0/41.0 MB 4.9 MB/s eta 0:00:01\n",
      "   ------------------------------------ --- 37.7/41.0 MB 4.9 MB/s eta 0:00:01\n",
      "   -------------------------------------- - 39.1/41.0 MB 4.8 MB/s eta 0:00:01\n",
      "   ---------------------------------------  40.4/41.0 MB 4.9 MB/s eta 0:00:01\n",
      "   ---------------------------------------  40.9/41.0 MB 4.9 MB/s eta 0:00:01\n",
      "   ---------------------------------------- 41.0/41.0 MB 4.8 MB/s eta 0:00:00\n",
      "Downloading threadpoolctl-3.6.0-py3-none-any.whl (18 kB)\n",
      "Installing collected packages: threadpoolctl, scipy, joblib, scikit-learn\n",
      "Successfully installed joblib-1.5.1 scikit-learn-1.6.1 scipy-1.15.3 threadpoolctl-3.6.0\n",
      "Note: you may need to restart the kernel to use updated packages.\n"
     ]
    },
    {
     "name": "stderr",
     "output_type": "stream",
     "text": [
      "\n",
      "[notice] A new release of pip is available: 24.3.1 -> 25.1.1\n",
      "[notice] To update, run: python.exe -m pip install --upgrade pip\n"
     ]
    }
   ],
   "source": [
    "pip install scikit-learn"
   ]
  },
  {
   "cell_type": "code",
   "execution_count": 7,
   "id": "b4ed4e41-4c7b-4819-903d-71f826488bf5",
   "metadata": {},
   "outputs": [],
   "source": [
    "import pandas as pd \n",
    "import numpy as np \n",
    "import matplotlib.pyplot as plt"
   ]
  },
  {
   "cell_type": "code",
   "execution_count": 8,
   "id": "f43794ca-6e6e-4f3d-a832-f43612c10c15",
   "metadata": {},
   "outputs": [
    {
     "name": "stdout",
     "output_type": "stream",
     "text": [
      "(399, 2) (399,)\n"
     ]
    }
   ],
   "source": [
    "x = pd.read_csv(\"xdata.csv\", index_col = [0])\n",
    "y = pd.read_csv(\"ydata.csv\", index_col = [0])\n",
    "\n",
    "x_data, y_data = x.values , y.values.reshape(-1)\n",
    "print(x_data.shape, y_data.shape)"
   ]
  },
  {
   "cell_type": "code",
   "execution_count": 9,
   "id": "0d41cbef-5dac-4c45-8fbd-15f90dc6c1cb",
   "metadata": {},
   "outputs": [],
   "source": [
    "from sklearn.model_selection import train_test_split\n",
    "x_train,x_test,y_train,y_test = train_test_split(x_data,y_data,test_size =0.2)"
   ]
  },
  {
   "cell_type": "code",
   "execution_count": 43,
   "id": "371ff7f3-cf51-4bfa-afe4-c95305caa052",
   "metadata": {},
   "outputs": [
    {
     "data": {
      "image/png": "[encoded data removed]",
      "text/plain": [
       "<Figure size 640x480 with 1 Axes>"
      ]
     },
     "metadata": {},
     "output_type": "display_data"
    }
   ],
   "source": [
    "plt.scatter(x_data[y_data == 0][:,0],x_data[y_data == 0][:,1],c='blue',label = '0')\n",
    "plt.scatter(x_data[y_data == 1][:,0],x_data[y_data == 1][:,1],c='y',label = '1')\n",
    "plt.scatter(1,2,c='r')\n",
    "plt.scatter(0,1,c='r')\n",
    "plt.scatter(4,4,c='r')\n",
    "plt.scatter(5,5,c='r')\n",
    "# plt.fig_size(6,6,1)\n",
    "plt.legend()\n",
    "plt.show()"
   ]
  },
  {
   "cell_type": "code",
   "execution_count": 41,
   "id": "7a907612-126c-483e-94aa-c964d48ab696",
   "metadata": {},
   "outputs": [],
   "source": [
    "\n",
    "T = np.array([[1,2], [0,1],[4,4],[5,5]])\n",
    "def distance(a,b):\n",
    "    return np.sqrt(np.sum((a-b)**2));"
   ]
  },
  {
   "cell_type": "code",
   "execution_count": 36,
   "id": "bfe6c450-d3d8-4a72-9865-0aab86c70d52",
   "metadata": {},
   "outputs": [],
   "source": [
    "k=5\n",
    "def predict_1(T):\n",
    "    dist = []\n",
    "    for i in range(x_data.shape[0]):\n",
    "        dist.append(distance(T,x_data[i]))\n",
    "    kPoint = np.argsort(dist)[:k]\n",
    "    labels, counts = np.unique(y_data[kPoint],return_counts = True)\n",
    "    return labels[np.argmax(counts)]"
   ]
  },
  {
   "cell_type": "code",
   "execution_count": 37,
   "id": "cbc66919-af7f-49c2-b7bf-2ff32f35f176",
   "metadata": {},
   "outputs": [
    {
     "data": {
      "text/plain": [
       "(array([1]), array([1]))"
      ]
     },
     "execution_count": 37,
     "metadata": {},
     "output_type": "execute_result"
    }
   ],
   "source": [
    "l =[1,2,1,1,3,2]\n",
    "np.unique(1,return_counts = True)"
   ]
  },
  {
   "cell_type": "code",
   "execution_count": 44,
   "id": "8a6003ec-0e32-4ddc-8a54-caad1055e681",
   "metadata": {},
   "outputs": [
    {
     "name": "stdout",
     "output_type": "stream",
     "text": [
      "1.0\n",
      "1.0\n",
      "0.0\n",
      "0.0\n"
     ]
    }
   ],
   "source": [
    "for i in T:\n",
    "    \n",
    "    print(predict_1(i))\n"
   ]
  },
  {
   "cell_type": "code",
   "execution_count": null,
   "id": "d715fc8f-9977-4a23-8cb8-9c0680e669e7",
   "metadata": {},
   "outputs": [],
   "source": []
  },
  {
   "cell_type": "code",
   "execution_count": null,
   "id": "d38a6004-643c-4727-b33c-00c76a1affb7",
   "metadata": {},
   "outputs": [],
   "source": []
  }
 ],
 "metadata": {
  "kernelspec": {
   "display_name": "Python 3 (ipykernel)",
   "language": "python",
   "name": "python3"
  },
  "language_info": {
   "codemirror_mode": {
    "name": "ipython",
    "version": 3
   },
   "file_extension": ".py",
   "mimetype": "text/x-python",
   "name": "python",
   "nbconvert_exporter": "python",
   "pygments_lexer": "ipython3",
   "version": "3.12.9"
  }
 },
 "nbformat": 4,
 "nbformat_minor": 5
}
