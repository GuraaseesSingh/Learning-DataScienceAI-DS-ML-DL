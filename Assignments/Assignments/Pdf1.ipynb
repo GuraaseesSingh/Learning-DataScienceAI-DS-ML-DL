{
 "cells": [
  {
   "cell_type": "code",
   "execution_count": 5,
   "id": "33ce633f-fc7d-44ca-909b-a7c580a8de48",
   "metadata": {},
   "outputs": [
    {
     "name": "stdout",
     "output_type": "stream",
     "text": [
      "12\n",
      "3\n"
     ]
    }
   ],
   "source": [
    "lo = [1,2,3,56,7,98,2,2346,7,0,2,5]\n",
    "print(len(lo))\n",
    "him = 'her'\n",
    "print(len(him))\n",
    "#len() to find length of anything \n"
   ]
  },
  {
   "cell_type": "code",
   "execution_count": 10,
   "id": "98a6e748-53a0-4afb-b78a-0f7f10bb5685",
   "metadata": {},
   "outputs": [
    {
     "name": "stdout",
     "output_type": "stream",
     "text": [
      "12\n",
      "Making length function from scratch\n",
      "[2346, 98, 56, 7, 7, 5, 3, 2, 2, 2, 1, 0]\n",
      "[1, 2, 3, 56, 7, 98, 2, 2346, 7, 0, 2, 5]\n"
     ]
    }
   ],
   "source": [
    "def length(listdedo):\n",
    "    lend = 0\n",
    "    \n",
    "    for i in listdedo:\n",
    "        lend+=1\n",
    "        \n",
    "    print(lend)  \n",
    "    print(\"Making length function from scratch\")  \n",
    "    print(sorted(lo,reverse=True))  \n",
    "\n",
    "length(lo) \n",
    "print(lo)\n",
    "\n",
    "    "
   ]
  },
  {
   "cell_type": "code",
   "execution_count": null,
   "id": "126e4bb9-7c0a-405c-837d-162f79a10360",
   "metadata": {},
   "outputs": [],
   "source": []
  }
 ],
 "metadata": {
  "kernelspec": {
   "display_name": "Python 3 (ipykernel)",
   "language": "python",
   "name": "python3"
  },
  "language_info": {
   "codemirror_mode": {
    "name": "ipython",
    "version": 3
   },
   "file_extension": ".py",
   "mimetype": "text/x-python",
   "name": "python",
   "nbconvert_exporter": "python",
   "pygments_lexer": "ipython3",
   "version": "3.12.9"
  }
 },
 "nbformat": 4,
 "nbformat_minor": 5
}
