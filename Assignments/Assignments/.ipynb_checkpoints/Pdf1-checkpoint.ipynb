{
 "cells": [
  {
   "cell_type": "code",
   "execution_count": 21,
   "id": "33ce633f-fc7d-44ca-909b-a7c580a8de48",
   "metadata": {},
   "outputs": [
    {
     "ename": "TypeError",
     "evalue": "'int' object is not callable",
     "output_type": "error",
     "traceback": [
      "\u001b[1;31m---------------------------------------------------------------------------\u001b[0m",
      "\u001b[1;31mTypeError\u001b[0m                                 Traceback (most recent call last)",
      "Cell \u001b[1;32mIn[21], line 2\u001b[0m\n\u001b[0;32m      1\u001b[0m lo \u001b[38;5;241m=\u001b[39m [\u001b[38;5;124m\"\u001b[39m\u001b[38;5;124mhelo\u001b[39m\u001b[38;5;124m\"\u001b[39m]\n\u001b[1;32m----> 2\u001b[0m \u001b[38;5;28mprint\u001b[39m(\u001b[38;5;28;43mlen\u001b[39;49m\u001b[43m(\u001b[49m\u001b[43mlo\u001b[49m\u001b[43m)\u001b[49m)\n\u001b[0;32m      3\u001b[0m \u001b[38;5;66;03m#1,2,3,56,7,98,2,2346,7,0,2,5\u001b[39;00m\n",
      "\u001b[1;31mTypeError\u001b[0m: 'int' object is not callable"
     ]
    }
   ],
   "source": [
    "lo = [\"helo\"]\n",
    "print(len(lo))\n",
    "#1,2,3,56,7,98,2,2346,7,0,2,5\n"
   ]
  },
  {
   "cell_type": "code",
   "execution_count": 19,
   "id": "98a6e748-53a0-4afb-b78a-0f7f10bb5685",
   "metadata": {},
   "outputs": [
    {
     "ename": "NameError",
     "evalue": "name 'math' is not defined",
     "output_type": "error",
     "traceback": [
      "\u001b[1;31m---------------------------------------------------------------------------\u001b[0m",
      "\u001b[1;31mNameError\u001b[0m                                 Traceback (most recent call last)",
      "Cell \u001b[1;32mIn[19], line 15\u001b[0m\n\u001b[0;32m     12\u001b[0m     \u001b[38;5;28mprint\u001b[39m(\u001b[38;5;124m\"\u001b[39m\u001b[38;5;124mMaking length function from scratch\u001b[39m\u001b[38;5;124m\"\u001b[39m)  \n\u001b[0;32m     13\u001b[0m     \u001b[38;5;28mprint\u001b[39m(nl)  \n\u001b[1;32m---> 15\u001b[0m \u001b[43mlength\u001b[49m\u001b[43m(\u001b[49m\u001b[43ml\u001b[49m\u001b[43m)\u001b[49m \n",
      "Cell \u001b[1;32mIn[19], line 7\u001b[0m, in \u001b[0;36mlength\u001b[1;34m(listdedo)\u001b[0m\n\u001b[0;32m      4\u001b[0m \u001b[38;5;28;01mfor\u001b[39;00m i \u001b[38;5;129;01min\u001b[39;00m l:\n\u001b[0;32m      5\u001b[0m     temp \u001b[38;5;241m=\u001b[39m i\n\u001b[1;32m----> 7\u001b[0m     nl\u001b[38;5;241m.\u001b[39mappend(\u001b[43mmath\u001b[49m\u001b[38;5;241m.\u001b[39mmax(i,Integer\u001b[38;5;241m.\u001b[39mmin))\n\u001b[0;32m      9\u001b[0m     \u001b[38;5;28mlen\u001b[39m\u001b[38;5;241m+\u001b[39m\u001b[38;5;241m=\u001b[39m\u001b[38;5;241m1\u001b[39m\n\u001b[0;32m     11\u001b[0m \u001b[38;5;28mprint\u001b[39m(lend)  \n",
      "\u001b[1;31mNameError\u001b[0m: name 'math' is not defined"
     ]
    }
   ],
   "source": [
    "def length(listdedo):\n",
    "    lend = 0\n",
    "    nl = []\n",
    "    for i in l:\n",
    "        temp = i\n",
    "        \n",
    "        nl.append(math.max(i,Integer.min))\n",
    "        \n",
    "        len+=1\n",
    "        \n",
    "    print(lend)  \n",
    "    print(\"Making length function from scratch\")  \n",
    "    print(nl)  \n",
    "\n",
    "length(l) \n",
    "\n",
    "    "
   ]
  },
  {
   "cell_type": "code",
   "execution_count": null,
   "id": "126e4bb9-7c0a-405c-837d-162f79a10360",
   "metadata": {},
   "outputs": [],
   "source": []
  }
 ],
 "metadata": {
  "kernelspec": {
   "display_name": "Python 3 (ipykernel)",
   "language": "python",
   "name": "python3"
  },
  "language_info": {
   "codemirror_mode": {
    "name": "ipython",
    "version": 3
   },
   "file_extension": ".py",
   "mimetype": "text/x-python",
   "name": "python",
   "nbconvert_exporter": "python",
   "pygments_lexer": "ipython3",
   "version": "3.12.9"
  }
 },
 "nbformat": 4,
 "nbformat_minor": 5
}
