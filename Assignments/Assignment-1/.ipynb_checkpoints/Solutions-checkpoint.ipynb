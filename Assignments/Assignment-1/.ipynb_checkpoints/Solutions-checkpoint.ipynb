{
 "cells": [
  {
   "cell_type": "markdown",
   "id": "5473731f-7925-45d3-9933-97814c80ac7e",
   "metadata": {},
   "source": [
    "Assignment-7587\n"
   ]
  },
  {
   "cell_type": "code",
   "execution_count": 4,
   "id": "2d32274d-b7f4-419e-99b8-5af776cf4dca",
   "metadata": {},
   "outputs": [
    {
     "name": "stdin",
     "output_type": "stream",
     "text": [
      "Enter a number 2635\n"
     ]
    },
    {
     "name": "stdout",
     "output_type": "stream",
     "text": [
      "11\n",
      "5\n"
     ]
    }
   ],
   "source": [
    "n = int(input(\"Enter a number\"))\n",
    "sumo =0\n",
    "sume = 0\n",
    "i =1\n",
    "while n>0 :\n",
    "    rem =n %10\n",
    "    n//=10\n",
    "    i+=1\n",
    "    if i%2 !=0:\n",
    "        sumo +=rem\n",
    "    else:\n",
    "        sume +=rem\n",
    "\n",
    "print(sume)\n",
    "print(sumo)"
   ]
  },
  {
   "cell_type": "markdown",
   "id": "12d78ec9-be42-4a80-a69a-242aa25fcd08",
   "metadata": {},
   "source": [
    "Q2 Print all prime \n"
   ]
  },
  {
   "cell_type": "code",
   "execution_count": 9,
   "id": "c490858d-054b-4da6-b503-aeff6cc9d126",
   "metadata": {},
   "outputs": [
    {
     "name": "stdin",
     "output_type": "stream",
     "text": [
      " 5\n"
     ]
    }
   ],
   "source": [
    "n = int(input())\n",
    "def isPrime(i):\n",
    "    j =0\n",
    "    for q in range(2,i):\n",
    "        if i%q !=0:\n",
    "            j+=1\n",
    "\n",
    "    if j>1:\n",
    "        return true\n",
    "    else:\n",
    "        return False\n",
    "for i in range(2,n):\n",
    "    if isPrime(i):\n",
    "        print(i)"
   ]
  },
  {
   "cell_type": "code",
   "execution_count": null,
   "id": "302f37c0-15c4-4c4a-81d7-97e4d938f469",
   "metadata": {},
   "outputs": [],
   "source": []
  }
 ],
 "metadata": {
  "kernelspec": {
   "display_name": "Python 3 (ipykernel)",
   "language": "python",
   "name": "python3"
  },
  "language_info": {
   "codemirror_mode": {
    "name": "ipython",
    "version": 3
   },
   "file_extension": ".py",
   "mimetype": "text/x-python",
   "name": "python",
   "nbconvert_exporter": "python",
   "pygments_lexer": "ipython3",
   "version": "3.12.9"
  }
 },
 "nbformat": 4,
 "nbformat_minor": 5
}
