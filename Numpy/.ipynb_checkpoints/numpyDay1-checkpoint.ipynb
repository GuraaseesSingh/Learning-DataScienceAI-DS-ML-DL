{
 "cells": [
  {
   "cell_type": "markdown",
   "id": "5e66a4df-6579-413a-94d6-f0cd6edddf5f",
   "metadata": {},
   "source": [
    "## Learning Numpy From Hanjiii\n"
   ]
  },
  {
   "cell_type": "code",
   "execution_count": 1,
   "id": "1aca2924-2631-4202-b074-829e7f07c068",
   "metadata": {},
   "outputs": [
    {
     "name": "stdout",
     "output_type": "stream",
     "text": [
      "Requirement already satisfied: numpy in c:\\users\\dell\\appdata\\local\\programs\\python\\python312\\lib\\site-packages (2.2.4)"
     ]
    },
    {
     "name": "stderr",
     "output_type": "stream",
     "text": [
      "\n",
      "[notice] A new release of pip is available: 24.3.1 -> 25.0.1\n",
      "[notice] To update, run: python.exe -m pip install --upgrade pip\n"
     ]
    },
    {
     "name": "stdout",
     "output_type": "stream",
     "text": [
      "\n"
     ]
    }
   ],
   "source": [
    "\n",
    "!pip install numpy"
   ]
  },
  {
   "cell_type": "code",
   "execution_count": 2,
   "id": "cffa9c4b-f977-4ff1-9d19-9e50e997edbc",
   "metadata": {},
   "outputs": [],
   "source": [
    "import numpy as np \n"
   ]
  },
  {
   "cell_type": "code",
   "execution_count": 3,
   "id": "15844ce8-f59f-4d2b-ba29-c1f961b3cde6",
   "metadata": {},
   "outputs": [
    {
     "name": "stdout",
     "output_type": "stream",
     "text": [
      "[1, 2, 3]\n",
      "[1 2 3]\n",
      "[[1 2 3]\n",
      " [4 5 6]]\n"
     ]
    }
   ],
   "source": [
    "# To make array in python we call that list \n",
    "py_list = [1,2,3]\n",
    "# To make array in numpy we call that array only\n",
    "py_array = np.array([1,2,3])\n",
    "py_array2 = np.array([[1,2,3],[4,5,6]])\n",
    "# Eg\n",
    "print(py_list)\n",
    "print(py_array)\n",
    "print(py_array2)"
   ]
  },
  {
   "cell_type": "markdown",
   "id": "a6b7a879-b6af-4be9-83f8-c4bb35370659",
   "metadata": {},
   "source": [
    "## Multiplication in array and list"
   ]
  },
  {
   "cell_type": "code",
   "execution_count": 4,
   "id": "0e657f1d-3c55-4fe3-8c1f-51b0ef65e84e",
   "metadata": {},
   "outputs": [
    {
     "name": "stdout",
     "output_type": "stream",
     "text": [
      "[1, 2, 3, 1, 2, 3]\n",
      "[2, 4, 6]\n",
      "[2 4 6]\n"
     ]
    }
   ],
   "source": [
    "l =[1,2,3]\n",
    "print(l*2) # this doesn't work \n",
    "idx =0\n",
    "for i in l:\n",
    "    l[idx]= i *2\n",
    "    idx = idx + 1\n",
    "print(l)    \n",
    "\n",
    "\n",
    "# to multiply in array \n",
    "print(py_array*2)"
   ]
  },
  {
   "cell_type": "code",
   "execution_count": 7,
   "id": "ad08873f-062d-43d0-b4b8-46ba0eaa0e71",
   "metadata": {},
   "outputs": [
    {
     "data": {
      "text/plain": [
       "array([ True,  True,  True])"
      ]
     },
     "execution_count": 7,
     "metadata": {},
     "output_type": "execute_result"
    }
   ],
   "source": [
    "py_array>0 # check each element of array if it hold condition true or false "
   ]
  },
  {
   "cell_type": "code",
   "execution_count": null,
   "id": "660859c6-ffe7-4d93-b168-2c962936c6e8",
   "metadata": {},
   "outputs": [],
   "source": []
  }
 ],
 "metadata": {
  "kernelspec": {
   "display_name": "Python 3 (ipykernel)",
   "language": "python",
   "name": "python3"
  },
  "language_info": {
   "codemirror_mode": {
    "name": "ipython",
    "version": 3
   },
   "file_extension": ".py",
   "mimetype": "text/x-python",
   "name": "python",
   "nbconvert_exporter": "python",
   "pygments_lexer": "ipython3",
   "version": "3.12.9"
  }
 },
 "nbformat": 4,
 "nbformat_minor": 5
}
