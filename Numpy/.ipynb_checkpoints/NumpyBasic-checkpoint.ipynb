{
 "cells": [
  {
   "cell_type": "markdown",
   "id": "88f68fe1-3ae3-4c5f-a677-acd41915118a",
   "metadata": {},
   "source": [
    "# Numpy\n",
    "```\n",
    "pip install numpy\n",
    "```\n",
    "\n",
    "- Mathematical Calculations\n",
    "- Numpy Array Creation\n",
    "- Shape\n",
    "- indexing\n",
    "- data types: b,i,u,f,c,m,M,O,S,u,V (https://numpy.org/doc/1.25/reference/arrays.dtypes.html#arrays-dtypes)\n",
    "- more creation methods: arange, linspace, ones, zeros, eye, diag\n",
    "- random numbers: Numpy Random Module\n",
    "    - rand: Random values in given shape\n",
    "    - randn: Return samples from the Standard normal distribution\n",
    "    - randint: Return random integer from low(inclusive) to high(exclusive)\n",
    "    - random: Return random floats in [0.0,1.0)\n",
    "    - choice: Generates a random sample from given 1D array\n",
    "    - Shuffle: Shuffle the contents of the sequence. Discuss np.random.seed()\n",
    "- reshape: -1 for unknown\n",
    "- slicing and assignment\n",
    "- copy and view: share_memory\n",
    "- operators(Element wise operations)\n",
    "- and: &, or: |, not: ~ (Bitwise works same as logical in case of boolean Values)\n",
    "- shape mismatch\n",
    "- fancy indexing also know as filter\n",
    "- search: where uses fancy indexing\n",
    "- Basic reductions: sum, min, max, any, all,argmax, argmin\n",
    "- Some More Numpy Functions - Statistics: mean, median, average, variance, standard deviation\n",
    "- iteration: nditer, ndenumerate\n",
    "- Join: concatenate, stack, hstack, vstack. Note: make a tuple of arays you want to join\n",
    "- split: array_split, hsplit\n",
    "- sort: np.sort\n",
    "- Broadcasting\n",
    "- Input from Text File\n",
    "- Questions"
   ]
  },
  {
   "cell_type": "code",
   "execution_count": 3,
   "id": "c2e132a5-77f0-43b8-b214-4e69ef7ac485",
   "metadata": {},
   "outputs": [
    {
     "name": "stdout",
     "output_type": "stream",
     "text": [
      "Requirement already satisfied: numpy in c:\\users\\dell\\appdata\\local\\programs\\python\\python312\\lib\\site-packages (2.2.4)\n"
     ]
    },
    {
     "name": "stderr",
     "output_type": "stream",
     "text": [
      "\n",
      "[notice] A new release of pip is available: 24.3.1 -> 25.0.1\n",
      "[notice] To update, run: python.exe -m pip install --upgrade pip\n"
     ]
    }
   ],
   "source": [
    "!pip install numpy"
   ]
  },
  {
   "cell_type": "code",
   "execution_count": 4,
   "id": "42b41fb4-f6f6-4595-b8ea-54202834ee19",
   "metadata": {},
   "outputs": [
    {
     "name": "stdout",
     "output_type": "stream",
     "text": [
      "2.2.4\n"
     ]
    }
   ],
   "source": [
    "import numpy as np\n",
    "print(np.__version__)"
   ]
  },
  {
   "cell_type": "code",
   "execution_count": 5,
   "id": "17abceff-a568-4e51-947f-ee78a90ab75d",
   "metadata": {},
   "outputs": [],
   "source": [
    "l1 = [1,2,3,4]\n",
    "l2 = [[1,2],[3,4],[5,6]]\n",
    "l3 = [[[10,20],[30,40]],[[1,2],[3,4]],[[1,2],[3,4]]]"
   ]
  },
  {
   "cell_type": "code",
   "execution_count": 6,
   "id": "78e7f8b2-938a-4930-a484-343c28fdd1ec",
   "metadata": {},
   "outputs": [],
   "source": [
    "n1 = np.array(l1,dtype='f8')\n",
    "n2 = np.array(l2,dtype='i1')#1 2 4 8\n",
    "n3 = np.array(l3)"
   ]
  },
  {
   "cell_type": "code",
   "execution_count": 7,
   "id": "b63cf723-51f6-4efe-aa10-d0faf59fd19a",
   "metadata": {},
   "outputs": [
    {
     "data": {
      "text/plain": [
       "dtype('int8')"
      ]
     },
     "execution_count": 7,
     "metadata": {},
     "output_type": "execute_result"
    }
   ],
   "source": [
    "n2.dtype"
   ]
  },
  {
   "cell_type": "code",
   "execution_count": 8,
   "id": "731abf98-6f46-48d8-bd23-7bca5d785253",
   "metadata": {},
   "outputs": [
    {
     "data": {
      "text/plain": [
       "(3, 2)"
      ]
     },
     "execution_count": 8,
     "metadata": {},
     "output_type": "execute_result"
    }
   ],
   "source": [
    "n2.shape"
   ]
  },
  {
   "cell_type": "code",
   "execution_count": 9,
   "id": "e603365e-095f-4396-9ee1-07478084ac74",
   "metadata": {},
   "outputs": [
    {
     "data": {
      "text/plain": [
       "(3, 2, 2)"
      ]
     },
     "execution_count": 9,
     "metadata": {},
     "output_type": "execute_result"
    }
   ],
   "source": [
    "n3.shape"
   ]
  },
  {
   "cell_type": "code",
   "execution_count": 10,
   "id": "62792ea1-5a4c-45d6-9480-5bf9ad41cc16",
   "metadata": {},
   "outputs": [
    {
     "name": "stdout",
     "output_type": "stream",
     "text": [
      "3 3.0\n"
     ]
    }
   ],
   "source": [
    "print(l1[2],n1[2])"
   ]
  },
  {
   "cell_type": "code",
   "execution_count": 11,
   "id": "33c115f4-46c5-4f33-936f-9dc2218877b9",
   "metadata": {},
   "outputs": [
    {
     "name": "stdout",
     "output_type": "stream",
     "text": [
      "4 4\n"
     ]
    }
   ],
   "source": [
    "# print(l2[1][1], n2[1][1])\n",
    "print(l2[1][1], n2[1,1])"
   ]
  },
  {
   "cell_type": "code",
   "execution_count": 12,
   "id": "796f7e75-90ff-42b5-99d5-831005247f60",
   "metadata": {},
   "outputs": [
    {
     "name": "stdout",
     "output_type": "stream",
     "text": [
      "30 30\n"
     ]
    }
   ],
   "source": [
    "print(l3[0][1][0],n3[0,1,0])"
   ]
  },
  {
   "cell_type": "code",
   "execution_count": 13,
   "id": "304525cc-bfbb-4cfb-af5b-cad39b38834f",
   "metadata": {},
   "outputs": [
    {
     "data": {
      "text/plain": [
       "[3, 4]"
      ]
     },
     "execution_count": 13,
     "metadata": {},
     "output_type": "execute_result"
    }
   ],
   "source": [
    "l2[1]"
   ]
  },
  {
   "cell_type": "code",
   "execution_count": 14,
   "id": "b098e52c-b092-4e6e-b2e7-2c0125c784de",
   "metadata": {},
   "outputs": [
    {
     "data": {
      "text/plain": [
       "array([3, 4], dtype=int8)"
      ]
     },
     "execution_count": 14,
     "metadata": {},
     "output_type": "execute_result"
    }
   ],
   "source": [
    "n2[1]"
   ]
  },
  {
   "cell_type": "code",
   "execution_count": 15,
   "id": "4c339046-d531-479d-9869-348582b4d1f3",
   "metadata": {},
   "outputs": [
    {
     "ename": "IndexError",
     "evalue": "too many indices for array: array is 2-dimensional, but 3 were indexed",
     "output_type": "error",
     "traceback": [
      "\u001b[1;31m---------------------------------------------------------------------------\u001b[0m",
      "\u001b[1;31mIndexError\u001b[0m                                Traceback (most recent call last)",
      "Cell \u001b[1;32mIn[15], line 1\u001b[0m\n\u001b[1;32m----> 1\u001b[0m \u001b[43mn2\u001b[49m\u001b[43m[\u001b[49m\u001b[38;5;241;43m1\u001b[39;49m\u001b[43m,\u001b[49m\u001b[38;5;241;43m2\u001b[39;49m\u001b[43m,\u001b[49m\u001b[38;5;241;43m1\u001b[39;49m\u001b[43m]\u001b[49m\n",
      "\u001b[1;31mIndexError\u001b[0m: too many indices for array: array is 2-dimensional, but 3 were indexed"
     ]
    }
   ],
   "source": [
    "n2[1,2,1]"
   ]
  },
  {
   "cell_type": "code",
   "execution_count": null,
   "id": "b6109428-e148-4dc4-85e1-8e8e8662f3d8",
   "metadata": {},
   "outputs": [],
   "source": []
  },
  {
   "cell_type": "markdown",
   "id": "c6aacd24-d43f-4657-a07d-0e169d656a08",
   "metadata": {},
   "source": [
    "more creation methods: arange, linspace, ones, zeros, eye, diag"
   ]
  },
  {
   "cell_type": "code",
   "execution_count": 16,
   "id": "52b7e252-925b-4746-8fb9-38371ddc2587",
   "metadata": {},
   "outputs": [],
   "source": [
    "narr = np.arange(1,11)"
   ]
  },
  {
   "cell_type": "code",
   "execution_count": 17,
   "id": "9c4ecb2b-db6a-42cd-87d2-8f3662db67b6",
   "metadata": {},
   "outputs": [
    {
     "data": {
      "text/plain": [
       "array([ 1,  2,  3,  4,  5,  6,  7,  8,  9, 10])"
      ]
     },
     "execution_count": 17,
     "metadata": {},
     "output_type": "execute_result"
    }
   ],
   "source": [
    "narr"
   ]
  },
  {
   "cell_type": "code",
   "execution_count": 18,
   "id": "825437fc-ba55-4f92-9407-ee7baff6ceb0",
   "metadata": {},
   "outputs": [
    {
     "data": {
      "text/plain": [
       "array([ 1.  ,  3.25,  5.5 ,  7.75, 10.  ])"
      ]
     },
     "execution_count": 18,
     "metadata": {},
     "output_type": "execute_result"
    }
   ],
   "source": [
    "np.linspace(1,10,5)"
   ]
  },
  {
   "cell_type": "code",
   "execution_count": 19,
   "id": "c30b7c13-e634-4465-b555-41be609e0e26",
   "metadata": {},
   "outputs": [
    {
     "data": {
      "text/plain": [
       "array([[1., 1.],\n",
       "       [1., 1.],\n",
       "       [1., 1.],\n",
       "       [1., 1.],\n",
       "       [1., 1.]])"
      ]
     },
     "execution_count": 19,
     "metadata": {},
     "output_type": "execute_result"
    }
   ],
   "source": [
    "np.ones(shape = (5,2))"
   ]
  },
  {
   "cell_type": "code",
   "execution_count": 20,
   "id": "8ea3def9-d99f-4982-9493-334d2f04fbc0",
   "metadata": {},
   "outputs": [
    {
     "data": {
      "text/plain": [
       "array([[0., 0.],\n",
       "       [0., 0.],\n",
       "       [0., 0.],\n",
       "       [0., 0.],\n",
       "       [0., 0.]])"
      ]
     },
     "execution_count": 20,
     "metadata": {},
     "output_type": "execute_result"
    }
   ],
   "source": [
    "np.zeros(shape=(5,2))"
   ]
  },
  {
   "cell_type": "code",
   "execution_count": 21,
   "id": "714dc562-fd05-4055-bcbe-e0b55178bc7f",
   "metadata": {},
   "outputs": [
    {
     "data": {
      "text/plain": [
       "array([[1., 0., 0., 0., 0.],\n",
       "       [0., 1., 0., 0., 0.]])"
      ]
     },
     "execution_count": 21,
     "metadata": {},
     "output_type": "execute_result"
    }
   ],
   "source": [
    "np.eye(2,5)"
   ]
  },
  {
   "cell_type": "code",
   "execution_count": 22,
   "id": "619ad240-c542-4146-9b61-bc1b6b06d8a1",
   "metadata": {},
   "outputs": [
    {
     "data": {
      "text/plain": [
       "array([[1, 0, 0, 0],\n",
       "       [0, 2, 0, 0],\n",
       "       [0, 0, 3, 0],\n",
       "       [0, 0, 0, 4]])"
      ]
     },
     "execution_count": 22,
     "metadata": {},
     "output_type": "execute_result"
    }
   ],
   "source": [
    "np.diag([1,2,3,4])"
   ]
  },
  {
   "cell_type": "code",
   "execution_count": 23,
   "id": "21235723-c125-4f8d-87f9-dd52f59067f0",
   "metadata": {},
   "outputs": [],
   "source": [
    "narr = np.arange(1,101)"
   ]
  },
  {
   "cell_type": "code",
   "execution_count": 24,
   "id": "08283886-c06e-487e-b74f-a7c033fe1da4",
   "metadata": {},
   "outputs": [],
   "source": [
    "narr = narr.reshape((10,10))"
   ]
  },
  {
   "cell_type": "code",
   "execution_count": 25,
   "id": "315cf792-46ba-40e6-89fc-4e2a3db5fb78",
   "metadata": {},
   "outputs": [
    {
     "data": {
      "text/plain": [
       "(10, 10)"
      ]
     },
     "execution_count": 25,
     "metadata": {},
     "output_type": "execute_result"
    }
   ],
   "source": [
    "narr.shape"
   ]
  },
  {
   "cell_type": "code",
   "execution_count": 26,
   "id": "9748a181-552c-4fcf-af8f-128e7decff68",
   "metadata": {},
   "outputs": [
    {
     "data": {
      "text/plain": [
       "array([[  1,   2,   3,   4,   5,   6,   7,   8,   9,  10],\n",
       "       [ 11,  12,  13,  14,  15,  16,  17,  18,  19,  20],\n",
       "       [ 21,  22,  23,  24,  25,  26,  27,  28,  29,  30],\n",
       "       [ 31,  32,  33,  34,  35,  36,  37,  38,  39,  40],\n",
       "       [ 41,  42,  43,  44,  45,  46,  47,  48,  49,  50],\n",
       "       [ 51,  52,  53,  54,  55,  56,  57,  58,  59,  60],\n",
       "       [ 61,  62,  63,  64,  65,  66,  67,  68,  69,  70],\n",
       "       [ 71,  72,  73,  74,  75,  76,  77,  78,  79,  80],\n",
       "       [ 81,  82,  83,  84,  85,  86,  87,  88,  89,  90],\n",
       "       [ 91,  92,  93,  94,  95,  96,  97,  98,  99, 100]])"
      ]
     },
     "execution_count": 26,
     "metadata": {},
     "output_type": "execute_result"
    }
   ],
   "source": [
    "narr"
   ]
  },
  {
   "cell_type": "markdown",
   "id": "c12aef9e-c71e-4322-bbe2-28505bcc8d86",
   "metadata": {},
   "source": [
    "random numbers: Numpy Random Module\n",
    "- rand: Random values in given shape\n",
    "- randn: Return samples from the Standard normal distribution\n",
    "- randint: Return random integer from low(inclusive) to high(exclusive)\n",
    "- random: Return random floats in [0.0,1.0)\n",
    "- choice: Generates a random sample from given 1D array\n",
    "- Shuffle: Shuffle the contents of the sequence. Discuss np.random.seed()"
   ]
  },
  {
   "cell_type": "code",
   "execution_count": 27,
   "id": "ea1867ce-062b-49a3-9e93-39c1eb625660",
   "metadata": {},
   "outputs": [
    {
     "data": {
      "text/plain": [
       "array([[[0.44743793, 0.13202534],\n",
       "        [0.5549649 , 0.94354017]],\n",
       "\n",
       "       [[0.44876383, 0.11220265],\n",
       "        [0.13273688, 0.54247703]],\n",
       "\n",
       "       [[0.90754627, 0.62136115],\n",
       "        [0.0337768 , 0.04369839]]])"
      ]
     },
     "execution_count": 27,
     "metadata": {},
     "output_type": "execute_result"
    }
   ],
   "source": [
    "np.random.rand(3,2,2)"
   ]
  },
  {
   "cell_type": "code",
   "execution_count": 28,
   "id": "2cb9b256-1ddf-456f-a102-22c82bf8e7e8",
   "metadata": {},
   "outputs": [
    {
     "data": {
      "text/plain": [
       "array([[[-0.33270053,  1.06851018],\n",
       "        [ 1.43791909,  1.22350879]],\n",
       "\n",
       "       [[ 0.11974231, -1.41940127],\n",
       "        [-1.7462596 ,  0.95819194]],\n",
       "\n",
       "       [[-1.49915262, -0.40121185],\n",
       "        [-1.5598713 , -0.58106835]]])"
      ]
     },
     "execution_count": 28,
     "metadata": {},
     "output_type": "execute_result"
    }
   ],
   "source": [
    "np.random.randn(3,2,2)"
   ]
  },
  {
   "cell_type": "code",
   "execution_count": 29,
   "id": "65f69977-7404-4f96-8a12-4de9551d450e",
   "metadata": {},
   "outputs": [
    {
     "data": {
      "text/plain": [
       "array([[44, 92],\n",
       "       [68, 60],\n",
       "       [41, 62],\n",
       "       [42, 18],\n",
       "       [52, 94]], dtype=int32)"
      ]
     },
     "execution_count": 29,
     "metadata": {},
     "output_type": "execute_result"
    }
   ],
   "source": [
    "np.random.randint(1,101,size=(5,2))"
   ]
  },
  {
   "cell_type": "code",
   "execution_count": 30,
   "id": "2e6d60c8-3a10-4fe5-8fd4-eb64b9d56329",
   "metadata": {},
   "outputs": [
    {
     "data": {
      "text/plain": [
       "array([[0.91611781, 0.17028128],\n",
       "       [0.07873463, 0.36324784],\n",
       "       [0.44541739, 0.48803725],\n",
       "       [0.1140951 , 0.59261062],\n",
       "       [0.02800026, 0.19529321]])"
      ]
     },
     "execution_count": 30,
     "metadata": {},
     "output_type": "execute_result"
    }
   ],
   "source": [
    "np.random.random(size=(5,2))"
   ]
  },
  {
   "cell_type": "code",
   "execution_count": 31,
   "id": "783f20c3-409f-4000-93dc-0516d556184b",
   "metadata": {},
   "outputs": [
    {
     "data": {
      "text/plain": [
       "array([7, 6, 6, 6, 7])"
      ]
     },
     "execution_count": 31,
     "metadata": {},
     "output_type": "execute_result"
    }
   ],
   "source": [
    "np.random.choice(np.array([1,2,3,4,5,6,7,8,9]),size=(5,),replace = True,p = [0,0,0,0,0.3,0.3,0.1,0.3,0])"
   ]
  },
  {
   "cell_type": "code",
   "execution_count": 32,
   "id": "743a2b90-e737-40bd-9101-14d1f4dabca3",
   "metadata": {},
   "outputs": [],
   "source": [
    "narr = np.arange(1,101).reshape((10,10))\n",
    "np.random.shuffle(narr)"
   ]
  },
  {
   "cell_type": "code",
   "execution_count": 33,
   "id": "d509f0f2-ff83-4afb-a860-3f0d5d547d93",
   "metadata": {},
   "outputs": [
    {
     "data": {
      "text/plain": [
       "array([[ 11,  12,  13,  14,  15,  16,  17,  18,  19,  20],\n",
       "       [ 61,  62,  63,  64,  65,  66,  67,  68,  69,  70],\n",
       "       [ 31,  32,  33,  34,  35,  36,  37,  38,  39,  40],\n",
       "       [  1,   2,   3,   4,   5,   6,   7,   8,   9,  10],\n",
       "       [ 21,  22,  23,  24,  25,  26,  27,  28,  29,  30],\n",
       "       [ 91,  92,  93,  94,  95,  96,  97,  98,  99, 100],\n",
       "       [ 41,  42,  43,  44,  45,  46,  47,  48,  49,  50],\n",
       "       [ 51,  52,  53,  54,  55,  56,  57,  58,  59,  60],\n",
       "       [ 81,  82,  83,  84,  85,  86,  87,  88,  89,  90],\n",
       "       [ 71,  72,  73,  74,  75,  76,  77,  78,  79,  80]])"
      ]
     },
     "execution_count": 33,
     "metadata": {},
     "output_type": "execute_result"
    }
   ],
   "source": [
    "narr"
   ]
  },
  {
   "cell_type": "code",
   "execution_count": 34,
   "id": "6ce8e61e-ab30-4ba9-9339-c9e3a67d6373",
   "metadata": {},
   "outputs": [],
   "source": [
    "narr = np.arange(1,101)"
   ]
  },
  {
   "cell_type": "code",
   "execution_count": 35,
   "id": "b6bbd985-bf90-441e-8614-90b7f9fa816d",
   "metadata": {},
   "outputs": [],
   "source": [
    "narr = narr.reshape((5,2,-1))"
   ]
  },
  {
   "cell_type": "code",
   "execution_count": 36,
   "id": "209a5cac-0196-4835-baf6-d1d612826919",
   "metadata": {},
   "outputs": [
    {
     "data": {
      "text/plain": [
       "array([[[  1,   2,   3,   4,   5,   6,   7,   8,   9,  10],\n",
       "        [ 11,  12,  13,  14,  15,  16,  17,  18,  19,  20]],\n",
       "\n",
       "       [[ 21,  22,  23,  24,  25,  26,  27,  28,  29,  30],\n",
       "        [ 31,  32,  33,  34,  35,  36,  37,  38,  39,  40]],\n",
       "\n",
       "       [[ 41,  42,  43,  44,  45,  46,  47,  48,  49,  50],\n",
       "        [ 51,  52,  53,  54,  55,  56,  57,  58,  59,  60]],\n",
       "\n",
       "       [[ 61,  62,  63,  64,  65,  66,  67,  68,  69,  70],\n",
       "        [ 71,  72,  73,  74,  75,  76,  77,  78,  79,  80]],\n",
       "\n",
       "       [[ 81,  82,  83,  84,  85,  86,  87,  88,  89,  90],\n",
       "        [ 91,  92,  93,  94,  95,  96,  97,  98,  99, 100]]])"
      ]
     },
     "execution_count": 36,
     "metadata": {},
     "output_type": "execute_result"
    }
   ],
   "source": [
    "narr"
   ]
  },
  {
   "cell_type": "code",
   "execution_count": 37,
   "id": "587ea34a-056d-4655-9a17-194bc276c00c",
   "metadata": {},
   "outputs": [
    {
     "data": {
      "text/plain": [
       "array([  1,   2,   3,   4,   5,   6,   7,   8,   9,  10,  11,  12,  13,\n",
       "        14,  15,  16,  17,  18,  19,  20,  21,  22,  23,  24,  25,  26,\n",
       "        27,  28,  29,  30,  31,  32,  33,  34,  35,  36,  37,  38,  39,\n",
       "        40,  41,  42,  43,  44,  45,  46,  47,  48,  49,  50,  51,  52,\n",
       "        53,  54,  55,  56,  57,  58,  59,  60,  61,  62,  63,  64,  65,\n",
       "        66,  67,  68,  69,  70,  71,  72,  73,  74,  75,  76,  77,  78,\n",
       "        79,  80,  81,  82,  83,  84,  85,  86,  87,  88,  89,  90,  91,\n",
       "        92,  93,  94,  95,  96,  97,  98,  99, 100])"
      ]
     },
     "execution_count": 37,
     "metadata": {},
     "output_type": "execute_result"
    }
   ],
   "source": [
    "narr.reshape((-1,))"
   ]
  },
  {
   "cell_type": "code",
   "execution_count": 38,
   "id": "925f9a74-5267-41d9-97fa-5cbe9f44a324",
   "metadata": {},
   "outputs": [],
   "source": [
    "narr[1,1,4] = 350"
   ]
  },
  {
   "cell_type": "code",
   "execution_count": 39,
   "id": "74694765-c3b2-408f-8064-cd4d15c5d097",
   "metadata": {},
   "outputs": [
    {
     "data": {
      "text/plain": [
       "array([[[  1,   2,   3,   4,   5,   6,   7,   8,   9,  10],\n",
       "        [ 11,  12,  13,  14,  15,  16,  17,  18,  19,  20]],\n",
       "\n",
       "       [[ 21,  22,  23,  24,  25,  26,  27,  28,  29,  30],\n",
       "        [ 31,  32,  33,  34, 350,  36,  37,  38,  39,  40]],\n",
       "\n",
       "       [[ 41,  42,  43,  44,  45,  46,  47,  48,  49,  50],\n",
       "        [ 51,  52,  53,  54,  55,  56,  57,  58,  59,  60]],\n",
       "\n",
       "       [[ 61,  62,  63,  64,  65,  66,  67,  68,  69,  70],\n",
       "        [ 71,  72,  73,  74,  75,  76,  77,  78,  79,  80]],\n",
       "\n",
       "       [[ 81,  82,  83,  84,  85,  86,  87,  88,  89,  90],\n",
       "        [ 91,  92,  93,  94,  95,  96,  97,  98,  99, 100]]])"
      ]
     },
     "execution_count": 39,
     "metadata": {},
     "output_type": "execute_result"
    }
   ],
   "source": [
    "narr"
   ]
  },
  {
   "cell_type": "code",
   "execution_count": 40,
   "id": "7a2dbb57-4865-499f-92e3-3079c571673f",
   "metadata": {},
   "outputs": [],
   "source": [
    "narr = narr.reshape((5,2,-1))"
   ]
  },
  {
   "cell_type": "code",
   "execution_count": 41,
   "id": "14e4685f-109a-4637-a874-0c2f89f268a5",
   "metadata": {},
   "outputs": [],
   "source": [
    "narr[1,1,4] = 350"
   ]
  },
  {
   "cell_type": "code",
   "execution_count": 42,
   "id": "ac874630-44d4-436f-9173-26ebcc554c1e",
   "metadata": {},
   "outputs": [
    {
     "data": {
      "text/plain": [
       "array([[[ 23,  24,  25,  26],\n",
       "        [ 33,  34, 350,  36]],\n",
       "\n",
       "       [[ 43,  44,  45,  46],\n",
       "        [ 53,  54,  55,  56]],\n",
       "\n",
       "       [[ 63,  64,  65,  66],\n",
       "        [ 73,  74,  75,  76]]])"
      ]
     },
     "execution_count": 42,
     "metadata": {},
     "output_type": "execute_result"
    }
   ],
   "source": [
    "narr[1:4,:,2:6]"
   ]
  },
  {
   "cell_type": "code",
   "execution_count": 43,
   "id": "639fa93d-9142-4334-a53f-5f156986a41f",
   "metadata": {},
   "outputs": [],
   "source": [
    "narr = np.arange(1,101).reshape((10,10))"
   ]
  },
  {
   "cell_type": "code",
   "execution_count": 44,
   "id": "48c64906-91d4-4efc-a293-d5ca7bafdc14",
   "metadata": {},
   "outputs": [],
   "source": [
    "narr[3:7,4:8] = np.eye(4)"
   ]
  },
  {
   "cell_type": "code",
   "execution_count": 45,
   "id": "c210780f-b3b1-4d2a-87f1-ba4f6bc49101",
   "metadata": {},
   "outputs": [
    {
     "data": {
      "text/plain": [
       "array([[  1,   2,   3,   4,   5,   6,   7,   8,   9,  10],\n",
       "       [ 11,  12,  13,  14,  15,  16,  17,  18,  19,  20],\n",
       "       [ 21,  22,  23,  24,  25,  26,  27,  28,  29,  30],\n",
       "       [ 31,  32,  33,  34,   1,   0,   0,   0,  39,  40],\n",
       "       [ 41,  42,  43,  44,   0,   1,   0,   0,  49,  50],\n",
       "       [ 51,  52,  53,  54,   0,   0,   1,   0,  59,  60],\n",
       "       [ 61,  62,  63,  64,   0,   0,   0,   1,  69,  70],\n",
       "       [ 71,  72,  73,  74,  75,  76,  77,  78,  79,  80],\n",
       "       [ 81,  82,  83,  84,  85,  86,  87,  88,  89,  90],\n",
       "       [ 91,  92,  93,  94,  95,  96,  97,  98,  99, 100]])"
      ]
     },
     "execution_count": 45,
     "metadata": {},
     "output_type": "execute_result"
    }
   ],
   "source": [
    "narr"
   ]
  },
  {
   "cell_type": "code",
   "execution_count": 46,
   "id": "bb3bfd76-5ffd-471a-affb-328d1e6fe37b",
   "metadata": {},
   "outputs": [],
   "source": [
    "brr = narr[3:7,4:8].copy()"
   ]
  },
  {
   "cell_type": "code",
   "execution_count": 47,
   "id": "2e6fa4e6-6b4b-49ef-90c0-0013a3967677",
   "metadata": {},
   "outputs": [],
   "source": [
    "brr[1:3,1:3] = np.ones(shape=(2,2))"
   ]
  },
  {
   "cell_type": "code",
   "execution_count": 48,
   "id": "b849ccb2-01b7-46da-990e-b25d2451b0c2",
   "metadata": {},
   "outputs": [
    {
     "data": {
      "text/plain": [
       "array([[1, 0, 0, 0],\n",
       "       [0, 1, 1, 0],\n",
       "       [0, 1, 1, 0],\n",
       "       [0, 0, 0, 1]])"
      ]
     },
     "execution_count": 48,
     "metadata": {},
     "output_type": "execute_result"
    }
   ],
   "source": [
    "brr"
   ]
  },
  {
   "cell_type": "code",
   "execution_count": 49,
   "id": "fd5de7cf-2485-4b3f-a583-6ed5ecaded91",
   "metadata": {},
   "outputs": [
    {
     "data": {
      "text/plain": [
       "array([[  1,   2,   3,   4,   5,   6,   7,   8,   9,  10],\n",
       "       [ 11,  12,  13,  14,  15,  16,  17,  18,  19,  20],\n",
       "       [ 21,  22,  23,  24,  25,  26,  27,  28,  29,  30],\n",
       "       [ 31,  32,  33,  34,   1,   0,   0,   0,  39,  40],\n",
       "       [ 41,  42,  43,  44,   0,   1,   0,   0,  49,  50],\n",
       "       [ 51,  52,  53,  54,   0,   0,   1,   0,  59,  60],\n",
       "       [ 61,  62,  63,  64,   0,   0,   0,   1,  69,  70],\n",
       "       [ 71,  72,  73,  74,  75,  76,  77,  78,  79,  80],\n",
       "       [ 81,  82,  83,  84,  85,  86,  87,  88,  89,  90],\n",
       "       [ 91,  92,  93,  94,  95,  96,  97,  98,  99, 100]])"
      ]
     },
     "execution_count": 49,
     "metadata": {},
     "output_type": "execute_result"
    }
   ],
   "source": [
    "narr"
   ]
  },
  {
   "cell_type": "code",
   "execution_count": 50,
   "id": "f279d451-b6ad-45e6-adbe-d3538dc8e38e",
   "metadata": {},
   "outputs": [],
   "source": [
    "n1 = np.array([1,2,3,4,5])\n",
    "n2 = np.array([10,20,30,40,50])"
   ]
  },
  {
   "cell_type": "code",
   "execution_count": 51,
   "id": "9ec1d865-784a-4e1b-a663-b607515f9577",
   "metadata": {},
   "outputs": [
    {
     "data": {
      "text/plain": [
       "array([False, False, False,  True,  True])"
      ]
     },
     "execution_count": 51,
     "metadata": {},
     "output_type": "execute_result"
    }
   ],
   "source": [
    "n1 > 3"
   ]
  },
  {
   "cell_type": "code",
   "execution_count": 52,
   "id": "b3ea76da-01a3-4122-8928-d3af7c4e5c47",
   "metadata": {},
   "outputs": [
    {
     "data": {
      "text/plain": [
       "array([11, 22, 33, 44, 55])"
      ]
     },
     "execution_count": 52,
     "metadata": {},
     "output_type": "execute_result"
    }
   ],
   "source": [
    "n1+n2"
   ]
  },
  {
   "cell_type": "code",
   "execution_count": 54,
   "id": "4903c60b-1e9b-429c-9350-5d90284d4b93",
   "metadata": {},
   "outputs": [
    {
     "data": {
      "text/plain": [
       "(array([1, 2, 3, 4, 5]), array([10, 20, 30, 40, 50]))"
      ]
     },
     "execution_count": 54,
     "metadata": {},
     "output_type": "execute_result"
    }
   ],
   "source": [
    "n1,n2"
   ]
  },
  {
   "cell_type": "code",
   "execution_count": 56,
   "id": "014daab6-6847-458e-9d75-460e00c530e4",
   "metadata": {},
   "outputs": [
    {
     "data": {
      "text/plain": [
       "(array([[1, 2, 3],\n",
       "        [4, 5, 6]]),\n",
       " array([[1, 2, 3],\n",
       "        [4, 5, 6]]))"
      ]
     },
     "execution_count": 56,
     "metadata": {},
     "output_type": "execute_result"
    }
   ],
   "source": [
    "n1 = np.array([[1,2,3],[4,5,6]])\n",
    "n2 = np.array([[1,2,3],[4,5,6]])\n",
    "n1,n2"
   ]
  },
  {
   "cell_type": "code",
   "execution_count": 82,
   "id": "295c8952-7356-49be-83ad-6859fe49f321",
   "metadata": {},
   "outputs": [
    {
     "name": "stdout",
     "output_type": "stream",
     "text": [
      "[6]\n"
     ]
    }
   ],
   "source": [
    "print(n1[1,[2]]) #fancy indexing"
   ]
  },
  {
   "cell_type": "code",
   "execution_count": 85,
   "id": "39414d2c-3aae-442b-aad6-ab355a33c425",
   "metadata": {},
   "outputs": [
    {
     "name": "stdout",
     "output_type": "stream",
     "text": [
      "[1 3]\n"
     ]
    }
   ],
   "source": [
    "print(n2[[True,False],[True,False,True]])"
   ]
  },
  {
   "cell_type": "markdown",
   "id": "d395f8f2-245e-4128-aad3-857f16935b05",
   "metadata": {},
   "source": [
    "## Filtering in ML"
   ]
  },
  {
   "cell_type": "code",
   "execution_count": 94,
   "id": "92b099ac-4687-451e-82d4-a69052225d12",
   "metadata": {},
   "outputs": [
    {
     "data": {
      "text/plain": [
       "array([ 1,  3,  5,  7,  9, 11, 13, 15, 17, 19, 21])"
      ]
     },
     "execution_count": 94,
     "metadata": {},
     "output_type": "execute_result"
    }
   ],
   "source": [
    "nz = np.arange(1,23,2)\n",
    "nz"
   ]
  },
  {
   "cell_type": "code",
   "execution_count": 96,
   "id": "b6264304-04a5-4e5f-a0f5-bafc90cb1f34",
   "metadata": {},
   "outputs": [
    {
     "data": {
      "text/plain": [
       "array([[ 7,  9],\n",
       "       [11, 13],\n",
       "       [15, 17],\n",
       "       [19, 21]])"
      ]
     },
     "execution_count": 96,
     "metadata": {},
     "output_type": "execute_result"
    }
   ],
   "source": [
    "nz[nz>5].reshape(4,2)"
   ]
  },
  {
   "cell_type": "code",
   "execution_count": 111,
   "id": "464094ae-1f9e-459e-b039-1aa748b8d1ae",
   "metadata": {},
   "outputs": [
    {
     "data": {
      "text/plain": [
       "array([[[ 1,  2],\n",
       "        [ 3,  4],\n",
       "        [ 5,  6]],\n",
       "\n",
       "       [[11, 22],\n",
       "        [33, 44],\n",
       "        [55, 66]]])"
      ]
     },
     "execution_count": 111,
     "metadata": {},
     "output_type": "execute_result"
    }
   ],
   "source": [
    "nh =np.array( [[[1,2],[3,4],[5,6]],[[11,22],[33,44],[55,66]]])\n",
    "nh\n",
    "#Learn about axis \n",
    "\n",
    "\n"
   ]
  },
  {
   "cell_type": "code",
   "execution_count": 112,
   "id": "3f778420-4c6e-44e6-a2c7-a503f0e4c3b5",
   "metadata": {},
   "outputs": [],
   "source": [
    "### nditer"
   ]
  },
  {
   "cell_type": "code",
   "execution_count": 115,
   "id": "b425e367-1a96-40b7-a2f8-9eb97a6b2eb2",
   "metadata": {},
   "outputs": [
    {
     "name": "stdout",
     "output_type": "stream",
     "text": [
      "1\n",
      "2\n",
      "3\n",
      "4\n",
      "5\n",
      "6\n",
      "11\n",
      "22\n",
      "33\n",
      "44\n",
      "55\n",
      "66\n",
      "((0, 0, 0), np.int64(1))\n",
      "((0, 0, 1), np.int64(2))\n",
      "((0, 1, 0), np.int64(3))\n",
      "((0, 1, 1), np.int64(4))\n",
      "((0, 2, 0), np.int64(5))\n",
      "((0, 2, 1), np.int64(6))\n",
      "((1, 0, 0), np.int64(11))\n",
      "((1, 0, 1), np.int64(22))\n",
      "((1, 1, 0), np.int64(33))\n",
      "((1, 1, 1), np.int64(44))\n",
      "((1, 2, 0), np.int64(55))\n",
      "((1, 2, 1), np.int64(66))\n"
     ]
    }
   ],
   "source": [
    "for t in np.nditer(nh):\n",
    "    print(t)\n",
    "for t in np.ndenumerate(nh):\n",
    "    #prints index and value\n",
    "    print(t)"
   ]
  },
  {
   "cell_type": "code",
   "execution_count": 116,
   "id": "31fec96a-d123-4e7d-bfda-1737c7667d49",
   "metadata": {},
   "outputs": [],
   "source": [
    "#TO merge column and rows of any array "
   ]
  },
  {
   "cell_type": "code",
   "execution_count": 121,
   "id": "d01ef11f-beb0-4a3d-990e-a708693976e8",
   "metadata": {},
   "outputs": [
    {
     "data": {
      "text/plain": [
       "array([[1, 2, 3]])"
      ]
     },
     "execution_count": 121,
     "metadata": {},
     "output_type": "execute_result"
    }
   ],
   "source": [
    "n1=n1[:1]\n",
    "n1"
   ]
  },
  {
   "cell_type": "code",
   "execution_count": 124,
   "id": "29fcdeae-b8a6-4a73-a53e-0e94b0c02008",
   "metadata": {},
   "outputs": [
    {
     "data": {
      "text/plain": [
       "array([[1, 2, 3]])"
      ]
     },
     "execution_count": 124,
     "metadata": {},
     "output_type": "execute_result"
    }
   ],
   "source": [
    "n2=n2[:1]\n",
    "n2"
   ]
  },
  {
   "cell_type": "code",
   "execution_count": 125,
   "id": "ce6a0dca-0862-4876-9e60-a1b712d7184c",
   "metadata": {},
   "outputs": [
    {
     "data": {
      "text/plain": [
       "array([[1, 2, 3],\n",
       "       [1, 2, 3]])"
      ]
     },
     "execution_count": 125,
     "metadata": {},
     "output_type": "execute_result"
    }
   ],
   "source": [
    "np.vstack((n1,n2))"
   ]
  },
  {
   "cell_type": "code",
   "execution_count": 126,
   "id": "05f078b4-fcee-4d46-b08f-8edb305051f5",
   "metadata": {},
   "outputs": [
    {
     "data": {
      "text/plain": [
       "array([[1, 2, 3, 1, 2, 3]])"
      ]
     },
     "execution_count": 126,
     "metadata": {},
     "output_type": "execute_result"
    }
   ],
   "source": [
    "np.hstack((n1,n2))"
   ]
  },
  {
   "cell_type": "code",
   "execution_count": 130,
   "id": "4ad38a98-c201-4400-a8c4-01019f496b58",
   "metadata": {},
   "outputs": [
    {
     "data": {
      "text/plain": [
       "array([[1, 2, 3],\n",
       "       [1, 2, 3]])"
      ]
     },
     "execution_count": 130,
     "metadata": {},
     "output_type": "execute_result"
    }
   ],
   "source": [
    "np.concatenate((n1,n2),axis =0)"
   ]
  },
  {
   "cell_type": "code",
   "execution_count": 135,
   "id": "c8958a74-c75e-4b82-aa99-cff3b509ad82",
   "metadata": {},
   "outputs": [
    {
     "data": {
      "text/plain": [
       "array([[[1, 2, 3]],\n",
       "\n",
       "       [[1, 2, 3]]])"
      ]
     },
     "execution_count": 135,
     "metadata": {},
     "output_type": "execute_result"
    }
   ],
   "source": [
    "np.stack((n1,n2),axis =0)"
   ]
  },
  {
   "cell_type": "code",
   "execution_count": 145,
   "id": "23be010d-732c-4bdb-9c7d-6a5c04547982",
   "metadata": {},
   "outputs": [],
   "source": [
    "# np.hsplit(nz)"
   ]
  },
  {
   "cell_type": "code",
   "execution_count": 146,
   "id": "b99d59a1-2984-40f8-a382-7dff75aa4579",
   "metadata": {},
   "outputs": [
    {
     "data": {
      "text/plain": [
       "array([[ 1,  2,  3],\n",
       "       [ 4,  5,  6],\n",
       "       [ 7,  8,  9],\n",
       "       [10, 11, 12]])"
      ]
     },
     "execution_count": 146,
     "metadata": {},
     "output_type": "execute_result"
    }
   ],
   "source": [
    "nq = np.arange(1,13).reshape(4,3)\n",
    "nq"
   ]
  },
  {
   "cell_type": "code",
   "execution_count": 151,
   "id": "d4015d27-6a70-4673-ab36-9e78e2cc1ef4",
   "metadata": {},
   "outputs": [
    {
     "name": "stdout",
     "output_type": "stream",
     "text": [
      "[[ 2  4  6]\n",
      " [ 5  7  9]\n",
      " [ 8 10 12]\n",
      " [11 13 15]]\n"
     ]
    }
   ],
   "source": [
    "print(nq+ np.array([1,2,3]))"
   ]
  },
  {
   "cell_type": "code",
   "execution_count": 153,
   "id": "bfc63da9-af5f-4124-bc56-bc4f181144f2",
   "metadata": {},
   "outputs": [
    {
     "name": "stdout",
     "output_type": "stream",
     "text": [
      "[[11 12 13]\n",
      " [14 15 16]\n",
      " [17 18 19]\n",
      " [20 21 22]]\n"
     ]
    }
   ],
   "source": [
    "#Broadcasting took place above and every time we have either 1 row or 1 column\n",
    "#For broadcasting 1 para should be same and other should be 1\n",
    "print(nq+ np.array([[10],[10],[10],[10]]))"
   ]
  },
  {
   "cell_type": "code",
   "execution_count": 157,
   "id": "965aea61-34b9-438c-a16c-a3db683e6d5c",
   "metadata": {},
   "outputs": [
    {
     "data": {
      "text/plain": [
       "array([[11, 12, 13],\n",
       "       [11, 12, 13],\n",
       "       [11, 12, 13],\n",
       "       [11, 12, 13]])"
      ]
     },
     "execution_count": 157,
     "metadata": {},
     "output_type": "execute_result"
    }
   ],
   "source": [
    "np.array([[10],[10],[10],[10]])+np.array([1,2,3])\n",
    "# here this has 4 row but 1 col     this has 1 row 3 col broadcasting for both array to make 4X3"
   ]
  },
  {
   "cell_type": "code",
   "execution_count": 163,
   "id": "a693dc0b-8cfd-479d-ac45-ba014039d33f",
   "metadata": {},
   "outputs": [],
   "source": [
    "aj =np.loadtxt('ted.txt')\n"
   ]
  },
  {
   "cell_type": "code",
   "execution_count": 179,
   "id": "fe336633-3654-4d59-9bfa-371e9035962f",
   "metadata": {},
   "outputs": [
    {
     "name": "stdout",
     "output_type": "stream",
     "text": [
      "[[ 1900. 30000.  4000. 48300.]\n",
      " [ 1901. 47200.  6100. 48200.]\n",
      " [ 1902. 70200.  9800. 41500.]\n",
      " [ 1903. 77400. 35200. 38200.]\n",
      " [ 1904. 36300. 59400. 40600.]\n",
      " [ 1905. 20600. 41700. 39800.]\n",
      " [ 1906. 18100. 19000. 38600.]\n",
      " [ 1907. 21400. 13000. 42300.]\n",
      " [ 1908. 22000.  8300. 44500.]\n",
      " [ 1909. 25400.  9100. 42100.]\n",
      " [ 1910. 27100.  7400. 46000.]\n",
      " [ 1911. 40300.  8000. 46800.]\n",
      " [ 1912. 57000. 12300. 43800.]\n",
      " [ 1913. 76600. 19500. 40900.]\n",
      " [ 1914. 52300. 45700. 39400.]\n",
      " [ 1915. 19500. 51100. 39000.]\n",
      " [ 1916. 11200. 29700. 36700.]\n",
      " [ 1917.  7600. 15800. 41800.]\n",
      " [ 1918. 14600.  9700. 43300.]\n",
      " [ 1919. 16200. 10100. 41300.]\n",
      " [ 1920. 24700.  8600. 47300.]]\n",
      "48300.0\n",
      "30000.0\n",
      "8600.0\n",
      "0\n"
     ]
    }
   ],
   "source": [
    "print(aj)\n",
    "a =np.max(aj[[0,20],[3]])\n",
    "\n",
    "print(a)\n",
    "print(np.max(aj[[0,20],[1]]))\n",
    "print(np.max(aj[[0,20],[2]]))\n",
    "idx =np.argmax(aj[[0,20],[3]])\n",
    "print(idx)\n",
    "# print(aj[])\n"
   ]
  },
  {
   "cell_type": "code",
   "execution_count": 180,
   "id": "2ce75d1d-1d78-403f-a396-cd1841cbbeab",
   "metadata": {},
   "outputs": [],
   "source": [
    "# to print max val and year corresponding to that "
   ]
  },
  {
   "cell_type": "code",
   "execution_count": 181,
   "id": "c07f8a30-881b-42a2-917c-2575ef21a3d1",
   "metadata": {},
   "outputs": [
    {
     "data": {
      "text/plain": [
       "array([ 1920., 77400., 59400., 48300.])"
      ]
     },
     "execution_count": 181,
     "metadata": {},
     "output_type": "execute_result"
    }
   ],
   "source": [
    "# to muliply matrix we use dot()\n",
    "aj.max(axis =0)"
   ]
  },
  {
   "cell_type": "code",
   "execution_count": 183,
   "id": "63a2f5b0-72b9-465b-b078-c373604cb7b7",
   "metadata": {},
   "outputs": [
    {
     "data": {
      "text/plain": [
       "array([1903., 1904., 1900.])"
      ]
     },
     "execution_count": 183,
     "metadata": {},
     "output_type": "execute_result"
    }
   ],
   "source": [
    "aj[:,0][aj.argmax(axis=0)][1:]"
   ]
  },
  {
   "cell_type": "code",
   "execution_count": 184,
   "id": "6228e12b-569f-4d63-957d-4e669fd5531d",
   "metadata": {},
   "outputs": [],
   "source": [
    "# mutiply array using dot product "
   ]
  },
  {
   "cell_type": "code",
   "execution_count": null,
   "id": "69e1802a-72a6-4356-bea5-41a8d31a89da",
   "metadata": {},
   "outputs": [],
   "source": []
  }
 ],
 "metadata": {
  "kernelspec": {
   "display_name": "Python 3 (ipykernel)",
   "language": "python",
   "name": "python3"
  },
  "language_info": {
   "codemirror_mode": {
    "name": "ipython",
    "version": 3
   },
   "file_extension": ".py",
   "mimetype": "text/x-python",
   "name": "python",
   "nbconvert_exporter": "python",
   "pygments_lexer": "ipython3",
   "version": "3.12.9"
  }
 },
 "nbformat": 4,
 "nbformat_minor": 5
}
