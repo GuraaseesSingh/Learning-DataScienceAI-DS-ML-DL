{
 "cells": [
  {
   "cell_type": "code",
   "execution_count": 22,
   "id": "8f06a735-5ec8-4ed3-aa59-feed8c5b0a25",
   "metadata": {},
   "outputs": [
    {
     "name": "stdout",
     "output_type": "stream",
     "text": [
      "<_io.TextIOWrapper name='text.txt' mode='r' encoding='cp1252'>\n"
     ]
    }
   ],
   "source": [
    "#file stream i.e data of file being used or we can say it to be stream \n",
    "file = open('text.txt','r')\n",
    "print(file)"
   ]
  },
  {
   "cell_type": "code",
   "execution_count": 23,
   "id": "406611a4-c5c3-4e44-9810-206527d93623",
   "metadata": {},
   "outputs": [
    {
     "name": "stdout",
     "output_type": "stream",
     "text": [
      "<class '_io.TextIOWrapper'>\n"
     ]
    }
   ],
   "source": [
    "print(type(file))"
   ]
  },
  {
   "cell_type": "code",
   "execution_count": 27,
   "id": "599083d7-ddde-497e-a46d-d5532e0c0b3a",
   "metadata": {},
   "outputs": [
    {
     "data": {
      "text/plain": [
       "'hello user\\nhere is data of file'"
      ]
     },
     "execution_count": 27,
     "metadata": {},
     "output_type": "execute_result"
    }
   ],
   "source": [
    "# file.read()\n",
    "# we can read once as pointer after reading once reaches end of file \n",
    "# to get to 0th char again without opening again to read again we can use seek  and now we can read multiple times \n",
    "file.seek(0)\n",
    "file.read()"
   ]
  },
  {
   "cell_type": "code",
   "execution_count": 28,
   "id": "f235658d-55eb-4f75-8990-b787405745b4",
   "metadata": {},
   "outputs": [],
   "source": [
    "file.close()\n",
    "# after closing we can't read file obviously \n"
   ]
  },
  {
   "cell_type": "code",
   "execution_count": 29,
   "id": "52e5679a-3ab0-4e93-b68d-b5df69e616e4",
   "metadata": {},
   "outputs": [
    {
     "name": "stdout",
     "output_type": "stream",
     "text": [
      "<_io.TextIOWrapper name='text.txt' mode='r' encoding='cp1252'>\n"
     ]
    }
   ],
   "source": [
    "file = open('text.txt','r')\n",
    "print(file)"
   ]
  },
  {
   "cell_type": "code",
   "execution_count": 33,
   "id": "c138add2-5022-4f8d-89d4-24d8ce35b9be",
   "metadata": {},
   "outputs": [
    {
     "data": {
      "text/plain": [
       "'hello user\\n'"
      ]
     },
     "execution_count": 33,
     "metadata": {},
     "output_type": "execute_result"
    }
   ],
   "source": [
    "file.seek(0)\n",
    "file.readline()"
   ]
  },
  {
   "cell_type": "code",
   "execution_count": 37,
   "id": "0aecb121-2621-49e7-bee7-39edab89c021",
   "metadata": {},
   "outputs": [
    {
     "data": {
      "text/plain": [
       "['hello user\\n', 'here is data of file']"
      ]
     },
     "execution_count": 37,
     "metadata": {},
     "output_type": "execute_result"
    }
   ],
   "source": [
    "file.seek(0)\n",
    "file.readlines()"
   ]
  },
  {
   "cell_type": "code",
   "execution_count": 42,
   "id": "8f8e787b-00fc-4158-8ef2-b40e2e46c21b",
   "metadata": {},
   "outputs": [
    {
     "name": "stdout",
     "output_type": "stream",
     "text": [
      "hello user\n",
      "here is data of file"
     ]
    }
   ],
   "source": [
    "file.seek(0)\n",
    "for i in file.readlines():\n",
    "    print(i,end =\"\")\n",
    "    "
   ]
  },
  {
   "cell_type": "code",
   "execution_count": 43,
   "id": "2615a5bf-07f3-40c7-bd31-c0fca2f48b84",
   "metadata": {},
   "outputs": [
    {
     "name": "stdout",
     "output_type": "stream",
     "text": [
      "hello user\n",
      "here is data of file"
     ]
    }
   ],
   "source": [
    "file.seek(0)\n",
    "s = file.readline()\n",
    "while s != \"\":\n",
    "    print(s,end = '')\n",
    "    s = file.readline()"
   ]
  },
  {
   "cell_type": "code",
   "execution_count": 44,
   "id": "6deca97c-88ad-4ac2-a4cf-ef9eb15a360b",
   "metadata": {},
   "outputs": [
    {
     "name": "stdout",
     "output_type": "stream",
     "text": [
      "<_io.TextIOWrapper name='textwrite.txt' mode='w' encoding='cp1252'>\n"
     ]
    }
   ],
   "source": [
    "file = open('textwrite.txt','w')\n",
    "print(file)"
   ]
  },
  {
   "cell_type": "code",
   "execution_count": 50,
   "id": "8ba85125-ca69-4007-9f21-08035c348412",
   "metadata": {},
   "outputs": [],
   "source": [
    "testFile = open('untitled.txt','w')\n",
    "testFile.write('''Writing inside the untitled \n",
    "file and data if already in file of \n",
    "that name is lost and if file with \n",
    "that name is 't there it is made''')\n",
    "testFile.close()"
   ]
  },
  {
   "cell_type": "code",
   "execution_count": 62,
   "id": "cbea922b-71fe-4c8e-9210-54b92257e804",
   "metadata": {},
   "outputs": [],
   "source": [
    "nl1 = open('untitled.txt','r+')\n",
    "for i in nl1.readline():\n",
    "    continue\n",
    "    \n",
    "nl1.write('''After loop of reading all lines we are writing as pointer has reached to '', we can apply while loop as well\n",
    "''')\n",
    "nl1.readline()\n",
    "nl1.close()\n"
   ]
  },
  {
   "cell_type": "code",
   "execution_count": 64,
   "id": "d6028beb-15be-45cf-935c-760c92735a81",
   "metadata": {},
   "outputs": [
    {
     "name": "stdout",
     "output_type": "stream",
     "text": [
      "16\n"
     ]
    }
   ],
   "source": [
    "# to skip close() function to close file we can use with to open using with\n",
    "with open('FileDemo.txt','a+') as file:\n",
    "    print(file.write('FileDemo created'))"
   ]
  },
  {
   "cell_type": "markdown",
   "id": "2d2dbb48-992d-46f8-8b2e-d00d2eb83e2d",
   "metadata": {},
   "source": [
    "JSON is Dictionary in Python"
   ]
  },
  {
   "cell_type": "code",
   "execution_count": 65,
   "id": "ee6d4f8b-c31b-4e91-8a42-a1c9f1db7fd8",
   "metadata": {},
   "outputs": [],
   "source": [
    "js ={\n",
    "    'Ind':91,\n",
    "    'USA':1,\n",
    "    'Nepal':83   \n",
    "}"
   ]
  },
  {
   "cell_type": "code",
   "execution_count": 80,
   "id": "cc3351f6-ec18-4804-91d8-e9ab02fcb20e",
   "metadata": {},
   "outputs": [],
   "source": [
    "import json\n",
    "with open('ne.json', 'r+') as file:\n",
    "    json.dump(js,file)\n",
    "   "
   ]
  },
  {
   "cell_type": "code",
   "execution_count": 81,
   "id": "5a812a45-fada-44cf-9960-46ca8977a138",
   "metadata": {},
   "outputs": [
    {
     "name": "stdout",
     "output_type": "stream",
     "text": [
      "{'Ind': 91, 'USA': 1, 'Nepal': 83} <class 'dict'>\n"
     ]
    }
   ],
   "source": [
    "with open('ne.json', 'r+') as file:\n",
    "    j = json.load(file)\n",
    "    print(j, type(j))"
   ]
  },
  {
   "cell_type": "code",
   "execution_count": 128,
   "id": "4ffeb802-f88f-48e2-9658-687fa55771c5",
   "metadata": {},
   "outputs": [],
   "source": [
    "l = ['s1','s2','s3','s4']\n",
    "with open('Ques.txt','r+') as file:\n",
    "    for i in l:\n",
    "        file.write(i)\n",
    "        file.write(\"\\n\")\n",
    "    "
   ]
  },
  {
   "cell_type": "code",
   "execution_count": 130,
   "id": "384f7e71-3fef-4e55-87c7-44c8f9769b1b",
   "metadata": {},
   "outputs": [
    {
     "name": "stdout",
     "output_type": "stream",
     "text": [
      "['s10', 's20', 's30', 's40']\n"
     ]
    }
   ],
   "source": [
    "l =[]\n",
    "with open('Ques.txt','r') as file:\n",
    "    file.seek(0)\n",
    "    for i in file.readlines():\n",
    "        l.append(i[:-1]+\"0\")\n",
    "print(l)\n",
    "        "
   ]
  },
  {
   "cell_type": "markdown",
   "id": "910e0a2b-1278-4ab4-9358-b47a53083dbf",
   "metadata": {},
   "source": [
    "we can open filesgiving path to the file "
   ]
  },
  {
   "cell_type": "markdown",
   "id": "d84c254d-018f-44ac-969a-f49f6baaee9f",
   "metadata": {},
   "source": [
    "os library can be used for scripting and other os related interactions"
   ]
  },
  {
   "cell_type": "code",
   "execution_count": null,
   "id": "52124938-4927-4954-a476-5f80892bbedb",
   "metadata": {},
   "outputs": [],
   "source": []
  }
 ],
 "metadata": {
  "kernelspec": {
   "display_name": "Python 3 (ipykernel)",
   "language": "python",
   "name": "python3"
  },
  "language_info": {
   "codemirror_mode": {
    "name": "ipython",
    "version": 3
   },
   "file_extension": ".py",
   "mimetype": "text/x-python",
   "name": "python",
   "nbconvert_exporter": "python",
   "pygments_lexer": "ipython3",
   "version": "3.12.9"
  }
 },
 "nbformat": 4,
 "nbformat_minor": 5
}
