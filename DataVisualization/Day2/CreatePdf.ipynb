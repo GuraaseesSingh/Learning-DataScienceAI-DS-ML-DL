{
 "cells": [
  {
   "cell_type": "code",
   "execution_count": 2,
   "id": "9ec00b16-d179-4bc5-8623-982d0f1a7f93",
   "metadata": {},
   "outputs": [
    {
     "name": "stdout",
     "output_type": "stream",
     "text": [
      "Collecting fpdf"
     ]
    },
    {
     "name": "stderr",
     "output_type": "stream",
     "text": [
      "\n",
      "[notice] A new release of pip is available: 24.3.1 -> 25.1.1\n",
      "[notice] To update, run: python.exe -m pip install --upgrade pip\n"
     ]
    },
    {
     "name": "stdout",
     "output_type": "stream",
     "text": [
      "\n",
      "  Downloading fpdf-1.7.2.tar.gz (39 kB)\n",
      "  Installing build dependencies: started\n",
      "  Installing build dependencies: finished with status 'done'\n",
      "  Getting requirements to build wheel: started\n",
      "  Getting requirements to build wheel: finished with status 'done'\n",
      "  Preparing metadata (pyproject.toml): started\n",
      "  Preparing metadata (pyproject.toml): finished with status 'done'\n",
      "Building wheels for collected packages: fpdf\n",
      "  Building wheel for fpdf (pyproject.toml): started\n",
      "  Building wheel for fpdf (pyproject.toml): finished with status 'done'\n",
      "  Created wheel for fpdf: filename=fpdf-1.7.2-py2.py3-none-any.whl size=40770 sha256=e82a57b28df3ae5d979d6ceedcd644d2469aac54724606472f9c059a4c413a65\n",
      "  Stored in directory: c:\\users\\dell\\appdata\\local\\pip\\cache\\wheels\\6e\\62\\11\\dc73d78e40a218ad52e7451f30166e94491be013a7850b5d75\n",
      "Successfully built fpdf\n",
      "Installing collected packages: fpdf\n",
      "Successfully installed fpdf-1.7.2\n"
     ]
    }
   ],
   "source": [
    "!pip install fpdf\n"
   ]
  },
  {
   "cell_type": "code",
   "execution_count": 4,
   "id": "a27dc325-0370-483e-b75b-97d1210fa9cc",
   "metadata": {},
   "outputs": [
    {
     "data": {
      "text/plain": [
       "'May_Study_Schedule.pdf'"
      ]
     },
     "execution_count": 4,
     "metadata": {},
     "output_type": "execute_result"
    }
   ],
   "source": [
    "from fpdf import FPDF\n",
    "\n",
    "# Define the schedule data\n",
    "schedule_data = [\n",
    "    (\"May 5 (Sun)\", \"DBMS Unit 1 (2.5h), Java Unit 1 (2h)\", \"2h Web Dev, 2h GenAI\"),\n",
    "    (\"May 6 (Mon)\", \"PSLP Unit 1 (2.5h), CS Unit 1 (2h)\", \"2.5h Web Dev, 1.5h GenAI\"),\n",
    "    (\"May 7 (Tue)\", \"Java Unit 2 (2.5h), DBMS Unit 2 (2h)\", \"2h Web Dev, 2h GenAI\"),\n",
    "    (\"May 8 (Wed)\", \"PSLP Unit 2 (2.5h), CS Unit 2 (2h)\", \"2.5h Web Dev, 1.5h GenAI\"),\n",
    "    (\"May 9 (Thu)\", \"Rev DBMS + PSLP (2h), TOC Unit 1 Intro (2.5h)\", \"2h Web Dev, 2h GenAI\"),\n",
    "    (\"May 10 (Fri)\", \"TOC Unit 1 cont. (2.5h), Light Java Rev (2h)\", \"3h Web Dev, 1h GenAI\"),\n",
    "    (\"May 11 (Sat)\", \"TOC Unit 2 (2.5h), CS/PSLP recap (2h)\", \"2.5h Web Dev, 1.5h GenAI\"),\n",
    "    (\"May 12 (Sun)\", \"DBMS, Java, CS Summary (2h), TOC Rev (2.5h)\", \"2h Web Dev, 2h GenAI\"),\n",
    "    (\"May 13 (Mon)\", \"TOC Rev (1.5h max, Light Day)\", \"2h Web Dev, 2h GenAI\"),\n",
    "    (\"May 20 (Mon)\", \"TOC Unit 1 recap + Unit 3 intro (4h)\", \"2h Web Dev, 2h GenAI\"),\n",
    "    (\"May 21 (Tue)\", \"TOC Unit 3 cont. (2.5h), DBMS Rev (2h)\", \"3h Web Dev, 1h GenAI\"),\n",
    "    (\"May 22 (Wed)\", \"PSLP Rev (2h), CS Rev (2h), TOC Unit 4 intro (1h)\", \"2.5h Web Dev, 1.5h GenAI\"),\n",
    "    (\"May 23 (Thu)\", \"Java Rev (2h), TOC Unit 4 (2.5h)\", \"2h Web Dev, 2h GenAI\"),\n",
    "    (\"May 24 (Fri)\", \"Mock Test: TOC/DBMS (2.5h), PSLP recap (2h)\", \"3h Web Dev, 1h GenAI\"),\n",
    "    (\"May 25 (Sat)\", \"CS + Java mock (2h), TOC recap (2.5h)\", \"2h Web Dev, 2h GenAI\"),\n",
    "    (\"May 26 (Sun)\", \"Weak Topics Review (4.5h)\", \"2.5h Web Dev, 1.5h GenAI\"),\n",
    "    (\"May 27 (Mon)\", \"DBMS + PSLP Tests (4h)\", \"2h Web Dev, 2h GenAI\"),\n",
    "    (\"May 28 (Tue)\", \"CS Rev (2.5h), TOC recap (2h)\", \"3h Web Dev, 1h GenAI\"),\n",
    "    (\"May 29 (Wed)\", \"All subjects short notes review (5h)\", \"2h Web Dev, 2h GenAI\"),\n",
    "    (\"May 30 (Thu)\", \"Final prep light day (2-3h)\", \"1.5h Web Dev, 1h GenAI\")\n",
    "]\n",
    "\n",
    "# Create PDF\n",
    "pdf = FPDF()\n",
    "pdf.add_page()\n",
    "pdf.set_font(\"Arial\", size=12)\n",
    "pdf.set_auto_page_break(auto=True, margin=15)\n",
    "\n",
    "# Title\n",
    "pdf.set_font(\"Arial\", 'B', 16)\n",
    "pdf.cell(200, 10, \"Study & Skill Schedule: May 5 - May 30\", ln=True, align=\"C\")\n",
    "pdf.ln(10)\n",
    "\n",
    "# Table headers\n",
    "pdf.set_font(\"Arial\", 'B', 12)\n",
    "pdf.cell(45, 10, \"Date\", border=1)\n",
    "pdf.cell(90, 10, \"Academic Focus\", border=1)\n",
    "pdf.cell(55, 10, \"Skill Practice\", border=1)\n",
    "pdf.ln()\n",
    "\n",
    "# Table content\n",
    "pdf.set_font(\"Arial\", size=11)\n",
    "for date, academic, skill in schedule_data:\n",
    "    pdf.cell(45, 10, date, border=1)\n",
    "    pdf.cell(90, 10, academic, border=1)\n",
    "    pdf.cell(55, 10, skill, border=1)\n",
    "    pdf.ln()\n",
    "\n",
    "# Save PDF\n",
    "pdf_path = \"May_Study_Schedule.pdf\"\n",
    "pdf.output(pdf_path)\n",
    "\n",
    "\n",
    "pdf_path\n"
   ]
  },
  {
   "cell_type": "code",
   "execution_count": null,
   "id": "751e7480-7b17-41a7-8ae1-2eb2a6cd4912",
   "metadata": {},
   "outputs": [],
   "source": []
  }
 ],
 "metadata": {
  "kernelspec": {
   "display_name": "Python 3 (ipykernel)",
   "language": "python",
   "name": "python3"
  },
  "language_info": {
   "codemirror_mode": {
    "name": "ipython",
    "version": 3
   },
   "file_extension": ".py",
   "mimetype": "text/x-python",
   "name": "python",
   "nbconvert_exporter": "python",
   "pygments_lexer": "ipython3",
   "version": "3.12.9"
  }
 },
 "nbformat": 4,
 "nbformat_minor": 5
}
