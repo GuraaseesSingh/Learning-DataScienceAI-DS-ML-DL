{
 "cells": [
  {
   "cell_type": "raw",
   "id": "f66bdff9-8994-4abf-b85a-7007f6a02fac",
   "metadata": {},
   "source": [
    "Exploratory Data Analysis"
   ]
  },
  {
   "cell_type": "code",
   "execution_count": 2,
   "id": "a50f4baa-db0f-49e6-951b-6db31cbc8f96",
   "metadata": {},
   "outputs": [],
   "source": [
    "# to distinguish between a flowers' 3 types using ml model "
   ]
  },
  {
   "cell_type": "code",
   "execution_count": null,
   "id": "f711b2a9-260f-4131-9d4c-24195239642e",
   "metadata": {},
   "outputs": [],
   "source": []
  },
  {
   "cell_type": "code",
   "execution_count": null,
   "id": "8a0fd977-8f28-4f5e-9d64-e876b285879b",
   "metadata": {},
   "outputs": [],
   "source": []
  }
 ],
 "metadata": {
  "kernelspec": {
   "display_name": "Python 3 (ipykernel)",
   "language": "python",
   "name": "python3"
  },
  "language_info": {
   "codemirror_mode": {
    "name": "ipython",
    "version": 3
   },
   "file_extension": ".py",
   "mimetype": "text/x-python",
   "name": "python",
   "nbconvert_exporter": "python",
   "pygments_lexer": "ipython3",
   "version": "3.12.9"
  }
 },
 "nbformat": 4,
 "nbformat_minor": 5
}
